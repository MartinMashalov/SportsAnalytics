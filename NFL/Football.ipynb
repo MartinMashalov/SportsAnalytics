{
  "nbformat": 4,
  "nbformat_minor": 0,
  "metadata": {
    "colab": {
      "provenance": [],
      "collapsed_sections": [
        "3wpzZIsTkuLD",
        "dmd9HIEYLPf9",
        "0J5tgAI1d98D",
        "j0rMPqWV3oSd",
        "yyWYRt8H3qU1"
      ],
      "machine_shape": "hm"
    },
    "kernelspec": {
      "name": "python3",
      "display_name": "Python 3"
    },
    "language_info": {
      "name": "python"
    },
    "accelerator": "GPU",
    "gpuClass": "premium"
  },
  "cells": [
    {
      "cell_type": "code",
      "execution_count": null,
      "metadata": {
        "id": "SJ9PlOiSHiE2",
        "colab": {
          "base_uri": "https://localhost:8080/",
          "height": 1000
        },
        "outputId": "95d2e3c7-e4ec-4562-bd21-525929cf84d9"
      },
      "outputs": [
        {
          "output_type": "stream",
          "name": "stdout",
          "text": [
            "Looking in indexes: https://pypi.org/simple, https://us-python.pkg.dev/colab-wheels/public/simple/\n",
            "Collecting pandas==1.2.0\n",
            "  Using cached pandas-1.2.0-cp38-cp38-manylinux1_x86_64.whl (9.7 MB)\n",
            "Requirement already satisfied: pytz>=2017.3 in /usr/local/lib/python3.8/dist-packages (from pandas==1.2.0) (2022.6)\n",
            "Requirement already satisfied: numpy>=1.16.5 in /usr/local/lib/python3.8/dist-packages (from pandas==1.2.0) (1.21.6)\n",
            "Requirement already satisfied: python-dateutil>=2.7.3 in /usr/local/lib/python3.8/dist-packages (from pandas==1.2.0) (2.8.2)\n",
            "Requirement already satisfied: six>=1.5 in /usr/local/lib/python3.8/dist-packages (from python-dateutil>=2.7.3->pandas==1.2.0) (1.15.0)\n",
            "Installing collected packages: pandas\n",
            "  Attempting uninstall: pandas\n",
            "    Found existing installation: pandas 1.5.2\n",
            "    Uninstalling pandas-1.5.2:\n",
            "      Successfully uninstalled pandas-1.5.2\n",
            "\u001b[31mERROR: pip's dependency resolver does not currently take into account all the packages that are installed. This behaviour is the source of the following dependency conflicts.\n",
            "xarray 2022.12.0 requires pandas>=1.3, but you have pandas 1.2.0 which is incompatible.\n",
            "fastparquet 2022.12.0 requires pandas>=1.5.0, but you have pandas 1.2.0 which is incompatible.\u001b[0m\n",
            "Successfully installed pandas-1.2.0\n"
          ]
        },
        {
          "output_type": "display_data",
          "data": {
            "application/vnd.colab-display-data+json": {
              "pip_warning": {
                "packages": [
                  "pandas"
                ]
              }
            }
          },
          "metadata": {}
        },
        {
          "output_type": "stream",
          "name": "stdout",
          "text": [
            "Looking in indexes: https://pypi.org/simple, https://us-python.pkg.dev/colab-wheels/public/simple/\n",
            "Requirement already satisfied: xlrd in /usr/local/lib/python3.8/dist-packages (2.0.1)\n",
            "Looking in indexes: https://pypi.org/simple, https://us-python.pkg.dev/colab-wheels/public/simple/\n",
            "Requirement already satisfied: pandas in /usr/local/lib/python3.8/dist-packages (1.2.0)\n",
            "Collecting pandas\n",
            "  Using cached pandas-1.5.2-cp38-cp38-manylinux_2_17_x86_64.manylinux2014_x86_64.whl (12.2 MB)\n",
            "Requirement already satisfied: pytz>=2020.1 in /usr/local/lib/python3.8/dist-packages (from pandas) (2022.6)\n",
            "Requirement already satisfied: python-dateutil>=2.8.1 in /usr/local/lib/python3.8/dist-packages (from pandas) (2.8.2)\n",
            "Requirement already satisfied: numpy>=1.20.3 in /usr/local/lib/python3.8/dist-packages (from pandas) (1.21.6)\n",
            "Requirement already satisfied: six>=1.5 in /usr/local/lib/python3.8/dist-packages (from python-dateutil>=2.8.1->pandas) (1.15.0)\n",
            "Installing collected packages: pandas\n",
            "  Attempting uninstall: pandas\n",
            "    Found existing installation: pandas 1.2.0\n",
            "    Uninstalling pandas-1.2.0:\n",
            "      Successfully uninstalled pandas-1.2.0\n",
            "Successfully installed pandas-1.5.2\n"
          ]
        },
        {
          "output_type": "display_data",
          "data": {
            "application/vnd.colab-display-data+json": {
              "pip_warning": {
                "packages": [
                  "pandas"
                ]
              }
            }
          },
          "metadata": {}
        },
        {
          "output_type": "stream",
          "name": "stdout",
          "text": [
            "Looking in indexes: https://pypi.org/simple, https://us-python.pkg.dev/colab-wheels/public/simple/\n",
            "Requirement already satisfied: nfl_data_py in /usr/local/lib/python3.8/dist-packages (0.3.0)\n",
            "Requirement already satisfied: appdirs>1 in /usr/local/lib/python3.8/dist-packages (from nfl_data_py) (1.4.4)\n",
            "Requirement already satisfied: fastparquet>0.5 in /usr/local/lib/python3.8/dist-packages (from nfl_data_py) (2022.12.0)\n",
            "Requirement already satisfied: python-snappy>0.5 in /usr/local/lib/python3.8/dist-packages (from nfl_data_py) (0.6.1)\n",
            "Requirement already satisfied: pandas>1 in /usr/local/lib/python3.8/dist-packages (from nfl_data_py) (1.5.2)\n",
            "Requirement already satisfied: fsspec in /usr/local/lib/python3.8/dist-packages (from fastparquet>0.5->nfl_data_py) (2022.11.0)\n",
            "Requirement already satisfied: packaging in /usr/local/lib/python3.8/dist-packages (from fastparquet>0.5->nfl_data_py) (21.3)\n",
            "Requirement already satisfied: cramjam>=2.3 in /usr/local/lib/python3.8/dist-packages (from fastparquet>0.5->nfl_data_py) (2.6.2)\n",
            "Requirement already satisfied: numpy>=1.20.3 in /usr/local/lib/python3.8/dist-packages (from fastparquet>0.5->nfl_data_py) (1.21.6)\n",
            "Requirement already satisfied: python-dateutil>=2.8.1 in /usr/local/lib/python3.8/dist-packages (from pandas>1->nfl_data_py) (2.8.2)\n",
            "Requirement already satisfied: pytz>=2020.1 in /usr/local/lib/python3.8/dist-packages (from pandas>1->nfl_data_py) (2022.6)\n",
            "Requirement already satisfied: six>=1.5 in /usr/local/lib/python3.8/dist-packages (from python-dateutil>=2.8.1->pandas>1->nfl_data_py) (1.15.0)\n",
            "Requirement already satisfied: pyparsing!=3.0.5,>=2.0.2 in /usr/local/lib/python3.8/dist-packages (from packaging->fastparquet>0.5->nfl_data_py) (3.0.9)\n",
            "Looking in indexes: https://pypi.org/simple, https://us-python.pkg.dev/colab-wheels/public/simple/\n",
            "Requirement already satisfied: imbalanced-learn in /usr/local/lib/python3.8/dist-packages (0.8.1)\n",
            "Requirement already satisfied: joblib>=0.11 in /usr/local/lib/python3.8/dist-packages (from imbalanced-learn) (1.2.0)\n",
            "Requirement already satisfied: scikit-learn>=0.24 in /usr/local/lib/python3.8/dist-packages (from imbalanced-learn) (1.0.2)\n",
            "Requirement already satisfied: numpy>=1.13.3 in /usr/local/lib/python3.8/dist-packages (from imbalanced-learn) (1.21.6)\n",
            "Requirement already satisfied: scipy>=0.19.1 in /usr/local/lib/python3.8/dist-packages (from imbalanced-learn) (1.7.3)\n",
            "Requirement already satisfied: threadpoolctl>=2.0.0 in /usr/local/lib/python3.8/dist-packages (from scikit-learn>=0.24->imbalanced-learn) (3.1.0)\n",
            "Looking in indexes: https://pypi.org/simple, https://us-python.pkg.dev/colab-wheels/public/simple/\n",
            "Requirement already satisfied: nflfastpy in /usr/local/lib/python3.8/dist-packages (0.0.14)\n",
            "Requirement already satisfied: matplotlib in /usr/local/lib/python3.8/dist-packages (from nflfastpy) (3.2.2)\n",
            "Requirement already satisfied: pyreadr in /usr/local/lib/python3.8/dist-packages (from nflfastpy) (0.4.7)\n",
            "Requirement already satisfied: requests in /usr/local/lib/python3.8/dist-packages (from nflfastpy) (2.23.0)\n",
            "Requirement already satisfied: pandas in /usr/local/lib/python3.8/dist-packages (from nflfastpy) (1.5.2)\n",
            "Requirement already satisfied: numpy>=1.11 in /usr/local/lib/python3.8/dist-packages (from matplotlib->nflfastpy) (1.21.6)\n",
            "Requirement already satisfied: cycler>=0.10 in /usr/local/lib/python3.8/dist-packages (from matplotlib->nflfastpy) (0.11.0)\n",
            "Requirement already satisfied: kiwisolver>=1.0.1 in /usr/local/lib/python3.8/dist-packages (from matplotlib->nflfastpy) (1.4.4)\n",
            "Requirement already satisfied: python-dateutil>=2.1 in /usr/local/lib/python3.8/dist-packages (from matplotlib->nflfastpy) (2.8.2)\n",
            "Requirement already satisfied: pyparsing!=2.0.4,!=2.1.2,!=2.1.6,>=2.0.1 in /usr/local/lib/python3.8/dist-packages (from matplotlib->nflfastpy) (3.0.9)\n",
            "Requirement already satisfied: six>=1.5 in /usr/local/lib/python3.8/dist-packages (from python-dateutil>=2.1->matplotlib->nflfastpy) (1.15.0)\n",
            "Requirement already satisfied: pytz>=2020.1 in /usr/local/lib/python3.8/dist-packages (from pandas->nflfastpy) (2022.6)\n",
            "Requirement already satisfied: chardet<4,>=3.0.2 in /usr/local/lib/python3.8/dist-packages (from requests->nflfastpy) (3.0.4)\n",
            "Requirement already satisfied: idna<3,>=2.5 in /usr/local/lib/python3.8/dist-packages (from requests->nflfastpy) (2.10)\n",
            "Requirement already satisfied: urllib3!=1.25.0,!=1.25.1,<1.26,>=1.21.1 in /usr/local/lib/python3.8/dist-packages (from requests->nflfastpy) (1.24.3)\n",
            "Requirement already satisfied: certifi>=2017.4.17 in /usr/local/lib/python3.8/dist-packages (from requests->nflfastpy) (2022.12.7)\n",
            "Looking in indexes: https://pypi.org/simple, https://us-python.pkg.dev/colab-wheels/public/simple/\n",
            "Requirement already satisfied: numpy in /usr/local/lib/python3.8/dist-packages (1.21.6)\n"
          ]
        }
      ],
      "source": [
        "!pip install shap\n",
        "!pip install pandas==1.2.0\n",
        "!pip install --upgrade xlrd\n",
        "!pip install --upgrade pandas\n",
        "!pip install nfl_data_py\n",
        "!pip install imbalanced-learn\n",
        "!pip install nflfastpy\n",
        "!pip install numpy"
      ]
    },
    {
      "cell_type": "markdown",
      "source": [
        "## Install and Import Necessary Packages"
      ],
      "metadata": {
        "id": "mkJ4Eg7lHyaH"
      }
    },
    {
      "cell_type": "code",
      "source": [
        "import pandas as pd \n",
        "import numpy as np\n",
        "from sklearn.feature_selection import RFE\n",
        "import matplotlib.pyplot as plt\n",
        "import seaborn as sns\n",
        "from tqdm import tqdm\n",
        "import warnings\n",
        "warnings.filterwarnings(\"ignore\")\n",
        "\n",
        "import pandas as pd\n",
        "import plotly.graph_objects as go\n",
        "import nfl_data_py as nfl\n",
        "#import nflfastpy as nfl\n",
        "\n",
        "# ML models\n",
        "from xgboost import XGBClassifier\n",
        "from sklearn.ensemble import RandomForestClassifier\n",
        "from sklearn.preprocessing import LabelEncoder, LabelBinarizer\n",
        "from sklearn.impute import SimpleImputer\n",
        "from sklearn.model_selection import train_test_split\n",
        "from sklearn.metrics import f1_score, balanced_accuracy_score, classification_report"
      ],
      "metadata": {
        "id": "kMZhGfvvH1wL"
      },
      "execution_count": null,
      "outputs": []
    },
    {
      "cell_type": "code",
      "source": [
        "from google.colab import drive\n",
        "drive.mount('/content/drive')"
      ],
      "metadata": {
        "id": "qjKbxpOTyxg8",
        "colab": {
          "base_uri": "https://localhost:8080/"
        },
        "outputId": "366472ad-f790-49c3-8b5e-7241d5e34844"
      },
      "execution_count": null,
      "outputs": [
        {
          "output_type": "stream",
          "name": "stdout",
          "text": [
            "Drive already mounted at /content/drive; to attempt to forcibly remount, call drive.mount(\"/content/drive\", force_remount=True).\n"
          ]
        }
      ]
    },
    {
      "cell_type": "code",
      "source": [
        "%cd /content/drive/MyDrive/BetAIData/"
      ],
      "metadata": {
        "id": "4mYEtxjG57Cz",
        "colab": {
          "base_uri": "https://localhost:8080/"
        },
        "outputId": "b690edf5-7e3f-4a66-f6fb-40936c00421a"
      },
      "execution_count": null,
      "outputs": [
        {
          "output_type": "stream",
          "name": "stdout",
          "text": [
            "/content/drive/MyDrive/BetAIData\n"
          ]
        }
      ]
    },
    {
      "cell_type": "markdown",
      "source": [
        "## Organize Data from Drive"
      ],
      "metadata": {
        "id": "3wpzZIsTkuLD"
      }
    },
    {
      "cell_type": "code",
      "source": [
        "from google.colab import drive\n",
        "drive.mount('/content/drive')"
      ],
      "metadata": {
        "colab": {
          "base_uri": "https://localhost:8080/"
        },
        "id": "cwq0tBdRIDbU",
        "outputId": "87a1756c-151e-4c3f-b69c-995fb338dd76"
      },
      "execution_count": null,
      "outputs": [
        {
          "output_type": "stream",
          "name": "stdout",
          "text": [
            "Drive already mounted at /content/drive; to attempt to forcibly remount, call drive.mount(\"/content/drive\", force_remount=True).\n"
          ]
        }
      ]
    },
    {
      "cell_type": "code",
      "source": [
        "# get file names to upload\n",
        "dir_idx: str = \"/content/drive/MyDrive/BetAIData/2000.xls\"\n",
        "df = pd.read_excel(dir_idx)\n",
        "features: list = ['ATP', 'Location', 'Tournament', 'Date', 'Series', 'Court', 'Round', 'Best of', \n",
        "                  'Winner', \"Loser\", 'Surface', 'WRank', 'LRank', \"Wsets\", 'Lsets', \"Comment\"]              \n",
        "df = df[features]\n",
        "\n",
        "for i in tqdm(range(2001, 2023)): \n",
        "  if i < 2013: \n",
        "    dir_idx: str = f\"/content/drive/MyDrive/BetAIData/{i}.xls\"\n",
        "  else: \n",
        "    dir_idx: str = f\"/content/drive/MyDrive/BetAIData/{i}.xlsx\"\n",
        "  \n",
        "  df_add = pd.read_excel(dir_idx)\n",
        "  df_add = df_add[features]\n",
        "  df = pd.concat([df, df_add])"
      ],
      "metadata": {
        "colab": {
          "base_uri": "https://localhost:8080/"
        },
        "id": "ZyrrNkRpk9Sj",
        "outputId": "037ed3ca-5da3-4f96-9b9b-361bdc02906d"
      },
      "execution_count": null,
      "outputs": [
        {
          "output_type": "stream",
          "name": "stderr",
          "text": [
            " 55%|█████▍    | 12/22 [00:03<00:03,  3.11it/s]/usr/local/lib/python3.8/dist-packages/openpyxl/worksheet/_reader.py:312: UserWarning: Unknown extension is not supported and will be removed\n",
            "  warn(msg)\n",
            " 59%|█████▉    | 13/22 [00:05<00:05,  1.63it/s]/usr/local/lib/python3.8/dist-packages/openpyxl/worksheet/_reader.py:312: UserWarning: Unknown extension is not supported and will be removed\n",
            "  warn(msg)\n",
            " 64%|██████▎   | 14/22 [00:06<00:06,  1.16it/s]/usr/local/lib/python3.8/dist-packages/openpyxl/worksheet/_reader.py:312: UserWarning: Unknown extension is not supported and will be removed\n",
            "  warn(msg)\n",
            " 68%|██████▊   | 15/22 [00:07<00:07,  1.00s/it]/usr/local/lib/python3.8/dist-packages/openpyxl/worksheet/_reader.py:312: UserWarning: Unknown extension is not supported and will be removed\n",
            "  warn(msg)\n",
            "100%|██████████| 22/22 [00:16<00:00,  1.35it/s]\n"
          ]
        }
      ]
    },
    {
      "cell_type": "code",
      "source": [
        "df = df[df['Comment'] == 'Completed']"
      ],
      "metadata": {
        "id": "gnJB2EAqx_2_"
      },
      "execution_count": null,
      "outputs": []
    },
    {
      "cell_type": "markdown",
      "source": [
        "## Exploratory Data Analysis"
      ],
      "metadata": {
        "id": "dmd9HIEYLPf9"
      }
    },
    {
      "cell_type": "code",
      "source": [
        "df.info()"
      ],
      "metadata": {
        "colab": {
          "base_uri": "https://localhost:8080/"
        },
        "id": "o-oJPoTiuWEO",
        "outputId": "9d77629f-c9a7-4ec6-cde0-f8bf711a40a8"
      },
      "execution_count": null,
      "outputs": [
        {
          "output_type": "stream",
          "name": "stdout",
          "text": [
            "<class 'pandas.core.frame.DataFrame'>\n",
            "Int64Index: 61296 entries, 0 to 2631\n",
            "Data columns (total 16 columns):\n",
            " #   Column      Non-Null Count  Dtype         \n",
            "---  ------      --------------  -----         \n",
            " 0   ATP         61296 non-null  int64         \n",
            " 1   Location    61296 non-null  object        \n",
            " 2   Tournament  61296 non-null  object        \n",
            " 3   Date        61296 non-null  datetime64[ns]\n",
            " 4   Series      61296 non-null  object        \n",
            " 5   Court       61296 non-null  object        \n",
            " 6   Round       61296 non-null  object        \n",
            " 7   Best of     61281 non-null  float64       \n",
            " 8   Winner      61296 non-null  object        \n",
            " 9   Loser       61296 non-null  object        \n",
            " 10  Surface     61296 non-null  object        \n",
            " 11  WRank       61276 non-null  object        \n",
            " 12  LRank       61191 non-null  object        \n",
            " 13  Wsets       61008 non-null  float64       \n",
            " 14  Lsets       61006 non-null  float64       \n",
            " 15  Comment     61296 non-null  object        \n",
            "dtypes: datetime64[ns](1), float64(3), int64(1), object(11)\n",
            "memory usage: 8.0+ MB\n"
          ]
        }
      ]
    },
    {
      "cell_type": "code",
      "source": [
        "df['Best of'].value_counts()"
      ],
      "metadata": {
        "colab": {
          "base_uri": "https://localhost:8080/"
        },
        "id": "BPrk36QMcfyQ",
        "outputId": "74397926-fde1-4a85-cd4a-0c9a9bb65684"
      },
      "execution_count": null,
      "outputs": [
        {
          "output_type": "execute_result",
          "data": {
            "text/plain": [
              "3.0    49642\n",
              "5.0    11639\n",
              "Name: Best of, dtype: int64"
            ]
          },
          "metadata": {},
          "execution_count": 55
        }
      ]
    },
    {
      "cell_type": "code",
      "source": [
        "# find feature correlations\n",
        "corr_tbl = df.corr()\n",
        "\n",
        "sns.set(rc={'figure.figsize':(24,15)})\n",
        "sns.heatmap(corr_tbl, annot=True)"
      ],
      "metadata": {
        "colab": {
          "base_uri": "https://localhost:8080/"
        },
        "id": "lxh22xzccmhd",
        "outputId": "2ef69423-5563-493b-8a70-7457b43d77e9"
      },
      "execution_count": null,
      "outputs": [
        {
          "output_type": "stream",
          "name": "stderr",
          "text": [
            "<ipython-input-56-dc239bdebb06>:2: FutureWarning: The default value of numeric_only in DataFrame.corr is deprecated. In a future version, it will default to False. Select only valid columns or specify the value of numeric_only to silence this warning.\n",
            "  corr_tbl = df.corr()\n"
          ]
        },
        {
          "output_type": "execute_result",
          "data": {
            "text/plain": [
              "<matplotlib.axes._subplots.AxesSubplot at 0x7f5a8cf54f40>"
            ]
          },
          "metadata": {},
          "execution_count": 56
        },
        {
          "output_type": "display_data",
          "data": {
            "text/plain": [
              "<Figure size 1728x1080 with 2 Axes>"
            ],
            "image/png": "[encoded data removed]"
          },
          "metadata": {}
        }
      ]
    },
    {
      "cell_type": "markdown",
      "source": [
        "## Data Preprocessing"
      ],
      "metadata": {
        "id": "0J5tgAI1d98D"
      }
    },
    {
      "cell_type": "code",
      "source": [
        "# remove correlated columns automatically\n",
        "corr_df = df.corr()\n",
        "\n",
        "# get all items above 0.5 correlation and drop them from dataframe \n",
        "try: \n",
        "  df.drop(['score','tourney_name','winner_name',\n",
        "                      'loser_name','minutes', 'l_1stIn', 'l_1stWon', 'l_2ndWon','l_ace', 'l_svpt',\n",
        "                      'l_SvGms','l_bpFaced','l_df', 'l_bpSaved',  'w_1stIn', 'w_1stWon','w_2ndWon', 'w_SvGms',\n",
        "                      'w_ace', 'w_svpt','w_bpFaced', 'w_bpSaved','w_df'], axis=1, inplace=True)\n",
        "except KeyError: \n",
        "  pass\n",
        "  \n",
        "df.info()"
      ],
      "metadata": {
        "colab": {
          "base_uri": "https://localhost:8080/"
        },
        "id": "lCJpqRYGd8L6",
        "outputId": "b930c60a-6aa6-4c9a-c38b-35833074e079"
      },
      "execution_count": null,
      "outputs": [
        {
          "output_type": "stream",
          "name": "stderr",
          "text": [
            "<ipython-input-362-3a2fb4903ef4>:2: FutureWarning: The default value of numeric_only in DataFrame.corr is deprecated. In a future version, it will default to False. Select only valid columns or specify the value of numeric_only to silence this warning.\n",
            "  corr_df = df.corr()\n"
          ]
        },
        {
          "output_type": "stream",
          "name": "stdout",
          "text": [
            "<class 'pandas.core.frame.DataFrame'>\n",
            "Int64Index: 59081 entries, 0 to 2631\n",
            "Data columns (total 16 columns):\n",
            " #   Column      Non-Null Count  Dtype         \n",
            "---  ------      --------------  -----         \n",
            " 0   ATP         59081 non-null  int64         \n",
            " 1   Location    59081 non-null  object        \n",
            " 2   Tournament  59081 non-null  object        \n",
            " 3   Date        59081 non-null  datetime64[ns]\n",
            " 4   Series      59081 non-null  object        \n",
            " 5   Court       59081 non-null  object        \n",
            " 6   Round       59081 non-null  object        \n",
            " 7   Best of     59066 non-null  float64       \n",
            " 8   Winner      59081 non-null  object        \n",
            " 9   Loser       59081 non-null  object        \n",
            " 10  Surface     59081 non-null  object        \n",
            " 11  WRank       59061 non-null  object        \n",
            " 12  LRank       58979 non-null  object        \n",
            " 13  Wsets       59080 non-null  float64       \n",
            " 14  Lsets       59080 non-null  float64       \n",
            " 15  Comment     59081 non-null  object        \n",
            "dtypes: datetime64[ns](1), float64(3), int64(1), object(11)\n",
            "memory usage: 7.7+ MB\n"
          ]
        }
      ]
    },
    {
      "cell_type": "code",
      "source": [
        "# check nan values\n",
        "df.isnull().sum()\n",
        "length = df.shape[0]\n",
        "nan_prev_threshold: float = 85\n",
        "\n",
        "null_df = df.isnull().sum()\n",
        "for col in df.columns:\n",
        "  null_df[f'{col}_percent'] = (null_df[col]/length)*100\n",
        "null_df.drop(df.columns, inplace=True)\n",
        "\n",
        "null_df_refined = pd.DataFrame(columns=['feature', 'nan_prevalence'])\n",
        "null_df_refined['feature'] = null_df.index\n",
        "null_df_refined['nan_prevalence'] = null_df.values\n",
        "null_df_refined = null_df_refined[null_df_refined['nan_prevalence'] < nan_prev_threshold]\n",
        "null_df_refined.reset_index(inplace=True, drop=True)\n",
        "features: list = list(null_df_refined['feature'])\n",
        "features = [col.replace('_percent', '') for col in features]"
      ],
      "metadata": {
        "id": "BXzT5r7JferZ"
      },
      "execution_count": null,
      "outputs": []
    },
    {
      "cell_type": "code",
      "source": [
        "df = df[features]\n",
        "df.shape"
      ],
      "metadata": {
        "colab": {
          "base_uri": "https://localhost:8080/"
        },
        "id": "06PBXEDnzWDo",
        "outputId": "12ed2035-b233-4b8a-cef9-483d4e896cbf"
      },
      "execution_count": null,
      "outputs": [
        {
          "output_type": "execute_result",
          "data": {
            "text/plain": [
              "(59081, 16)"
            ]
          },
          "metadata": {},
          "execution_count": 364
        }
      ]
    },
    {
      "cell_type": "markdown",
      "source": [
        "## Feature Engineering"
      ],
      "metadata": {
        "id": "NnlDCjdw0BmF"
      }
    },
    {
      "cell_type": "markdown",
      "source": [
        "## Run Once"
      ],
      "metadata": {
        "id": "j0rMPqWV3oSd"
      }
    },
    {
      "cell_type": "code",
      "source": [
        "try: \n",
        "  df.drop(['Date', 'Comment'], inplace=True, axis=1)\n",
        "except KeyError: \n",
        "  pass"
      ],
      "metadata": {
        "id": "c3MsP2TR0DWt"
      },
      "execution_count": null,
      "outputs": []
    },
    {
      "cell_type": "code",
      "source": [
        "# remove nans from sets\n",
        "df = df[~df['Wsets'].isna()]\n",
        "df = df[~df['Lsets'].isna()]"
      ],
      "metadata": {
        "id": "pR3LhwyVxTCh"
      },
      "execution_count": null,
      "outputs": []
    },
    {
      "cell_type": "code",
      "source": [
        "df = df[df['Wsets'] != 'NR']\n",
        "df = df[df['Lsets'] != 'NR']\n",
        "df = df[df['LRank'] != 'NR']\n",
        "df = df[df['WRank'] != 'NR']"
      ],
      "metadata": {
        "id": "dOtlQmk61r8c"
      },
      "execution_count": null,
      "outputs": []
    },
    {
      "cell_type": "code",
      "source": [
        "df['target_w'] = df['Wsets']\n",
        "df['target_l'] = df['Lsets']"
      ],
      "metadata": {
        "id": "fp2X9x2F6wTb"
      },
      "execution_count": null,
      "outputs": []
    },
    {
      "cell_type": "markdown",
      "source": [
        "## Variable Encoding"
      ],
      "metadata": {
        "id": "yyWYRt8H3qU1"
      }
    },
    {
      "cell_type": "code",
      "source": [
        "# encoding for tournament\n",
        "tourn_encoder = LabelEncoder()\n",
        "df['Tournament'] = tourn_encoder.fit_transform(df['Tournament'].astype(str))\n",
        "\n",
        "# encoder for location\n",
        "loc_encoder = LabelEncoder()\n",
        "df['Location'] = loc_encoder.fit_transform(df['Location'].astype(str))\n",
        "\n",
        "# series encoder\n",
        "ser_encoder = LabelEncoder()\n",
        "df['Series'] = ser_encoder.fit_transform(df['Series'].astype(str))\n",
        "\n",
        "# court encoder\n",
        "court_encoder = LabelEncoder()\n",
        "df['Court'] = court_encoder.fit_transform(df['Court'].astype(str))\n",
        "\n",
        "# round encoder\n",
        "round_encoder = LabelEncoder()\n",
        "df['Round'] = round_encoder.fit_transform(df['Round'].astype(str))\n",
        "\n",
        "# surface encoder\n",
        "surf_encoder = LabelEncoder()\n",
        "df['Surface'] = surf_encoder.fit_transform(df['Surface'].astype(str))\n",
        "\n",
        "# winner and loser encoder\n",
        "winner_encoder = LabelEncoder()\n",
        "df['Winner'] = winner_encoder.fit_transform(df['Winner'].astype(str))\n",
        "loser_encoder = LabelEncoder()\n",
        "df['Loser'] = loser_encoder.fit_transform(df['Loser'].astype(str))\n",
        "\n",
        "df.info()"
      ],
      "metadata": {
        "colab": {
          "base_uri": "https://localhost:8080/"
        },
        "id": "KujROUYQ154G",
        "outputId": "a2e8b874-316d-4b3d-b7b8-4b3f27ae592e"
      },
      "execution_count": null,
      "outputs": [
        {
          "output_type": "stream",
          "name": "stdout",
          "text": [
            "<class 'pandas.core.frame.DataFrame'>\n",
            "Int64Index: 59054 entries, 0 to 2631\n",
            "Data columns (total 16 columns):\n",
            " #   Column      Non-Null Count  Dtype  \n",
            "---  ------      --------------  -----  \n",
            " 0   ATP         59054 non-null  int64  \n",
            " 1   Location    59054 non-null  int64  \n",
            " 2   Tournament  59054 non-null  int64  \n",
            " 3   Series      59054 non-null  int64  \n",
            " 4   Court       59054 non-null  int64  \n",
            " 5   Round       59054 non-null  int64  \n",
            " 6   Best of     59039 non-null  float64\n",
            " 7   Winner      59054 non-null  int64  \n",
            " 8   Loser       59054 non-null  int64  \n",
            " 9   Surface     59054 non-null  int64  \n",
            " 10  WRank       59034 non-null  object \n",
            " 11  LRank       58952 non-null  object \n",
            " 12  Wsets       59054 non-null  float64\n",
            " 13  Lsets       59054 non-null  float64\n",
            " 14  target_w    59054 non-null  float64\n",
            " 15  target_l    59054 non-null  float64\n",
            "dtypes: float64(5), int64(9), object(2)\n",
            "memory usage: 7.7+ MB\n"
          ]
        }
      ]
    },
    {
      "cell_type": "code",
      "source": [
        "# imputer handling nan values\n",
        "df_imputed = pd.DataFrame(SimpleImputer(strategy='most_frequent').fit_transform(df))\n",
        "df_imputed.columns = df.columns\n",
        "df_imputed.index = df.index\n",
        "df = df_imputed.copy()  \n",
        "df['target_w'] = df['target_w'].astype(int)\n",
        "df['target_l'] = df['target_l'].astype(int)"
      ],
      "metadata": {
        "id": "6ubXOGtf4UJC"
      },
      "execution_count": null,
      "outputs": []
    },
    {
      "cell_type": "markdown",
      "source": [
        "## Updated Game-by-Game Model"
      ],
      "metadata": {
        "id": "c9zFTnxRyVFB"
      }
    },
    {
      "cell_type": "code",
      "source": [
        "from pprint import pprint \n",
        "df = nfl.import_pbp_data([i for i in range(1999, 2023)])"
      ],
      "metadata": {
        "colab": {
          "base_uri": "https://localhost:8080/"
        },
        "id": "lO7so7vwlhLG",
        "outputId": "7b8fbe5e-5ee6-4210-afc0-d6644a4b2fea"
      },
      "execution_count": null,
      "outputs": [
        {
          "output_type": "stream",
          "name": "stdout",
          "text": [
            "1999 done.\n",
            "2000 done.\n",
            "2001 done.\n"
          ]
        }
      ]
    },
    {
      "cell_type": "code",
      "source": [
        "#df[['home_team', 'away_team', 'total_home_score', 'total_away_score']][:50]\n",
        "from tqdm import tqdm \n",
        "features: list = ['home_team', 'away_team', 'weather', 'surface', 'stadium', \n",
        "                  'week', 'home_wp', 'away_wp', 'location', 'total', 'away_score', 'home_score', \n",
        "                  'home_coach', 'away_coach']\n",
        "\n",
        "def temperature(weather_report):\n",
        "    try: \n",
        "      example = weather_report.split('Temp: ')[1]\n",
        "      example = float(example.split('°')[0])\n",
        "      example\n",
        "      return example\n",
        "    except (ValueError, IndexError): \n",
        "      return np.nan\n",
        "\n",
        "def humidity(weather_report): \n",
        "  try: \n",
        "    example = weather_report.split('Humidity: ')[1]\n",
        "    example = float(example.split('%')[0])\n",
        "    return example \n",
        "  except (ValueError, IndexError): \n",
        "    return np.nan\n",
        "\n",
        "refined_df = pd.DataFrame([], columns=features)\n",
        "\n",
        "for game_id in tqdm(df['game_id'].unique()): \n",
        "  temp_df = df[df['game_id'] == game_id][features].tail(1)\n",
        "  refined_df = pd.concat([refined_df, temp_df])\n",
        "\n",
        "#refined_df['temp'] = refined_df['weather'].apply(lambda x: temperature(str(x)))\n",
        "#refined_df['humidity'] = refined_df['weather'].apply(lambda x: humidity(str(x)))\n",
        "#refined_df.drop('weather', axis=1, inplace=True)\n",
        "try: \n",
        "  refined_df.drop(['temp', 'humidity'], axis=1, inplace=True)\n",
        "except KeyError: \n",
        "  pass"
      ],
      "metadata": {
        "id": "2pZ_D-PtvgBK"
      },
      "execution_count": null,
      "outputs": []
    },
    {
      "cell_type": "code",
      "source": [
        "refined_df.drop(['location'], axis=1, inplace=True)"
      ],
      "metadata": {
        "id": "QSP-5iWA74pb"
      },
      "execution_count": null,
      "outputs": []
    },
    {
      "cell_type": "code",
      "source": [
        "refined_df.drop('weather', axis=1, inplace=True)"
      ],
      "metadata": {
        "id": "UYuNNqBo-znk"
      },
      "execution_count": null,
      "outputs": []
    },
    {
      "cell_type": "code",
      "source": [
        "from sklearn.preprocessing import LabelEncoder\n",
        "\n",
        "df = refined_df\n",
        "\n",
        "team_arr: list = []\n",
        "team_arr.extend(list(df['away_team']))\n",
        "team_arr.extend(list(df['home_team']))\n",
        "\n",
        "home_enc = LabelEncoder()\n",
        "home_enc.fit(team_arr)\n",
        "df['away_team'] = home_enc.transform(df['away_team'])\n",
        "df['home_team'] = home_enc.transform(df['home_team'])\n",
        "\n",
        "df['total_score'] = df['home_score'] + df['away_score']"
      ],
      "metadata": {
        "id": "NBdfx47lipcU"
      },
      "execution_count": null,
      "outputs": []
    },
    {
      "cell_type": "code",
      "source": [
        "coach_arr: list = []\n",
        "coach_arr.extend(list(df['away_coach']))\n",
        "coach_arr.extend(list(df['home_coach']))\n",
        "\n",
        "coach_enc = LabelEncoder()\n",
        "coach_enc.fit(coach_arr)\n",
        "df['away_coach'] = coach_enc.transform(df['away_coach'])\n",
        "df['home_coach'] = coach_enc.transform(df['home_coach'])\n",
        "\n",
        "stad_enc = LabelEncoder()\n",
        "df['stadium'] = stad_enc.fit_transform(df['stadium'])"
      ],
      "metadata": {
        "id": "tCq6OyOP8E3i"
      },
      "execution_count": null,
      "outputs": []
    },
    {
      "cell_type": "code",
      "source": [
        "df['Target'] = df[\"total_score\"] > 50\n",
        "df['Target'] = df['Target'].astype(int)"
      ],
      "metadata": {
        "id": "FhP4xGfOjJM6"
      },
      "execution_count": null,
      "outputs": []
    },
    {
      "cell_type": "code",
      "source": [
        "df.drop('surface', axis=1, inplace=True)"
      ],
      "metadata": {
        "id": "rHkJ7EQ1-5Tx"
      },
      "execution_count": null,
      "outputs": []
    },
    {
      "cell_type": "code",
      "source": [
        "df['total_score'] = df['total_score'].astype(int)\n",
        "df['week'] = df['week'].astype(int)\n",
        "df['total'] = df['total'].astype(int)\n",
        "df['away_score'] = df['away_score'].astype(int)\n",
        "df['home_score'] = df['home_score'].astype(int)"
      ],
      "metadata": {
        "id": "Z3mMHy9N_Ae0"
      },
      "execution_count": null,
      "outputs": []
    },
    {
      "cell_type": "code",
      "source": [
        "from sklearn.linear_model import LogisticRegression\n",
        "from sklearn.ensemble import RandomForestClassifier, AdaBoostClassifier\n",
        "from sklearn.decomposition import PCA\n",
        "from sklearn.metrics import accuracy_score, roc_auc_score\n",
        "from sklearn.model_selection import StratifiedShuffleSplit\n",
        "from imblearn.over_sampling import SMOTE, SMOTEN\n",
        "from imblearn.under_sampling import RandomUnderSampler\n",
        "from sklearn.model_selection import cross_val_score\n",
        "\n",
        "df.dropna(inplace=True)\n",
        "X = df.drop(['Target', 'away_score', 'home_score', 'total_score', 'total'], axis=1)\n",
        "y = df[['Target']]\n",
        "\n",
        "# oversample with SMOTE \n",
        "oversample = SMOTE()\n",
        "X, y = oversample.fit_resample(X, y)\n",
        "print(y.value_counts())\n",
        "\n",
        "X_train, X_test, y_train, y_test = train_test_split(\n",
        "      X, y, test_size=0.1, stratify=y)\n",
        "\n",
        "model = XGBClassifier()\n",
        "scores = cross_val_score(model, X, y, cv=10, scoring='roc_auc')\n",
        "print(scores)\n",
        "model.fit(X_train, y_train)\n",
        "preds = model.predict(X_test)\n",
        "roc_auc_score(preds, y_test)"
      ],
      "metadata": {
        "id": "3_yLrODgzY7k"
      },
      "execution_count": null,
      "outputs": []
    },
    {
      "cell_type": "code",
      "source": [
        "import matplotlib.pyplot as plt \n",
        "plt.bar(range(len(model.feature_importances_)), model.feature_importances_)"
      ],
      "metadata": {
        "id": "3A1wihnpEja7",
        "colab": {
          "base_uri": "https://localhost:8080/",
          "height": 286
        },
        "outputId": "db576d9b-5c98-4ffc-857a-e7f9e29c20e1"
      },
      "execution_count": null,
      "outputs": [
        {
          "output_type": "execute_result",
          "data": {
            "text/plain": [
              "<BarContainer object of 8 artists>"
            ]
          },
          "metadata": {},
          "execution_count": 32
        },
        {
          "output_type": "display_data",
          "data": {
            "text/plain": [
              "<Figure size 432x288 with 1 Axes>"
            ],
            "image/png": "[encoded data removed]"
          },
          "metadata": {
            "needs_background": "light"
          }
        }
      ]
    },
    {
      "cell_type": "code",
      "source": [
        "probs_pred = model.predict_proba(X_test)\n",
        "confidence = 0.92\n",
        "\n",
        "correct, incorrect, skipped = 0, 0, 0\n",
        "\n",
        "for arr_prob, actual in zip(probs_pred, y_test.values): \n",
        "  prob = arr_prob[np.argmax(arr_prob)]\n",
        "  pred = np.argmax(arr_prob)\n",
        "\n",
        "  if prob > confidence: \n",
        "    if pred == actual[0]: \n",
        "      correct += 1\n",
        "    else: \n",
        "      incorrect += 1\n",
        "  else: \n",
        "    skipped += 1\n",
        "\n",
        "print(correct / (incorrect + correct))\n",
        "print(skipped / len(y_test))"
      ],
      "metadata": {
        "id": "5OCx4BhytrMF",
        "colab": {
          "base_uri": "https://localhost:8080/"
        },
        "outputId": "0e380ec5-ce44-4792-eece-7e9b2b546c63"
      },
      "execution_count": null,
      "outputs": [
        {
          "output_type": "stream",
          "name": "stdout",
          "text": [
            "0.9777777777777777\n",
            "0.8946135831381733\n"
          ]
        }
      ]
    },
    {
      "cell_type": "code",
      "source": [
        "# live usage\n",
        "X"
      ],
      "metadata": {
        "id": "gy1ipfea0I3r",
        "colab": {
          "base_uri": "https://localhost:8080/",
          "height": 424
        },
        "outputId": "9c5c680b-d051-4337-b19d-2ebc281ef947"
      },
      "execution_count": null,
      "outputs": [
        {
          "output_type": "execute_result",
          "data": {
            "text/plain": [
              "      home_team  away_team  stadium  week   home_wp   away_wp  home_coach  \\\n",
              "0            28          1        1     1  1.000000  0.000000         105   \n",
              "1            20          4       86     1  0.000000  1.000000          28   \n",
              "2             2          5      105     1  1.000000  0.000000          11   \n",
              "3            11         10       62     1  1.000000  0.000000          86   \n",
              "4            24         13       77     1  0.000000  1.000000          42   \n",
              "...         ...        ...      ...   ...       ...       ...         ...   \n",
              "4261          0          3      128     4  0.151072  0.848928          66   \n",
              "4262         16         27      111    16  0.018884  0.981116          70   \n",
              "4263         11         11        7    15  0.614330  0.385670          51   \n",
              "4264          7         26        8    15  1.000000  0.000000          83   \n",
              "4265         20          9      142     9  0.996940  0.003060          90   \n",
              "\n",
              "      away_coach  \n",
              "0             20  \n",
              "1             39  \n",
              "2             29  \n",
              "3             69  \n",
              "4             53  \n",
              "...          ...  \n",
              "4261         101  \n",
              "4262          77  \n",
              "4263          44  \n",
              "4264          37  \n",
              "4265          74  \n",
              "\n",
              "[4266 rows x 8 columns]"
            ],
            "text/html": [
              "\n",
              "  <div id=\"df-b1d87b0b-826d-40f5-81b7-42e1f9cd2610\">\n",
              "    <div class=\"colab-df-container\">\n",
              "      <div>\n",
              "<style scoped>\n",
              "    .dataframe tbody tr th:only-of-type {\n",
              "        vertical-align: middle;\n",
              "    }\n",
              "\n",
              "    .dataframe tbody tr th {\n",
              "        vertical-align: top;\n",
              "    }\n",
              "\n",
              "    .dataframe thead th {\n",
              "        text-align: right;\n",
              "    }\n",
              "</style>\n",
              "<table border=\"1\" class=\"dataframe\">\n",
              "  <thead>\n",
              "    <tr style=\"text-align: right;\">\n",
              "      <th></th>\n",
              "      <th>home_team</th>\n",
              "      <th>away_team</th>\n",
              "      <th>stadium</th>\n",
              "      <th>week</th>\n",
              "      <th>home_wp</th>\n",
              "      <th>away_wp</th>\n",
              "      <th>home_coach</th>\n",
              "      <th>away_coach</th>\n",
              "    </tr>\n",
              "  </thead>\n",
              "  <tbody>\n",
              "    <tr>\n",
              "      <th>0</th>\n",
              "      <td>28</td>\n",
              "      <td>1</td>\n",
              "      <td>1</td>\n",
              "      <td>1</td>\n",
              "      <td>1.000000</td>\n",
              "      <td>0.000000</td>\n",
              "      <td>105</td>\n",
              "      <td>20</td>\n",
              "    </tr>\n",
              "    <tr>\n",
              "      <th>1</th>\n",
              "      <td>20</td>\n",
              "      <td>4</td>\n",
              "      <td>86</td>\n",
              "      <td>1</td>\n",
              "      <td>0.000000</td>\n",
              "      <td>1.000000</td>\n",
              "      <td>28</td>\n",
              "      <td>39</td>\n",
              "    </tr>\n",
              "    <tr>\n",
              "      <th>2</th>\n",
              "      <td>2</td>\n",
              "      <td>5</td>\n",
              "      <td>105</td>\n",
              "      <td>1</td>\n",
              "      <td>1.000000</td>\n",
              "      <td>0.000000</td>\n",
              "      <td>11</td>\n",
              "      <td>29</td>\n",
              "    </tr>\n",
              "    <tr>\n",
              "      <th>3</th>\n",
              "      <td>11</td>\n",
              "      <td>10</td>\n",
              "      <td>62</td>\n",
              "      <td>1</td>\n",
              "      <td>1.000000</td>\n",
              "      <td>0.000000</td>\n",
              "      <td>86</td>\n",
              "      <td>69</td>\n",
              "    </tr>\n",
              "    <tr>\n",
              "      <th>4</th>\n",
              "      <td>24</td>\n",
              "      <td>13</td>\n",
              "      <td>77</td>\n",
              "      <td>1</td>\n",
              "      <td>0.000000</td>\n",
              "      <td>1.000000</td>\n",
              "      <td>42</td>\n",
              "      <td>53</td>\n",
              "    </tr>\n",
              "    <tr>\n",
              "      <th>...</th>\n",
              "      <td>...</td>\n",
              "      <td>...</td>\n",
              "      <td>...</td>\n",
              "      <td>...</td>\n",
              "      <td>...</td>\n",
              "      <td>...</td>\n",
              "      <td>...</td>\n",
              "      <td>...</td>\n",
              "    </tr>\n",
              "    <tr>\n",
              "      <th>4261</th>\n",
              "      <td>0</td>\n",
              "      <td>3</td>\n",
              "      <td>128</td>\n",
              "      <td>4</td>\n",
              "      <td>0.151072</td>\n",
              "      <td>0.848928</td>\n",
              "      <td>66</td>\n",
              "      <td>101</td>\n",
              "    </tr>\n",
              "    <tr>\n",
              "      <th>4262</th>\n",
              "      <td>16</td>\n",
              "      <td>27</td>\n",
              "      <td>111</td>\n",
              "      <td>16</td>\n",
              "      <td>0.018884</td>\n",
              "      <td>0.981116</td>\n",
              "      <td>70</td>\n",
              "      <td>77</td>\n",
              "    </tr>\n",
              "    <tr>\n",
              "      <th>4263</th>\n",
              "      <td>11</td>\n",
              "      <td>11</td>\n",
              "      <td>7</td>\n",
              "      <td>15</td>\n",
              "      <td>0.614330</td>\n",
              "      <td>0.385670</td>\n",
              "      <td>51</td>\n",
              "      <td>44</td>\n",
              "    </tr>\n",
              "    <tr>\n",
              "      <th>4264</th>\n",
              "      <td>7</td>\n",
              "      <td>26</td>\n",
              "      <td>8</td>\n",
              "      <td>15</td>\n",
              "      <td>1.000000</td>\n",
              "      <td>0.000000</td>\n",
              "      <td>83</td>\n",
              "      <td>37</td>\n",
              "    </tr>\n",
              "    <tr>\n",
              "      <th>4265</th>\n",
              "      <td>20</td>\n",
              "      <td>9</td>\n",
              "      <td>142</td>\n",
              "      <td>9</td>\n",
              "      <td>0.996940</td>\n",
              "      <td>0.003060</td>\n",
              "      <td>90</td>\n",
              "      <td>74</td>\n",
              "    </tr>\n",
              "  </tbody>\n",
              "</table>\n",
              "<p>4266 rows × 8 columns</p>\n",
              "</div>\n",
              "      <button class=\"colab-df-convert\" onclick=\"convertToInteractive('df-b1d87b0b-826d-40f5-81b7-42e1f9cd2610')\"\n",
              "              title=\"Convert this dataframe to an interactive table.\"\n",
              "              style=\"display:none;\">\n",
              "        \n",
              "  <svg xmlns=\"http://www.w3.org/2000/svg\" height=\"24px\"viewBox=\"0 0 24 24\"\n",
              "       width=\"24px\">\n",
              "    <path d=\"M0 0h24v24H0V0z\" fill=\"none\"/>\n",
              "    <path d=\"M18.56 5.44l.94 2.06.94-2.06 2.06-.94-2.06-.94-.94-2.06-.94 2.06-2.06.94zm-11 1L8.5 8.5l.94-2.06 2.06-.94-2.06-.94L8.5 2.5l-.94 2.06-2.06.94zm10 10l.94 2.06.94-2.06 2.06-.94-2.06-.94-.94-2.06-.94 2.06-2.06.94z\"/><path d=\"M17.41 7.96l-1.37-1.37c-.4-.4-.92-.59-1.43-.59-.52 0-1.04.2-1.43.59L10.3 9.45l-7.72 7.72c-.78.78-.78 2.05 0 2.83L4 21.41c.39.39.9.59 1.41.59.51 0 1.02-.2 1.41-.59l7.78-7.78 2.81-2.81c.8-.78.8-2.07 0-2.86zM5.41 20L4 18.59l7.72-7.72 1.47 1.35L5.41 20z\"/>\n",
              "  </svg>\n",
              "      </button>\n",
              "      \n",
              "  <style>\n",
              "    .colab-df-container {\n",
              "      display:flex;\n",
              "      flex-wrap:wrap;\n",
              "      gap: 12px;\n",
              "    }\n",
              "\n",
              "    .colab-df-convert {\n",
              "      background-color: #E8F0FE;\n",
              "      border: none;\n",
              "      border-radius: 50%;\n",
              "      cursor: pointer;\n",
              "      display: none;\n",
              "      fill: #1967D2;\n",
              "      height: 32px;\n",
              "      padding: 0 0 0 0;\n",
              "      width: 32px;\n",
              "    }\n",
              "\n",
              "    .colab-df-convert:hover {\n",
              "      background-color: #E2EBFA;\n",
              "      box-shadow: 0px 1px 2px rgba(60, 64, 67, 0.3), 0px 1px 3px 1px rgba(60, 64, 67, 0.15);\n",
              "      fill: #174EA6;\n",
              "    }\n",
              "\n",
              "    [theme=dark] .colab-df-convert {\n",
              "      background-color: #3B4455;\n",
              "      fill: #D2E3FC;\n",
              "    }\n",
              "\n",
              "    [theme=dark] .colab-df-convert:hover {\n",
              "      background-color: #434B5C;\n",
              "      box-shadow: 0px 1px 3px 1px rgba(0, 0, 0, 0.15);\n",
              "      filter: drop-shadow(0px 1px 2px rgba(0, 0, 0, 0.3));\n",
              "      fill: #FFFFFF;\n",
              "    }\n",
              "  </style>\n",
              "\n",
              "      <script>\n",
              "        const buttonEl =\n",
              "          document.querySelector('#df-b1d87b0b-826d-40f5-81b7-42e1f9cd2610 button.colab-df-convert');\n",
              "        buttonEl.style.display =\n",
              "          google.colab.kernel.accessAllowed ? 'block' : 'none';\n",
              "\n",
              "        async function convertToInteractive(key) {\n",
              "          const element = document.querySelector('#df-b1d87b0b-826d-40f5-81b7-42e1f9cd2610');\n",
              "          const dataTable =\n",
              "            await google.colab.kernel.invokeFunction('convertToInteractive',\n",
              "                                                     [key], {});\n",
              "          if (!dataTable) return;\n",
              "\n",
              "          const docLinkHtml = 'Like what you see? Visit the ' +\n",
              "            '<a target=\"_blank\" href=https://colab.research.google.com/notebooks/data_table.ipynb>data table notebook</a>'\n",
              "            + ' to learn more about interactive tables.';\n",
              "          element.innerHTML = '';\n",
              "          dataTable['output_type'] = 'display_data';\n",
              "          await google.colab.output.renderOutput(dataTable, element);\n",
              "          const docLink = document.createElement('div');\n",
              "          docLink.innerHTML = docLinkHtml;\n",
              "          element.appendChild(docLink);\n",
              "        }\n",
              "      </script>\n",
              "    </div>\n",
              "  </div>\n",
              "  "
            ]
          },
          "metadata": {},
          "execution_count": 33
        }
      ]
    }
  ]
}