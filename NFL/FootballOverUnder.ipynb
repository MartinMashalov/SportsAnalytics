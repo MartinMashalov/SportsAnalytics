{
  "cells": [
    {
      "cell_type": "code",
      "execution_count": null,
      "metadata": {
        "id": "SJ9PlOiSHiE2"
      },
      "outputs": [],
      "source": [
        "!pip install shap\n",
        "!pip install pandas==1.2.0\n",
        "!pip install --upgrade xlrd\n",
        "!pip install --upgrade pandas\n",
        "!pip install nfl_data_py\n",
        "!pip install imbalanced-learn\n",
        "!pip install nflfastpy\n",
        "!pip install numpy\n",
        "!pip install nfl_data_py"
      ]
    },
    {
      "cell_type": "markdown",
      "metadata": {
        "id": "mkJ4Eg7lHyaH"
      },
      "source": [
        "## Install and Import Necessary Packages"
      ]
    },
    {
      "cell_type": "code",
      "execution_count": null,
      "metadata": {
        "id": "kMZhGfvvH1wL"
      },
      "outputs": [],
      "source": [
        "import pandas as pd \n",
        "import numpy as np\n",
        "from sklearn.feature_selection import RFE\n",
        "import matplotlib.pyplot as plt\n",
        "import seaborn as sns\n",
        "from tqdm import tqdm\n",
        "import warnings\n",
        "warnings.filterwarnings(\"ignore\")\n",
        "\n",
        "import pandas as pd\n",
        "import plotly.graph_objects as go\n",
        "import nfl_data_py as nfl\n",
        "#import nflfastpy as nfl\n",
        "\n",
        "# ML models\n",
        "from xgboost import XGBClassifier\n",
        "from sklearn.ensemble import RandomForestClassifier\n",
        "from sklearn.preprocessing import LabelEncoder, LabelBinarizer\n",
        "from sklearn.impute import SimpleImputer\n",
        "from sklearn.model_selection import train_test_split\n",
        "from sklearn.metrics import f1_score, balanced_accuracy_score, classification_report"
      ]
    },
    {
      "cell_type": "code",
      "execution_count": null,
      "metadata": {
        "colab": {
          "base_uri": "https://localhost:8080/"
        },
        "id": "qjKbxpOTyxg8",
        "outputId": "25466847-a332-4246-b6d0-8c99ba5503ed"
      },
      "outputs": [
        {
          "output_type": "stream",
          "name": "stdout",
          "text": [
            "Mounted at /content/drive\n"
          ]
        }
      ],
      "source": [
        "from google.colab import drive\n",
        "drive.mount('/content/drive')"
      ]
    },
    {
      "cell_type": "code",
      "execution_count": null,
      "metadata": {
        "colab": {
          "base_uri": "https://localhost:8080/"
        },
        "id": "4mYEtxjG57Cz",
        "outputId": "99d43b69-21f1-4103-a4b9-f93d01a4d2b2"
      },
      "outputs": [
        {
          "output_type": "stream",
          "name": "stdout",
          "text": [
            "/content/drive/MyDrive/BetAIData/NFL\n"
          ]
        }
      ],
      "source": [
        "%cd /content/drive/MyDrive/BetAIData/NFL"
      ]
    },
    {
      "cell_type": "markdown",
      "metadata": {
        "id": "3wpzZIsTkuLD"
      },
      "source": [
        "## Organize Data from Drive"
      ]
    },
    {
      "cell_type": "code",
      "execution_count": null,
      "metadata": {
        "colab": {
          "base_uri": "https://localhost:8080/"
        },
        "id": "cwq0tBdRIDbU",
        "outputId": "d058883e-9c39-4d30-9577-e0a7a61e460d"
      },
      "outputs": [
        {
          "output_type": "stream",
          "name": "stdout",
          "text": [
            "Drive already mounted at /content/drive; to attempt to forcibly remount, call drive.mount(\"/content/drive\", force_remount=True).\n"
          ]
        }
      ],
      "source": [
        "from google.colab import drive\n",
        "drive.mount('/content/drive')"
      ]
    },
    {
      "cell_type": "code",
      "execution_count": null,
      "metadata": {
        "colab": {
          "base_uri": "https://localhost:8080/",
          "height": 389
        },
        "id": "ZyrrNkRpk9Sj",
        "outputId": "adf6ea24-f8d5-4971-a199-d982cc687c5b"
      },
      "outputs": [
        {
          "output_type": "error",
          "ename": "FileNotFoundError",
          "evalue": "ignored",
          "traceback": [
            "\u001b[0;31m---------------------------------------------------------------------------\u001b[0m",
            "\u001b[0;31mFileNotFoundError\u001b[0m                         Traceback (most recent call last)",
            "\u001b[0;32m<ipython-input-11-252885ed85d6>\u001b[0m in \u001b[0;36m<module>\u001b[0;34m\u001b[0m\n\u001b[1;32m      1\u001b[0m \u001b[0;31m# get file names to upload\u001b[0m\u001b[0;34m\u001b[0m\u001b[0;34m\u001b[0m\u001b[0;34m\u001b[0m\u001b[0m\n\u001b[1;32m      2\u001b[0m \u001b[0mdir_idx\u001b[0m\u001b[0;34m:\u001b[0m \u001b[0mstr\u001b[0m \u001b[0;34m=\u001b[0m \u001b[0;34m\"/content/drive/MyDrive/BetAIData/2000.xls\"\u001b[0m\u001b[0;34m\u001b[0m\u001b[0;34m\u001b[0m\u001b[0m\n\u001b[0;32m----> 3\u001b[0;31m \u001b[0mdf\u001b[0m \u001b[0;34m=\u001b[0m \u001b[0mpd\u001b[0m\u001b[0;34m.\u001b[0m\u001b[0mread_excel\u001b[0m\u001b[0;34m(\u001b[0m\u001b[0mdir_idx\u001b[0m\u001b[0;34m)\u001b[0m\u001b[0;34m\u001b[0m\u001b[0;34m\u001b[0m\u001b[0m\n\u001b[0m\u001b[1;32m      4\u001b[0m features: list = ['ATP', 'Location', 'Tournament', 'Date', 'Series', 'Court', 'Round', 'Best of', \n\u001b[1;32m      5\u001b[0m                   'Winner', \"Loser\", 'Surface', 'WRank', 'LRank', \"Wsets\", 'Lsets', \"Comment\"]              \n",
            "\u001b[0;32m/usr/local/lib/python3.8/dist-packages/pandas/util/_decorators.py\u001b[0m in \u001b[0;36mwrapper\u001b[0;34m(*args, **kwargs)\u001b[0m\n\u001b[1;32m    209\u001b[0m                 \u001b[0;32melse\u001b[0m\u001b[0;34m:\u001b[0m\u001b[0;34m\u001b[0m\u001b[0;34m\u001b[0m\u001b[0m\n\u001b[1;32m    210\u001b[0m                     \u001b[0mkwargs\u001b[0m\u001b[0;34m[\u001b[0m\u001b[0mnew_arg_name\u001b[0m\u001b[0;34m]\u001b[0m \u001b[0;34m=\u001b[0m \u001b[0mnew_arg_value\u001b[0m\u001b[0;34m\u001b[0m\u001b[0;34m\u001b[0m\u001b[0m\n\u001b[0;32m--> 211\u001b[0;31m             \u001b[0;32mreturn\u001b[0m \u001b[0mfunc\u001b[0m\u001b[0;34m(\u001b[0m\u001b[0;34m*\u001b[0m\u001b[0margs\u001b[0m\u001b[0;34m,\u001b[0m \u001b[0;34m**\u001b[0m\u001b[0mkwargs\u001b[0m\u001b[0;34m)\u001b[0m\u001b[0;34m\u001b[0m\u001b[0;34m\u001b[0m\u001b[0m\n\u001b[0m\u001b[1;32m    212\u001b[0m \u001b[0;34m\u001b[0m\u001b[0m\n\u001b[1;32m    213\u001b[0m         \u001b[0;32mreturn\u001b[0m \u001b[0mcast\u001b[0m\u001b[0;34m(\u001b[0m\u001b[0mF\u001b[0m\u001b[0;34m,\u001b[0m \u001b[0mwrapper\u001b[0m\u001b[0;34m)\u001b[0m\u001b[0;34m\u001b[0m\u001b[0;34m\u001b[0m\u001b[0m\n",
            "\u001b[0;32m/usr/local/lib/python3.8/dist-packages/pandas/util/_decorators.py\u001b[0m in \u001b[0;36mwrapper\u001b[0;34m(*args, **kwargs)\u001b[0m\n\u001b[1;32m    329\u001b[0m                     \u001b[0mstacklevel\u001b[0m\u001b[0;34m=\u001b[0m\u001b[0mfind_stack_level\u001b[0m\u001b[0;34m(\u001b[0m\u001b[0;34m)\u001b[0m\u001b[0;34m,\u001b[0m\u001b[0;34m\u001b[0m\u001b[0;34m\u001b[0m\u001b[0m\n\u001b[1;32m    330\u001b[0m                 )\n\u001b[0;32m--> 331\u001b[0;31m             \u001b[0;32mreturn\u001b[0m \u001b[0mfunc\u001b[0m\u001b[0;34m(\u001b[0m\u001b[0;34m*\u001b[0m\u001b[0margs\u001b[0m\u001b[0;34m,\u001b[0m \u001b[0;34m**\u001b[0m\u001b[0mkwargs\u001b[0m\u001b[0;34m)\u001b[0m\u001b[0;34m\u001b[0m\u001b[0;34m\u001b[0m\u001b[0m\n\u001b[0m\u001b[1;32m    332\u001b[0m \u001b[0;34m\u001b[0m\u001b[0m\n\u001b[1;32m    333\u001b[0m         \u001b[0;31m# error: \"Callable[[VarArg(Any), KwArg(Any)], Any]\" has no\u001b[0m\u001b[0;34m\u001b[0m\u001b[0;34m\u001b[0m\u001b[0;34m\u001b[0m\u001b[0m\n",
            "\u001b[0;32m/usr/local/lib/python3.8/dist-packages/pandas/io/excel/_base.py\u001b[0m in \u001b[0;36mread_excel\u001b[0;34m(io, sheet_name, header, names, index_col, usecols, squeeze, dtype, engine, converters, true_values, false_values, skiprows, nrows, na_values, keep_default_na, na_filter, verbose, parse_dates, date_parser, thousands, decimal, comment, skipfooter, convert_float, mangle_dupe_cols, storage_options)\u001b[0m\n\u001b[1;32m    480\u001b[0m     \u001b[0;32mif\u001b[0m \u001b[0;32mnot\u001b[0m \u001b[0misinstance\u001b[0m\u001b[0;34m(\u001b[0m\u001b[0mio\u001b[0m\u001b[0;34m,\u001b[0m \u001b[0mExcelFile\u001b[0m\u001b[0;34m)\u001b[0m\u001b[0;34m:\u001b[0m\u001b[0;34m\u001b[0m\u001b[0;34m\u001b[0m\u001b[0m\n\u001b[1;32m    481\u001b[0m         \u001b[0mshould_close\u001b[0m \u001b[0;34m=\u001b[0m \u001b[0;32mTrue\u001b[0m\u001b[0;34m\u001b[0m\u001b[0;34m\u001b[0m\u001b[0m\n\u001b[0;32m--> 482\u001b[0;31m         \u001b[0mio\u001b[0m \u001b[0;34m=\u001b[0m \u001b[0mExcelFile\u001b[0m\u001b[0;34m(\u001b[0m\u001b[0mio\u001b[0m\u001b[0;34m,\u001b[0m \u001b[0mstorage_options\u001b[0m\u001b[0;34m=\u001b[0m\u001b[0mstorage_options\u001b[0m\u001b[0;34m,\u001b[0m \u001b[0mengine\u001b[0m\u001b[0;34m=\u001b[0m\u001b[0mengine\u001b[0m\u001b[0;34m)\u001b[0m\u001b[0;34m\u001b[0m\u001b[0;34m\u001b[0m\u001b[0m\n\u001b[0m\u001b[1;32m    483\u001b[0m     \u001b[0;32melif\u001b[0m \u001b[0mengine\u001b[0m \u001b[0;32mand\u001b[0m \u001b[0mengine\u001b[0m \u001b[0;34m!=\u001b[0m \u001b[0mio\u001b[0m\u001b[0;34m.\u001b[0m\u001b[0mengine\u001b[0m\u001b[0;34m:\u001b[0m\u001b[0;34m\u001b[0m\u001b[0;34m\u001b[0m\u001b[0m\n\u001b[1;32m    484\u001b[0m         raise ValueError(\n",
            "\u001b[0;32m/usr/local/lib/python3.8/dist-packages/pandas/io/excel/_base.py\u001b[0m in \u001b[0;36m__init__\u001b[0;34m(self, path_or_buffer, engine, storage_options)\u001b[0m\n\u001b[1;32m   1650\u001b[0m                 \u001b[0mext\u001b[0m \u001b[0;34m=\u001b[0m \u001b[0;34m\"xls\"\u001b[0m\u001b[0;34m\u001b[0m\u001b[0;34m\u001b[0m\u001b[0m\n\u001b[1;32m   1651\u001b[0m             \u001b[0;32melse\u001b[0m\u001b[0;34m:\u001b[0m\u001b[0;34m\u001b[0m\u001b[0;34m\u001b[0m\u001b[0m\n\u001b[0;32m-> 1652\u001b[0;31m                 ext = inspect_excel_format(\n\u001b[0m\u001b[1;32m   1653\u001b[0m                     \u001b[0mcontent_or_path\u001b[0m\u001b[0;34m=\u001b[0m\u001b[0mpath_or_buffer\u001b[0m\u001b[0;34m,\u001b[0m \u001b[0mstorage_options\u001b[0m\u001b[0;34m=\u001b[0m\u001b[0mstorage_options\u001b[0m\u001b[0;34m\u001b[0m\u001b[0;34m\u001b[0m\u001b[0m\n\u001b[1;32m   1654\u001b[0m                 )\n",
            "\u001b[0;32m/usr/local/lib/python3.8/dist-packages/pandas/io/excel/_base.py\u001b[0m in \u001b[0;36minspect_excel_format\u001b[0;34m(content_or_path, storage_options)\u001b[0m\n\u001b[1;32m   1523\u001b[0m         \u001b[0mcontent_or_path\u001b[0m \u001b[0;34m=\u001b[0m \u001b[0mBytesIO\u001b[0m\u001b[0;34m(\u001b[0m\u001b[0mcontent_or_path\u001b[0m\u001b[0;34m)\u001b[0m\u001b[0;34m\u001b[0m\u001b[0;34m\u001b[0m\u001b[0m\n\u001b[1;32m   1524\u001b[0m \u001b[0;34m\u001b[0m\u001b[0m\n\u001b[0;32m-> 1525\u001b[0;31m     with get_handle(\n\u001b[0m\u001b[1;32m   1526\u001b[0m         \u001b[0mcontent_or_path\u001b[0m\u001b[0;34m,\u001b[0m \u001b[0;34m\"rb\"\u001b[0m\u001b[0;34m,\u001b[0m \u001b[0mstorage_options\u001b[0m\u001b[0;34m=\u001b[0m\u001b[0mstorage_options\u001b[0m\u001b[0;34m,\u001b[0m \u001b[0mis_text\u001b[0m\u001b[0;34m=\u001b[0m\u001b[0;32mFalse\u001b[0m\u001b[0;34m\u001b[0m\u001b[0;34m\u001b[0m\u001b[0m\n\u001b[1;32m   1527\u001b[0m     ) as handle:\n",
            "\u001b[0;32m/usr/local/lib/python3.8/dist-packages/pandas/io/common.py\u001b[0m in \u001b[0;36mget_handle\u001b[0;34m(path_or_buf, mode, encoding, compression, memory_map, is_text, errors, storage_options)\u001b[0m\n\u001b[1;32m    863\u001b[0m         \u001b[0;32melse\u001b[0m\u001b[0;34m:\u001b[0m\u001b[0;34m\u001b[0m\u001b[0;34m\u001b[0m\u001b[0m\n\u001b[1;32m    864\u001b[0m             \u001b[0;31m# Binary mode\u001b[0m\u001b[0;34m\u001b[0m\u001b[0;34m\u001b[0m\u001b[0;34m\u001b[0m\u001b[0m\n\u001b[0;32m--> 865\u001b[0;31m             \u001b[0mhandle\u001b[0m \u001b[0;34m=\u001b[0m \u001b[0mopen\u001b[0m\u001b[0;34m(\u001b[0m\u001b[0mhandle\u001b[0m\u001b[0;34m,\u001b[0m \u001b[0mioargs\u001b[0m\u001b[0;34m.\u001b[0m\u001b[0mmode\u001b[0m\u001b[0;34m)\u001b[0m\u001b[0;34m\u001b[0m\u001b[0;34m\u001b[0m\u001b[0m\n\u001b[0m\u001b[1;32m    866\u001b[0m         \u001b[0mhandles\u001b[0m\u001b[0;34m.\u001b[0m\u001b[0mappend\u001b[0m\u001b[0;34m(\u001b[0m\u001b[0mhandle\u001b[0m\u001b[0;34m)\u001b[0m\u001b[0;34m\u001b[0m\u001b[0;34m\u001b[0m\u001b[0m\n\u001b[1;32m    867\u001b[0m \u001b[0;34m\u001b[0m\u001b[0m\n",
            "\u001b[0;31mFileNotFoundError\u001b[0m: [Errno 2] No such file or directory: '/content/drive/MyDrive/BetAIData/2000.xls'"
          ]
        }
      ],
      "source": [
        "# get file names to upload\n",
        "dir_idx: str = \"/content/drive/MyDrive/BetAIData/2000.xls\"\n",
        "df = pd.read_excel(dir_idx)\n",
        "features: list = ['ATP', 'Location', 'Tournament', 'Date', 'Series', 'Court', 'Round', 'Best of', \n",
        "                  'Winner', \"Loser\", 'Surface', 'WRank', 'LRank', \"Wsets\", 'Lsets', \"Comment\"]              \n",
        "df = df[features]\n",
        "\n",
        "for i in tqdm(range(2001, 2023)): \n",
        "  if i < 2013: \n",
        "    dir_idx: str = f\"/content/drive/MyDrive/BetAIData/{i}.xls\"\n",
        "  else: \n",
        "    dir_idx: str = f\"/content/drive/MyDrive/BetAIData/{i}.xlsx\"\n",
        "  \n",
        "  df_add = pd.read_excel(dir_idx)\n",
        "  df_add = df_add[features]\n",
        "  df = pd.concat([df, df_add])"
      ]
    },
    {
      "cell_type": "code",
      "execution_count": null,
      "metadata": {
        "id": "gnJB2EAqx_2_"
      },
      "outputs": [],
      "source": [
        "df = df[df['Comment'] == 'Completed']"
      ]
    },
    {
      "cell_type": "markdown",
      "metadata": {
        "id": "dmd9HIEYLPf9"
      },
      "source": [
        "## Exploratory Data Analysis"
      ]
    },
    {
      "cell_type": "code",
      "execution_count": null,
      "metadata": {
        "colab": {
          "base_uri": "https://localhost:8080/"
        },
        "id": "o-oJPoTiuWEO",
        "outputId": "9d77629f-c9a7-4ec6-cde0-f8bf711a40a8"
      },
      "outputs": [
        {
          "name": "stdout",
          "output_type": "stream",
          "text": [
            "<class 'pandas.core.frame.DataFrame'>\n",
            "Int64Index: 61296 entries, 0 to 2631\n",
            "Data columns (total 16 columns):\n",
            " #   Column      Non-Null Count  Dtype         \n",
            "---  ------      --------------  -----         \n",
            " 0   ATP         61296 non-null  int64         \n",
            " 1   Location    61296 non-null  object        \n",
            " 2   Tournament  61296 non-null  object        \n",
            " 3   Date        61296 non-null  datetime64[ns]\n",
            " 4   Series      61296 non-null  object        \n",
            " 5   Court       61296 non-null  object        \n",
            " 6   Round       61296 non-null  object        \n",
            " 7   Best of     61281 non-null  float64       \n",
            " 8   Winner      61296 non-null  object        \n",
            " 9   Loser       61296 non-null  object        \n",
            " 10  Surface     61296 non-null  object        \n",
            " 11  WRank       61276 non-null  object        \n",
            " 12  LRank       61191 non-null  object        \n",
            " 13  Wsets       61008 non-null  float64       \n",
            " 14  Lsets       61006 non-null  float64       \n",
            " 15  Comment     61296 non-null  object        \n",
            "dtypes: datetime64[ns](1), float64(3), int64(1), object(11)\n",
            "memory usage: 8.0+ MB\n"
          ]
        }
      ],
      "source": [
        "df.info()"
      ]
    },
    {
      "cell_type": "code",
      "execution_count": null,
      "metadata": {
        "colab": {
          "base_uri": "https://localhost:8080/"
        },
        "id": "BPrk36QMcfyQ",
        "outputId": "74397926-fde1-4a85-cd4a-0c9a9bb65684"
      },
      "outputs": [
        {
          "data": {
            "text/plain": [
              "3.0    49642\n",
              "5.0    11639\n",
              "Name: Best of, dtype: int64"
            ]
          },
          "execution_count": 55,
          "metadata": {},
          "output_type": "execute_result"
        }
      ],
      "source": [
        "df['Best of'].value_counts()"
      ]
    },
    {
      "cell_type": "code",
      "execution_count": null,
      "metadata": {
        "colab": {
          "base_uri": "https://localhost:8080/"
        },
        "id": "lxh22xzccmhd",
        "outputId": "2ef69423-5563-493b-8a70-7457b43d77e9"
      },
      "outputs": [
        {
          "name": "stderr",
          "output_type": "stream",
          "text": [
            "<ipython-input-56-dc239bdebb06>:2: FutureWarning: The default value of numeric_only in DataFrame.corr is deprecated. In a future version, it will default to False. Select only valid columns or specify the value of numeric_only to silence this warning.\n",
            "  corr_tbl = df.corr()\n"
          ]
        },
        {
          "data": {
            "text/plain": [
              "<matplotlib.axes._subplots.AxesSubplot at 0x7f5a8cf54f40>"
            ]
          },
          "execution_count": 56,
          "metadata": {},
          "output_type": "execute_result"
        },
        {
          "data": {
            "image/png": "[encoded data removed]",
            "text/plain": [
              "<Figure size 1728x1080 with 2 Axes>"
            ]
          },
          "metadata": {},
          "output_type": "display_data"
        }
      ],
      "source": [
        "# find feature correlations\n",
        "corr_tbl = df.corr()\n",
        "\n",
        "sns.set(rc={'figure.figsize':(24,15)})\n",
        "sns.heatmap(corr_tbl, annot=True)"
      ]
    },
    {
      "cell_type": "markdown",
      "metadata": {
        "id": "0J5tgAI1d98D"
      },
      "source": [
        "## Data Preprocessing"
      ]
    },
    {
      "cell_type": "code",
      "execution_count": null,
      "metadata": {
        "colab": {
          "base_uri": "https://localhost:8080/"
        },
        "id": "lCJpqRYGd8L6",
        "outputId": "b930c60a-6aa6-4c9a-c38b-35833074e079"
      },
      "outputs": [
        {
          "name": "stderr",
          "output_type": "stream",
          "text": [
            "<ipython-input-362-3a2fb4903ef4>:2: FutureWarning: The default value of numeric_only in DataFrame.corr is deprecated. In a future version, it will default to False. Select only valid columns or specify the value of numeric_only to silence this warning.\n",
            "  corr_df = df.corr()\n"
          ]
        },
        {
          "name": "stdout",
          "output_type": "stream",
          "text": [
            "<class 'pandas.core.frame.DataFrame'>\n",
            "Int64Index: 59081 entries, 0 to 2631\n",
            "Data columns (total 16 columns):\n",
            " #   Column      Non-Null Count  Dtype         \n",
            "---  ------      --------------  -----         \n",
            " 0   ATP         59081 non-null  int64         \n",
            " 1   Location    59081 non-null  object        \n",
            " 2   Tournament  59081 non-null  object        \n",
            " 3   Date        59081 non-null  datetime64[ns]\n",
            " 4   Series      59081 non-null  object        \n",
            " 5   Court       59081 non-null  object        \n",
            " 6   Round       59081 non-null  object        \n",
            " 7   Best of     59066 non-null  float64       \n",
            " 8   Winner      59081 non-null  object        \n",
            " 9   Loser       59081 non-null  object        \n",
            " 10  Surface     59081 non-null  object        \n",
            " 11  WRank       59061 non-null  object        \n",
            " 12  LRank       58979 non-null  object        \n",
            " 13  Wsets       59080 non-null  float64       \n",
            " 14  Lsets       59080 non-null  float64       \n",
            " 15  Comment     59081 non-null  object        \n",
            "dtypes: datetime64[ns](1), float64(3), int64(1), object(11)\n",
            "memory usage: 7.7+ MB\n"
          ]
        }
      ],
      "source": [
        "# remove correlated columns automatically\n",
        "corr_df = df.corr()\n",
        "\n",
        "# get all items above 0.5 correlation and drop them from dataframe \n",
        "try: \n",
        "  df.drop(['score','tourney_name','winner_name',\n",
        "                      'loser_name','minutes', 'l_1stIn', 'l_1stWon', 'l_2ndWon','l_ace', 'l_svpt',\n",
        "                      'l_SvGms','l_bpFaced','l_df', 'l_bpSaved',  'w_1stIn', 'w_1stWon','w_2ndWon', 'w_SvGms',\n",
        "                      'w_ace', 'w_svpt','w_bpFaced', 'w_bpSaved','w_df'], axis=1, inplace=True)\n",
        "except KeyError: \n",
        "  pass\n",
        "  \n",
        "df.info()"
      ]
    },
    {
      "cell_type": "code",
      "execution_count": null,
      "metadata": {
        "id": "BXzT5r7JferZ"
      },
      "outputs": [],
      "source": [
        "# check nan values\n",
        "df.isnull().sum()\n",
        "length = df.shape[0]\n",
        "nan_prev_threshold: float = 85\n",
        "\n",
        "null_df = df.isnull().sum()\n",
        "for col in df.columns:\n",
        "  null_df[f'{col}_percent'] = (null_df[col]/length)*100\n",
        "null_df.drop(df.columns, inplace=True)\n",
        "\n",
        "null_df_refined = pd.DataFrame(columns=['feature', 'nan_prevalence'])\n",
        "null_df_refined['feature'] = null_df.index\n",
        "null_df_refined['nan_prevalence'] = null_df.values\n",
        "null_df_refined = null_df_refined[null_df_refined['nan_prevalence'] < nan_prev_threshold]\n",
        "null_df_refined.reset_index(inplace=True, drop=True)\n",
        "features: list = list(null_df_refined['feature'])\n",
        "features = [col.replace('_percent', '') for col in features]"
      ]
    },
    {
      "cell_type": "code",
      "execution_count": null,
      "metadata": {
        "colab": {
          "base_uri": "https://localhost:8080/"
        },
        "id": "06PBXEDnzWDo",
        "outputId": "12ed2035-b233-4b8a-cef9-483d4e896cbf"
      },
      "outputs": [
        {
          "data": {
            "text/plain": [
              "(59081, 16)"
            ]
          },
          "execution_count": 364,
          "metadata": {},
          "output_type": "execute_result"
        }
      ],
      "source": [
        "df = df[features]\n",
        "df.shape"
      ]
    },
    {
      "cell_type": "markdown",
      "metadata": {
        "id": "NnlDCjdw0BmF"
      },
      "source": [
        "## Feature Engineering"
      ]
    },
    {
      "cell_type": "markdown",
      "metadata": {
        "id": "j0rMPqWV3oSd"
      },
      "source": [
        "## Run Once"
      ]
    },
    {
      "cell_type": "code",
      "execution_count": null,
      "metadata": {
        "id": "c3MsP2TR0DWt",
        "colab": {
          "base_uri": "https://localhost:8080/",
          "height": 222
        },
        "outputId": "d6ff0759-ac9b-4a50-d728-b993a6d60fa0"
      },
      "outputs": [
        {
          "output_type": "error",
          "ename": "NameError",
          "evalue": "ignored",
          "traceback": [
            "\u001b[0;31m---------------------------------------------------------------------------\u001b[0m",
            "\u001b[0;31mNameError\u001b[0m                                 Traceback (most recent call last)",
            "\u001b[0;32m<ipython-input-12-dc39315789b6>\u001b[0m in \u001b[0;36m<module>\u001b[0;34m\u001b[0m\n\u001b[1;32m      1\u001b[0m \u001b[0;32mtry\u001b[0m\u001b[0;34m:\u001b[0m\u001b[0;34m\u001b[0m\u001b[0;34m\u001b[0m\u001b[0m\n\u001b[0;32m----> 2\u001b[0;31m   \u001b[0mdf\u001b[0m\u001b[0;34m.\u001b[0m\u001b[0mdrop\u001b[0m\u001b[0;34m(\u001b[0m\u001b[0;34m[\u001b[0m\u001b[0;34m'Date'\u001b[0m\u001b[0;34m,\u001b[0m \u001b[0;34m'Comment'\u001b[0m\u001b[0;34m]\u001b[0m\u001b[0;34m,\u001b[0m \u001b[0minplace\u001b[0m\u001b[0;34m=\u001b[0m\u001b[0;32mTrue\u001b[0m\u001b[0;34m,\u001b[0m \u001b[0maxis\u001b[0m\u001b[0;34m=\u001b[0m\u001b[0;36m1\u001b[0m\u001b[0;34m)\u001b[0m\u001b[0;34m\u001b[0m\u001b[0;34m\u001b[0m\u001b[0m\n\u001b[0m\u001b[1;32m      3\u001b[0m \u001b[0;32mexcept\u001b[0m \u001b[0mKeyError\u001b[0m\u001b[0;34m:\u001b[0m\u001b[0;34m\u001b[0m\u001b[0;34m\u001b[0m\u001b[0m\n\u001b[1;32m      4\u001b[0m   \u001b[0;32mpass\u001b[0m\u001b[0;34m\u001b[0m\u001b[0;34m\u001b[0m\u001b[0m\n",
            "\u001b[0;31mNameError\u001b[0m: name 'df' is not defined"
          ]
        }
      ],
      "source": [
        "try: \n",
        "  df.drop(['Date', 'Comment'], inplace=True, axis=1)\n",
        "except KeyError: \n",
        "  pass"
      ]
    },
    {
      "cell_type": "code",
      "execution_count": null,
      "metadata": {
        "id": "pR3LhwyVxTCh",
        "colab": {
          "base_uri": "https://localhost:8080/",
          "height": 204
        },
        "outputId": "6aaffaf9-4eea-4224-e08b-4bae24a86e62"
      },
      "outputs": [
        {
          "output_type": "error",
          "ename": "NameError",
          "evalue": "ignored",
          "traceback": [
            "\u001b[0;31m---------------------------------------------------------------------------\u001b[0m",
            "\u001b[0;31mNameError\u001b[0m                                 Traceback (most recent call last)",
            "\u001b[0;32m<ipython-input-13-791b263e7223>\u001b[0m in \u001b[0;36m<module>\u001b[0;34m\u001b[0m\n\u001b[1;32m      1\u001b[0m \u001b[0;31m# remove nans from sets\u001b[0m\u001b[0;34m\u001b[0m\u001b[0;34m\u001b[0m\u001b[0;34m\u001b[0m\u001b[0m\n\u001b[0;32m----> 2\u001b[0;31m \u001b[0mdf\u001b[0m \u001b[0;34m=\u001b[0m \u001b[0mdf\u001b[0m\u001b[0;34m[\u001b[0m\u001b[0;34m~\u001b[0m\u001b[0mdf\u001b[0m\u001b[0;34m[\u001b[0m\u001b[0;34m'Wsets'\u001b[0m\u001b[0;34m]\u001b[0m\u001b[0;34m.\u001b[0m\u001b[0misna\u001b[0m\u001b[0;34m(\u001b[0m\u001b[0;34m)\u001b[0m\u001b[0;34m]\u001b[0m\u001b[0;34m\u001b[0m\u001b[0;34m\u001b[0m\u001b[0m\n\u001b[0m\u001b[1;32m      3\u001b[0m \u001b[0mdf\u001b[0m \u001b[0;34m=\u001b[0m \u001b[0mdf\u001b[0m\u001b[0;34m[\u001b[0m\u001b[0;34m~\u001b[0m\u001b[0mdf\u001b[0m\u001b[0;34m[\u001b[0m\u001b[0;34m'Lsets'\u001b[0m\u001b[0;34m]\u001b[0m\u001b[0;34m.\u001b[0m\u001b[0misna\u001b[0m\u001b[0;34m(\u001b[0m\u001b[0;34m)\u001b[0m\u001b[0;34m]\u001b[0m\u001b[0;34m\u001b[0m\u001b[0;34m\u001b[0m\u001b[0m\n",
            "\u001b[0;31mNameError\u001b[0m: name 'df' is not defined"
          ]
        }
      ],
      "source": [
        "# remove nans from sets\n",
        "df = df[~df['Wsets'].isna()]\n",
        "df = df[~df['Lsets'].isna()]"
      ]
    },
    {
      "cell_type": "code",
      "execution_count": null,
      "metadata": {
        "id": "dOtlQmk61r8c"
      },
      "outputs": [],
      "source": [
        "df = df[df['Wsets'] != 'NR']\n",
        "df = df[df['Lsets'] != 'NR']\n",
        "df = df[df['LRank'] != 'NR']\n",
        "df = df[df['WRank'] != 'NR']"
      ]
    },
    {
      "cell_type": "code",
      "execution_count": null,
      "metadata": {
        "id": "fp2X9x2F6wTb"
      },
      "outputs": [],
      "source": [
        "df['target_w'] = df['Wsets']\n",
        "df['target_l'] = df['Lsets']"
      ]
    },
    {
      "cell_type": "markdown",
      "metadata": {
        "id": "yyWYRt8H3qU1"
      },
      "source": [
        "## Variable Encoding"
      ]
    },
    {
      "cell_type": "code",
      "execution_count": null,
      "metadata": {
        "colab": {
          "base_uri": "https://localhost:8080/"
        },
        "id": "KujROUYQ154G",
        "outputId": "a2e8b874-316d-4b3d-b7b8-4b3f27ae592e"
      },
      "outputs": [
        {
          "name": "stdout",
          "output_type": "stream",
          "text": [
            "<class 'pandas.core.frame.DataFrame'>\n",
            "Int64Index: 59054 entries, 0 to 2631\n",
            "Data columns (total 16 columns):\n",
            " #   Column      Non-Null Count  Dtype  \n",
            "---  ------      --------------  -----  \n",
            " 0   ATP         59054 non-null  int64  \n",
            " 1   Location    59054 non-null  int64  \n",
            " 2   Tournament  59054 non-null  int64  \n",
            " 3   Series      59054 non-null  int64  \n",
            " 4   Court       59054 non-null  int64  \n",
            " 5   Round       59054 non-null  int64  \n",
            " 6   Best of     59039 non-null  float64\n",
            " 7   Winner      59054 non-null  int64  \n",
            " 8   Loser       59054 non-null  int64  \n",
            " 9   Surface     59054 non-null  int64  \n",
            " 10  WRank       59034 non-null  object \n",
            " 11  LRank       58952 non-null  object \n",
            " 12  Wsets       59054 non-null  float64\n",
            " 13  Lsets       59054 non-null  float64\n",
            " 14  target_w    59054 non-null  float64\n",
            " 15  target_l    59054 non-null  float64\n",
            "dtypes: float64(5), int64(9), object(2)\n",
            "memory usage: 7.7+ MB\n"
          ]
        }
      ],
      "source": [
        "# encoding for tournament\n",
        "tourn_encoder = LabelEncoder()\n",
        "df['Tournament'] = tourn_encoder.fit_transform(df['Tournament'].astype(str))\n",
        "\n",
        "# encoder for location\n",
        "loc_encoder = LabelEncoder()\n",
        "df['Location'] = loc_encoder.fit_transform(df['Location'].astype(str))\n",
        "\n",
        "# series encoder\n",
        "ser_encoder = LabelEncoder()\n",
        "df['Series'] = ser_encoder.fit_transform(df['Series'].astype(str))\n",
        "\n",
        "# court encoder\n",
        "court_encoder = LabelEncoder()\n",
        "df['Court'] = court_encoder.fit_transform(df['Court'].astype(str))\n",
        "\n",
        "# round encoder\n",
        "round_encoder = LabelEncoder()\n",
        "df['Round'] = round_encoder.fit_transform(df['Round'].astype(str))\n",
        "\n",
        "# surface encoder\n",
        "surf_encoder = LabelEncoder()\n",
        "df['Surface'] = surf_encoder.fit_transform(df['Surface'].astype(str))\n",
        "\n",
        "# winner and loser encoder\n",
        "winner_encoder = LabelEncoder()\n",
        "df['Winner'] = winner_encoder.fit_transform(df['Winner'].astype(str))\n",
        "loser_encoder = LabelEncoder()\n",
        "df['Loser'] = loser_encoder.fit_transform(df['Loser'].astype(str))\n",
        "\n",
        "df.info()"
      ]
    },
    {
      "cell_type": "code",
      "execution_count": null,
      "metadata": {
        "id": "6ubXOGtf4UJC"
      },
      "outputs": [],
      "source": [
        "# imputer handling nan values\n",
        "df_imputed = pd.DataFrame(SimpleImputer(strategy='most_frequent').fit_transform(df))\n",
        "df_imputed.columns = df.columns\n",
        "df_imputed.index = df.index\n",
        "df = df_imputed.copy()  \n",
        "df['target_w'] = df['target_w'].astype(int)\n",
        "df['target_l'] = df['target_l'].astype(int)"
      ]
    },
    {
      "cell_type": "markdown",
      "metadata": {
        "id": "V4HxsCU4o_pb"
      },
      "source": [
        "## ESPN Data"
      ]
    },
    {
      "cell_type": "code",
      "execution_count": null,
      "metadata": {
        "id": "Fdpov0hRwfas"
      },
      "outputs": [],
      "source": [
        "from requests import get\n",
        "from pprint import pprint \n",
        "from tqdm import tqdm \n",
        "import pickle\n",
        "import numpy as np\n",
        "from time import sleep"
      ]
    },
    {
      "cell_type": "code",
      "execution_count": null,
      "metadata": {
        "id": "s9cFb4sTpCXo"
      },
      "outputs": [],
      "source": [
        "# get ids of each team for fetching games later on \n",
        "team_ids: list = []\n",
        "team_url: str = 'https://site.api.espn.com/apis/site/v2/sports/football/nfl/teams'\n",
        "data = get(team_url).json()\n",
        "teams = data['sports'][0]['leagues'][0]['teams']\n",
        "for team in teams: \n",
        "  team_ids.append(team['team']['id'])"
      ]
    },
    {
      "cell_type": "code",
      "execution_count": null,
      "metadata": {
        "colab": {
          "base_uri": "https://localhost:8080/",
          "height": 461
        },
        "id": "130rj_lhsOAc",
        "outputId": "c920c0b0-b1f2-4999-ca4d-ef38c80cdecf"
      },
      "outputs": [
        {
          "output_type": "stream",
          "name": "stderr",
          "text": [
            "  0%|          | 0/1 [00:04<?, ?it/s]\n"
          ]
        },
        {
          "output_type": "error",
          "ename": "KeyboardInterrupt",
          "evalue": "ignored",
          "traceback": [
            "\u001b[0;31m---------------------------------------------------------------------------\u001b[0m",
            "\u001b[0;31mTypeError\u001b[0m                                 Traceback (most recent call last)",
            "\u001b[0;32m/usr/local/lib/python3.8/dist-packages/urllib3/connectionpool.py\u001b[0m in \u001b[0;36m_make_request\u001b[0;34m(self, conn, method, url, timeout, chunked, **httplib_request_kw)\u001b[0m\n\u001b[1;32m    376\u001b[0m             \u001b[0;32mtry\u001b[0m\u001b[0;34m:\u001b[0m  \u001b[0;31m# Python 2.7, use buffering of HTTP responses\u001b[0m\u001b[0;34m\u001b[0m\u001b[0;34m\u001b[0m\u001b[0m\n\u001b[0;32m--> 377\u001b[0;31m                 \u001b[0mhttplib_response\u001b[0m \u001b[0;34m=\u001b[0m \u001b[0mconn\u001b[0m\u001b[0;34m.\u001b[0m\u001b[0mgetresponse\u001b[0m\u001b[0;34m(\u001b[0m\u001b[0mbuffering\u001b[0m\u001b[0;34m=\u001b[0m\u001b[0;32mTrue\u001b[0m\u001b[0;34m)\u001b[0m\u001b[0;34m\u001b[0m\u001b[0;34m\u001b[0m\u001b[0m\n\u001b[0m\u001b[1;32m    378\u001b[0m             \u001b[0;32mexcept\u001b[0m \u001b[0mTypeError\u001b[0m\u001b[0;34m:\u001b[0m  \u001b[0;31m# Python 3\u001b[0m\u001b[0;34m\u001b[0m\u001b[0;34m\u001b[0m\u001b[0m\n",
            "\u001b[0;31mTypeError\u001b[0m: getresponse() got an unexpected keyword argument 'buffering'",
            "\nDuring handling of the above exception, another exception occurred:\n",
            "\u001b[0;31mKeyboardInterrupt\u001b[0m                         Traceback (most recent call last)",
            "\u001b[0;32m<ipython-input-21-f16c2aac94bd>\u001b[0m in \u001b[0;36m<module>\u001b[0;34m\u001b[0m\n\u001b[1;32m     17\u001b[0m     \u001b[0mgame_base_url\u001b[0m\u001b[0;34m:\u001b[0m \u001b[0mstr\u001b[0m \u001b[0;34m=\u001b[0m \u001b[0;34mf'https://sports.core.api.espn.com/v2/sports/football/leagues/nfl/seasons/{year}/teams/{team_id}/events'\u001b[0m\u001b[0;34m\u001b[0m\u001b[0;34m\u001b[0m\u001b[0m\n\u001b[1;32m     18\u001b[0m     \u001b[0;31m#print(game_base_url)\u001b[0m\u001b[0;34m\u001b[0m\u001b[0;34m\u001b[0m\u001b[0;34m\u001b[0m\u001b[0m\n\u001b[0;32m---> 19\u001b[0;31m     \u001b[0mgame_data\u001b[0m \u001b[0;34m=\u001b[0m \u001b[0mget\u001b[0m\u001b[0;34m(\u001b[0m\u001b[0mgame_base_url\u001b[0m\u001b[0;34m)\u001b[0m\u001b[0;34m.\u001b[0m\u001b[0mjson\u001b[0m\u001b[0;34m(\u001b[0m\u001b[0;34m)\u001b[0m\u001b[0;34m[\u001b[0m\u001b[0;34m'items'\u001b[0m\u001b[0;34m]\u001b[0m\u001b[0;34m\u001b[0m\u001b[0;34m\u001b[0m\u001b[0m\n\u001b[0m\u001b[1;32m     20\u001b[0m     \u001b[0;32mfor\u001b[0m \u001b[0mref\u001b[0m \u001b[0;32min\u001b[0m \u001b[0mgame_data\u001b[0m\u001b[0;34m:\u001b[0m\u001b[0;34m\u001b[0m\u001b[0;34m\u001b[0m\u001b[0m\n\u001b[1;32m     21\u001b[0m       \u001b[0mgame_id\u001b[0m \u001b[0;34m=\u001b[0m \u001b[0msplit_game_id\u001b[0m\u001b[0;34m(\u001b[0m\u001b[0mref\u001b[0m\u001b[0;34m)\u001b[0m\u001b[0;34m\u001b[0m\u001b[0;34m\u001b[0m\u001b[0m\n",
            "\u001b[0;32m/usr/local/lib/python3.8/dist-packages/requests/api.py\u001b[0m in \u001b[0;36mget\u001b[0;34m(url, params, **kwargs)\u001b[0m\n\u001b[1;32m     74\u001b[0m \u001b[0;34m\u001b[0m\u001b[0m\n\u001b[1;32m     75\u001b[0m     \u001b[0mkwargs\u001b[0m\u001b[0;34m.\u001b[0m\u001b[0msetdefault\u001b[0m\u001b[0;34m(\u001b[0m\u001b[0;34m'allow_redirects'\u001b[0m\u001b[0;34m,\u001b[0m \u001b[0;32mTrue\u001b[0m\u001b[0;34m)\u001b[0m\u001b[0;34m\u001b[0m\u001b[0;34m\u001b[0m\u001b[0m\n\u001b[0;32m---> 76\u001b[0;31m     \u001b[0;32mreturn\u001b[0m \u001b[0mrequest\u001b[0m\u001b[0;34m(\u001b[0m\u001b[0;34m'get'\u001b[0m\u001b[0;34m,\u001b[0m \u001b[0murl\u001b[0m\u001b[0;34m,\u001b[0m \u001b[0mparams\u001b[0m\u001b[0;34m=\u001b[0m\u001b[0mparams\u001b[0m\u001b[0;34m,\u001b[0m \u001b[0;34m**\u001b[0m\u001b[0mkwargs\u001b[0m\u001b[0;34m)\u001b[0m\u001b[0;34m\u001b[0m\u001b[0;34m\u001b[0m\u001b[0m\n\u001b[0m\u001b[1;32m     77\u001b[0m \u001b[0;34m\u001b[0m\u001b[0m\n\u001b[1;32m     78\u001b[0m \u001b[0;34m\u001b[0m\u001b[0m\n",
            "\u001b[0;32m/usr/local/lib/python3.8/dist-packages/requests/api.py\u001b[0m in \u001b[0;36mrequest\u001b[0;34m(method, url, **kwargs)\u001b[0m\n\u001b[1;32m     59\u001b[0m     \u001b[0;31m# cases, and look like a memory leak in others.\u001b[0m\u001b[0;34m\u001b[0m\u001b[0;34m\u001b[0m\u001b[0;34m\u001b[0m\u001b[0m\n\u001b[1;32m     60\u001b[0m     \u001b[0;32mwith\u001b[0m \u001b[0msessions\u001b[0m\u001b[0;34m.\u001b[0m\u001b[0mSession\u001b[0m\u001b[0;34m(\u001b[0m\u001b[0;34m)\u001b[0m \u001b[0;32mas\u001b[0m \u001b[0msession\u001b[0m\u001b[0;34m:\u001b[0m\u001b[0;34m\u001b[0m\u001b[0;34m\u001b[0m\u001b[0m\n\u001b[0;32m---> 61\u001b[0;31m         \u001b[0;32mreturn\u001b[0m \u001b[0msession\u001b[0m\u001b[0;34m.\u001b[0m\u001b[0mrequest\u001b[0m\u001b[0;34m(\u001b[0m\u001b[0mmethod\u001b[0m\u001b[0;34m=\u001b[0m\u001b[0mmethod\u001b[0m\u001b[0;34m,\u001b[0m \u001b[0murl\u001b[0m\u001b[0;34m=\u001b[0m\u001b[0murl\u001b[0m\u001b[0;34m,\u001b[0m \u001b[0;34m**\u001b[0m\u001b[0mkwargs\u001b[0m\u001b[0;34m)\u001b[0m\u001b[0;34m\u001b[0m\u001b[0;34m\u001b[0m\u001b[0m\n\u001b[0m\u001b[1;32m     62\u001b[0m \u001b[0;34m\u001b[0m\u001b[0m\n\u001b[1;32m     63\u001b[0m \u001b[0;34m\u001b[0m\u001b[0m\n",
            "\u001b[0;32m/usr/local/lib/python3.8/dist-packages/requests/sessions.py\u001b[0m in \u001b[0;36mrequest\u001b[0;34m(self, method, url, params, data, headers, cookies, files, auth, timeout, allow_redirects, proxies, hooks, stream, verify, cert, json)\u001b[0m\n\u001b[1;32m    528\u001b[0m         }\n\u001b[1;32m    529\u001b[0m         \u001b[0msend_kwargs\u001b[0m\u001b[0;34m.\u001b[0m\u001b[0mupdate\u001b[0m\u001b[0;34m(\u001b[0m\u001b[0msettings\u001b[0m\u001b[0;34m)\u001b[0m\u001b[0;34m\u001b[0m\u001b[0;34m\u001b[0m\u001b[0m\n\u001b[0;32m--> 530\u001b[0;31m         \u001b[0mresp\u001b[0m \u001b[0;34m=\u001b[0m \u001b[0mself\u001b[0m\u001b[0;34m.\u001b[0m\u001b[0msend\u001b[0m\u001b[0;34m(\u001b[0m\u001b[0mprep\u001b[0m\u001b[0;34m,\u001b[0m \u001b[0;34m**\u001b[0m\u001b[0msend_kwargs\u001b[0m\u001b[0;34m)\u001b[0m\u001b[0;34m\u001b[0m\u001b[0;34m\u001b[0m\u001b[0m\n\u001b[0m\u001b[1;32m    531\u001b[0m \u001b[0;34m\u001b[0m\u001b[0m\n\u001b[1;32m    532\u001b[0m         \u001b[0;32mreturn\u001b[0m \u001b[0mresp\u001b[0m\u001b[0;34m\u001b[0m\u001b[0;34m\u001b[0m\u001b[0m\n",
            "\u001b[0;32m/usr/local/lib/python3.8/dist-packages/requests/sessions.py\u001b[0m in \u001b[0;36msend\u001b[0;34m(self, request, **kwargs)\u001b[0m\n\u001b[1;32m    641\u001b[0m \u001b[0;34m\u001b[0m\u001b[0m\n\u001b[1;32m    642\u001b[0m         \u001b[0;31m# Send the request\u001b[0m\u001b[0;34m\u001b[0m\u001b[0;34m\u001b[0m\u001b[0;34m\u001b[0m\u001b[0m\n\u001b[0;32m--> 643\u001b[0;31m         \u001b[0mr\u001b[0m \u001b[0;34m=\u001b[0m \u001b[0madapter\u001b[0m\u001b[0;34m.\u001b[0m\u001b[0msend\u001b[0m\u001b[0;34m(\u001b[0m\u001b[0mrequest\u001b[0m\u001b[0;34m,\u001b[0m \u001b[0;34m**\u001b[0m\u001b[0mkwargs\u001b[0m\u001b[0;34m)\u001b[0m\u001b[0;34m\u001b[0m\u001b[0;34m\u001b[0m\u001b[0m\n\u001b[0m\u001b[1;32m    644\u001b[0m \u001b[0;34m\u001b[0m\u001b[0m\n\u001b[1;32m    645\u001b[0m         \u001b[0;31m# Total elapsed time of the request (approximately)\u001b[0m\u001b[0;34m\u001b[0m\u001b[0;34m\u001b[0m\u001b[0;34m\u001b[0m\u001b[0m\n",
            "\u001b[0;32m/usr/local/lib/python3.8/dist-packages/requests/adapters.py\u001b[0m in \u001b[0;36msend\u001b[0;34m(self, request, stream, timeout, verify, cert, proxies)\u001b[0m\n\u001b[1;32m    437\u001b[0m         \u001b[0;32mtry\u001b[0m\u001b[0;34m:\u001b[0m\u001b[0;34m\u001b[0m\u001b[0;34m\u001b[0m\u001b[0m\n\u001b[1;32m    438\u001b[0m             \u001b[0;32mif\u001b[0m \u001b[0;32mnot\u001b[0m \u001b[0mchunked\u001b[0m\u001b[0;34m:\u001b[0m\u001b[0;34m\u001b[0m\u001b[0;34m\u001b[0m\u001b[0m\n\u001b[0;32m--> 439\u001b[0;31m                 resp = conn.urlopen(\n\u001b[0m\u001b[1;32m    440\u001b[0m                     \u001b[0mmethod\u001b[0m\u001b[0;34m=\u001b[0m\u001b[0mrequest\u001b[0m\u001b[0;34m.\u001b[0m\u001b[0mmethod\u001b[0m\u001b[0;34m,\u001b[0m\u001b[0;34m\u001b[0m\u001b[0;34m\u001b[0m\u001b[0m\n\u001b[1;32m    441\u001b[0m                     \u001b[0murl\u001b[0m\u001b[0;34m=\u001b[0m\u001b[0murl\u001b[0m\u001b[0;34m,\u001b[0m\u001b[0;34m\u001b[0m\u001b[0;34m\u001b[0m\u001b[0m\n",
            "\u001b[0;32m/usr/local/lib/python3.8/dist-packages/urllib3/connectionpool.py\u001b[0m in \u001b[0;36murlopen\u001b[0;34m(self, method, url, body, headers, retries, redirect, assert_same_host, timeout, pool_timeout, release_conn, chunked, body_pos, **response_kw)\u001b[0m\n\u001b[1;32m    595\u001b[0m \u001b[0;34m\u001b[0m\u001b[0m\n\u001b[1;32m    596\u001b[0m             \u001b[0;31m# Make the request on the httplib connection object.\u001b[0m\u001b[0;34m\u001b[0m\u001b[0;34m\u001b[0m\u001b[0;34m\u001b[0m\u001b[0m\n\u001b[0;32m--> 597\u001b[0;31m             httplib_response = self._make_request(conn, method, url,\n\u001b[0m\u001b[1;32m    598\u001b[0m                                                   \u001b[0mtimeout\u001b[0m\u001b[0;34m=\u001b[0m\u001b[0mtimeout_obj\u001b[0m\u001b[0;34m,\u001b[0m\u001b[0;34m\u001b[0m\u001b[0;34m\u001b[0m\u001b[0m\n\u001b[1;32m    599\u001b[0m                                                   \u001b[0mbody\u001b[0m\u001b[0;34m=\u001b[0m\u001b[0mbody\u001b[0m\u001b[0;34m,\u001b[0m \u001b[0mheaders\u001b[0m\u001b[0;34m=\u001b[0m\u001b[0mheaders\u001b[0m\u001b[0;34m,\u001b[0m\u001b[0;34m\u001b[0m\u001b[0;34m\u001b[0m\u001b[0m\n",
            "\u001b[0;32m/usr/local/lib/python3.8/dist-packages/urllib3/connectionpool.py\u001b[0m in \u001b[0;36m_make_request\u001b[0;34m(self, conn, method, url, timeout, chunked, **httplib_request_kw)\u001b[0m\n\u001b[1;32m    378\u001b[0m             \u001b[0;32mexcept\u001b[0m \u001b[0mTypeError\u001b[0m\u001b[0;34m:\u001b[0m  \u001b[0;31m# Python 3\u001b[0m\u001b[0;34m\u001b[0m\u001b[0;34m\u001b[0m\u001b[0m\n\u001b[1;32m    379\u001b[0m                 \u001b[0;32mtry\u001b[0m\u001b[0;34m:\u001b[0m\u001b[0;34m\u001b[0m\u001b[0;34m\u001b[0m\u001b[0m\n\u001b[0;32m--> 380\u001b[0;31m                     \u001b[0mhttplib_response\u001b[0m \u001b[0;34m=\u001b[0m \u001b[0mconn\u001b[0m\u001b[0;34m.\u001b[0m\u001b[0mgetresponse\u001b[0m\u001b[0;34m(\u001b[0m\u001b[0;34m)\u001b[0m\u001b[0;34m\u001b[0m\u001b[0;34m\u001b[0m\u001b[0m\n\u001b[0m\u001b[1;32m    381\u001b[0m                 \u001b[0;32mexcept\u001b[0m \u001b[0mException\u001b[0m \u001b[0;32mas\u001b[0m \u001b[0me\u001b[0m\u001b[0;34m:\u001b[0m\u001b[0;34m\u001b[0m\u001b[0;34m\u001b[0m\u001b[0m\n\u001b[1;32m    382\u001b[0m                     \u001b[0;31m# Remove the TypeError from the exception chain in Python 3;\u001b[0m\u001b[0;34m\u001b[0m\u001b[0;34m\u001b[0m\u001b[0;34m\u001b[0m\u001b[0m\n",
            "\u001b[0;32m/usr/lib/python3.8/http/client.py\u001b[0m in \u001b[0;36mgetresponse\u001b[0;34m(self)\u001b[0m\n\u001b[1;32m   1346\u001b[0m         \u001b[0;32mtry\u001b[0m\u001b[0;34m:\u001b[0m\u001b[0;34m\u001b[0m\u001b[0;34m\u001b[0m\u001b[0m\n\u001b[1;32m   1347\u001b[0m             \u001b[0;32mtry\u001b[0m\u001b[0;34m:\u001b[0m\u001b[0;34m\u001b[0m\u001b[0;34m\u001b[0m\u001b[0m\n\u001b[0;32m-> 1348\u001b[0;31m                 \u001b[0mresponse\u001b[0m\u001b[0;34m.\u001b[0m\u001b[0mbegin\u001b[0m\u001b[0;34m(\u001b[0m\u001b[0;34m)\u001b[0m\u001b[0;34m\u001b[0m\u001b[0;34m\u001b[0m\u001b[0m\n\u001b[0m\u001b[1;32m   1349\u001b[0m             \u001b[0;32mexcept\u001b[0m \u001b[0mConnectionError\u001b[0m\u001b[0;34m:\u001b[0m\u001b[0;34m\u001b[0m\u001b[0;34m\u001b[0m\u001b[0m\n\u001b[1;32m   1350\u001b[0m                 \u001b[0mself\u001b[0m\u001b[0;34m.\u001b[0m\u001b[0mclose\u001b[0m\u001b[0;34m(\u001b[0m\u001b[0;34m)\u001b[0m\u001b[0;34m\u001b[0m\u001b[0;34m\u001b[0m\u001b[0m\n",
            "\u001b[0;32m/usr/lib/python3.8/http/client.py\u001b[0m in \u001b[0;36mbegin\u001b[0;34m(self)\u001b[0m\n\u001b[1;32m    314\u001b[0m         \u001b[0;31m# read until we get a non-100 response\u001b[0m\u001b[0;34m\u001b[0m\u001b[0;34m\u001b[0m\u001b[0;34m\u001b[0m\u001b[0m\n\u001b[1;32m    315\u001b[0m         \u001b[0;32mwhile\u001b[0m \u001b[0;32mTrue\u001b[0m\u001b[0;34m:\u001b[0m\u001b[0;34m\u001b[0m\u001b[0;34m\u001b[0m\u001b[0m\n\u001b[0;32m--> 316\u001b[0;31m             \u001b[0mversion\u001b[0m\u001b[0;34m,\u001b[0m \u001b[0mstatus\u001b[0m\u001b[0;34m,\u001b[0m \u001b[0mreason\u001b[0m \u001b[0;34m=\u001b[0m \u001b[0mself\u001b[0m\u001b[0;34m.\u001b[0m\u001b[0m_read_status\u001b[0m\u001b[0;34m(\u001b[0m\u001b[0;34m)\u001b[0m\u001b[0;34m\u001b[0m\u001b[0;34m\u001b[0m\u001b[0m\n\u001b[0m\u001b[1;32m    317\u001b[0m             \u001b[0;32mif\u001b[0m \u001b[0mstatus\u001b[0m \u001b[0;34m!=\u001b[0m \u001b[0mCONTINUE\u001b[0m\u001b[0;34m:\u001b[0m\u001b[0;34m\u001b[0m\u001b[0;34m\u001b[0m\u001b[0m\n\u001b[1;32m    318\u001b[0m                 \u001b[0;32mbreak\u001b[0m\u001b[0;34m\u001b[0m\u001b[0;34m\u001b[0m\u001b[0m\n",
            "\u001b[0;32m/usr/lib/python3.8/http/client.py\u001b[0m in \u001b[0;36m_read_status\u001b[0;34m(self)\u001b[0m\n\u001b[1;32m    275\u001b[0m \u001b[0;34m\u001b[0m\u001b[0m\n\u001b[1;32m    276\u001b[0m     \u001b[0;32mdef\u001b[0m \u001b[0m_read_status\u001b[0m\u001b[0;34m(\u001b[0m\u001b[0mself\u001b[0m\u001b[0;34m)\u001b[0m\u001b[0;34m:\u001b[0m\u001b[0;34m\u001b[0m\u001b[0;34m\u001b[0m\u001b[0m\n\u001b[0;32m--> 277\u001b[0;31m         \u001b[0mline\u001b[0m \u001b[0;34m=\u001b[0m \u001b[0mstr\u001b[0m\u001b[0;34m(\u001b[0m\u001b[0mself\u001b[0m\u001b[0;34m.\u001b[0m\u001b[0mfp\u001b[0m\u001b[0;34m.\u001b[0m\u001b[0mreadline\u001b[0m\u001b[0;34m(\u001b[0m\u001b[0m_MAXLINE\u001b[0m \u001b[0;34m+\u001b[0m \u001b[0;36m1\u001b[0m\u001b[0;34m)\u001b[0m\u001b[0;34m,\u001b[0m \u001b[0;34m\"iso-8859-1\"\u001b[0m\u001b[0;34m)\u001b[0m\u001b[0;34m\u001b[0m\u001b[0;34m\u001b[0m\u001b[0m\n\u001b[0m\u001b[1;32m    278\u001b[0m         \u001b[0;32mif\u001b[0m \u001b[0mlen\u001b[0m\u001b[0;34m(\u001b[0m\u001b[0mline\u001b[0m\u001b[0;34m)\u001b[0m \u001b[0;34m>\u001b[0m \u001b[0m_MAXLINE\u001b[0m\u001b[0;34m:\u001b[0m\u001b[0;34m\u001b[0m\u001b[0;34m\u001b[0m\u001b[0m\n\u001b[1;32m    279\u001b[0m             \u001b[0;32mraise\u001b[0m \u001b[0mLineTooLong\u001b[0m\u001b[0;34m(\u001b[0m\u001b[0;34m\"status line\"\u001b[0m\u001b[0;34m)\u001b[0m\u001b[0;34m\u001b[0m\u001b[0;34m\u001b[0m\u001b[0m\n",
            "\u001b[0;32m/usr/lib/python3.8/socket.py\u001b[0m in \u001b[0;36mreadinto\u001b[0;34m(self, b)\u001b[0m\n\u001b[1;32m    667\u001b[0m         \u001b[0;32mwhile\u001b[0m \u001b[0;32mTrue\u001b[0m\u001b[0;34m:\u001b[0m\u001b[0;34m\u001b[0m\u001b[0;34m\u001b[0m\u001b[0m\n\u001b[1;32m    668\u001b[0m             \u001b[0;32mtry\u001b[0m\u001b[0;34m:\u001b[0m\u001b[0;34m\u001b[0m\u001b[0;34m\u001b[0m\u001b[0m\n\u001b[0;32m--> 669\u001b[0;31m                 \u001b[0;32mreturn\u001b[0m \u001b[0mself\u001b[0m\u001b[0;34m.\u001b[0m\u001b[0m_sock\u001b[0m\u001b[0;34m.\u001b[0m\u001b[0mrecv_into\u001b[0m\u001b[0;34m(\u001b[0m\u001b[0mb\u001b[0m\u001b[0;34m)\u001b[0m\u001b[0;34m\u001b[0m\u001b[0;34m\u001b[0m\u001b[0m\n\u001b[0m\u001b[1;32m    670\u001b[0m             \u001b[0;32mexcept\u001b[0m \u001b[0mtimeout\u001b[0m\u001b[0;34m:\u001b[0m\u001b[0;34m\u001b[0m\u001b[0;34m\u001b[0m\u001b[0m\n\u001b[1;32m    671\u001b[0m                 \u001b[0mself\u001b[0m\u001b[0;34m.\u001b[0m\u001b[0m_timeout_occurred\u001b[0m \u001b[0;34m=\u001b[0m \u001b[0;32mTrue\u001b[0m\u001b[0;34m\u001b[0m\u001b[0;34m\u001b[0m\u001b[0m\n",
            "\u001b[0;32m/usr/lib/python3.8/ssl.py\u001b[0m in \u001b[0;36mrecv_into\u001b[0;34m(self, buffer, nbytes, flags)\u001b[0m\n\u001b[1;32m   1239\u001b[0m                   \u001b[0;34m\"non-zero flags not allowed in calls to recv_into() on %s\"\u001b[0m \u001b[0;34m%\u001b[0m\u001b[0;34m\u001b[0m\u001b[0;34m\u001b[0m\u001b[0m\n\u001b[1;32m   1240\u001b[0m                   self.__class__)\n\u001b[0;32m-> 1241\u001b[0;31m             \u001b[0;32mreturn\u001b[0m \u001b[0mself\u001b[0m\u001b[0;34m.\u001b[0m\u001b[0mread\u001b[0m\u001b[0;34m(\u001b[0m\u001b[0mnbytes\u001b[0m\u001b[0;34m,\u001b[0m \u001b[0mbuffer\u001b[0m\u001b[0;34m)\u001b[0m\u001b[0;34m\u001b[0m\u001b[0;34m\u001b[0m\u001b[0m\n\u001b[0m\u001b[1;32m   1242\u001b[0m         \u001b[0;32melse\u001b[0m\u001b[0;34m:\u001b[0m\u001b[0;34m\u001b[0m\u001b[0;34m\u001b[0m\u001b[0m\n\u001b[1;32m   1243\u001b[0m             \u001b[0;32mreturn\u001b[0m \u001b[0msuper\u001b[0m\u001b[0;34m(\u001b[0m\u001b[0;34m)\u001b[0m\u001b[0;34m.\u001b[0m\u001b[0mrecv_into\u001b[0m\u001b[0;34m(\u001b[0m\u001b[0mbuffer\u001b[0m\u001b[0;34m,\u001b[0m \u001b[0mnbytes\u001b[0m\u001b[0;34m,\u001b[0m \u001b[0mflags\u001b[0m\u001b[0;34m)\u001b[0m\u001b[0;34m\u001b[0m\u001b[0;34m\u001b[0m\u001b[0m\n",
            "\u001b[0;32m/usr/lib/python3.8/ssl.py\u001b[0m in \u001b[0;36mread\u001b[0;34m(self, len, buffer)\u001b[0m\n\u001b[1;32m   1097\u001b[0m         \u001b[0;32mtry\u001b[0m\u001b[0;34m:\u001b[0m\u001b[0;34m\u001b[0m\u001b[0;34m\u001b[0m\u001b[0m\n\u001b[1;32m   1098\u001b[0m             \u001b[0;32mif\u001b[0m \u001b[0mbuffer\u001b[0m \u001b[0;32mis\u001b[0m \u001b[0;32mnot\u001b[0m \u001b[0;32mNone\u001b[0m\u001b[0;34m:\u001b[0m\u001b[0;34m\u001b[0m\u001b[0;34m\u001b[0m\u001b[0m\n\u001b[0;32m-> 1099\u001b[0;31m                 \u001b[0;32mreturn\u001b[0m \u001b[0mself\u001b[0m\u001b[0;34m.\u001b[0m\u001b[0m_sslobj\u001b[0m\u001b[0;34m.\u001b[0m\u001b[0mread\u001b[0m\u001b[0;34m(\u001b[0m\u001b[0mlen\u001b[0m\u001b[0;34m,\u001b[0m \u001b[0mbuffer\u001b[0m\u001b[0;34m)\u001b[0m\u001b[0;34m\u001b[0m\u001b[0;34m\u001b[0m\u001b[0m\n\u001b[0m\u001b[1;32m   1100\u001b[0m             \u001b[0;32melse\u001b[0m\u001b[0;34m:\u001b[0m\u001b[0;34m\u001b[0m\u001b[0;34m\u001b[0m\u001b[0m\n\u001b[1;32m   1101\u001b[0m                 \u001b[0;32mreturn\u001b[0m \u001b[0mself\u001b[0m\u001b[0;34m.\u001b[0m\u001b[0m_sslobj\u001b[0m\u001b[0;34m.\u001b[0m\u001b[0mread\u001b[0m\u001b[0;34m(\u001b[0m\u001b[0mlen\u001b[0m\u001b[0;34m)\u001b[0m\u001b[0;34m\u001b[0m\u001b[0;34m\u001b[0m\u001b[0m\n",
            "\u001b[0;31mKeyboardInterrupt\u001b[0m: "
          ]
        }
      ],
      "source": [
        "# fetch the games for each year by team id\n",
        "years: list = [2008]\n",
        "\n",
        "game_ids: list = []\n",
        "\n",
        "def split_game_id(ref: str): \n",
        "  \"\"\"split the game id out of total url string\"\"\"\n",
        "  game_id_url: str = ref['$ref']\n",
        "  pre_game_id = game_id_url.split('?')[0]\n",
        "  game_id = str(pre_game_id.split('events/')[1])\n",
        "  return game_id\n",
        "\n",
        "# loop through years\n",
        "for year in tqdm(years): \n",
        "  for team_id in team_ids: \n",
        "    #print(team_id)\n",
        "    game_base_url: str = f'https://sports.core.api.espn.com/v2/sports/football/leagues/nfl/seasons/{year}/teams/{team_id}/events'\n",
        "    #print(game_base_url)\n",
        "    game_data = get(game_base_url).json()['items']\n",
        "    for ref in game_data: \n",
        "      game_id = split_game_id(ref)\n",
        "      game_ids.append(game_id)\n",
        "len(set(game_ids))"
      ]
    },
    {
      "cell_type": "code",
      "execution_count": null,
      "metadata": {
        "id": "lG5hnqmzvBX-",
        "colab": {
          "base_uri": "https://localhost:8080/",
          "height": 204
        },
        "outputId": "3e2f8d86-035a-4c34-e2c5-0db023deb75c"
      },
      "outputs": [
        {
          "output_type": "error",
          "ename": "NameError",
          "evalue": "ignored",
          "traceback": [
            "\u001b[0;31m---------------------------------------------------------------------------\u001b[0m",
            "\u001b[0;31mNameError\u001b[0m                                 Traceback (most recent call last)",
            "\u001b[0;32m<ipython-input-17-d646654cec2c>\u001b[0m in \u001b[0;36m<module>\u001b[0;34m\u001b[0m\n\u001b[1;32m      1\u001b[0m \u001b[0;31m# save game ids to pickled file\u001b[0m\u001b[0;34m\u001b[0m\u001b[0;34m\u001b[0m\u001b[0;34m\u001b[0m\u001b[0m\n\u001b[1;32m      2\u001b[0m \u001b[0;32mwith\u001b[0m \u001b[0mopen\u001b[0m\u001b[0;34m(\u001b[0m\u001b[0;34m'NFL_Game_ID'\u001b[0m\u001b[0;34m,\u001b[0m \u001b[0;34m'wb'\u001b[0m\u001b[0;34m)\u001b[0m \u001b[0;32mas\u001b[0m \u001b[0mfp\u001b[0m\u001b[0;34m:\u001b[0m\u001b[0;34m\u001b[0m\u001b[0;34m\u001b[0m\u001b[0m\n\u001b[0;32m----> 3\u001b[0;31m     \u001b[0mpickle\u001b[0m\u001b[0;34m.\u001b[0m\u001b[0mdump\u001b[0m\u001b[0;34m(\u001b[0m\u001b[0mgame_ids\u001b[0m\u001b[0;34m,\u001b[0m \u001b[0mfp\u001b[0m\u001b[0;34m)\u001b[0m\u001b[0;34m\u001b[0m\u001b[0;34m\u001b[0m\u001b[0m\n\u001b[0m",
            "\u001b[0;31mNameError\u001b[0m: name 'pickle' is not defined"
          ]
        }
      ],
      "source": [
        "# save game ids to pickled file\n",
        "with open('NFL_Game_ID', 'wb') as fp:\n",
        "    pickle.dump(game_ids, fp)"
      ]
    },
    {
      "cell_type": "code",
      "execution_count": null,
      "metadata": {
        "id": "QzoUWBQLwu3G"
      },
      "outputs": [],
      "source": [
        "def team_scores(data: dict, team_id: str, homeAway: str): \n",
        "  \"\"\"get team standings by team ID\"\"\"\n",
        "\n",
        "  score = np.nan\n",
        "  week = np.nan\n",
        "\n",
        "  for competition in data['header']['competitions']: \n",
        "    try: \n",
        "      for competitor in competition['competitors']: \n",
        "        try: \n",
        "          if competitor['id'] == team_id and competitor['homeAway'] == homeAway: \n",
        "            score = competitor['score']\n",
        "            week = data['header']['week']\n",
        "        except (KeyError, IndexError): \n",
        "          continue\n",
        "    except (KeyError, IndexError): \n",
        "      continue\n",
        "\n",
        "  return score, week\n",
        "\n",
        "def game_stats(data, team_id: str): \n",
        "  \"\"\"get game stats per team id\"\"\"\n",
        "\n",
        "  # init variables\n",
        "  total_offense, total_yards, yards_play, total_drives, net_pass_yards, inter, rush_yards = np.nan, np.nan, np.nan, np.nan, np.nan, np.nan, np.nan \n",
        "  for team in data['boxscore']['teams']: \n",
        "    try: \n",
        "      #pprint(team['team'])\n",
        "      if team['team']['id'] == team_id: \n",
        "        # total offense\n",
        "        try: \n",
        "          total_offense = [i for i in team['statistics'] if i['name'] == 'totalOffensivePlays'][0]['displayValue']\n",
        "        except (KeyError, IndexError): \n",
        "          total_offense = np.nan \n",
        "\n",
        "        # total yards\n",
        "        try: \n",
        "          total_yards = [i for i in team['statistics'] if i['name'] == 'totalYards'][0]['displayValue']\n",
        "        except (KeyError, IndexError): \n",
        "          total_yards = np.nan \n",
        "        \n",
        "        # yards / play\n",
        "        try: \n",
        "          yards_play = [i for i in team['statistics'] if i['name'] == 'yardsPerPlay'][0]['displayValue']\n",
        "        except (KeyError, IndexError): \n",
        "          yards_play = np.nan \n",
        "        \n",
        "        # total drives\n",
        "        try: \n",
        "          total_drives = [i for i in team['statistics'] if i['name'] == 'totalDrives'][0]['displayValue']\n",
        "        except (KeyError, IndexError): \n",
        "          total_drives = np.nan \n",
        "\n",
        "        # net passing yards\n",
        "        try: \n",
        "          net_pass_yards = [i for i in team['statistics'] if i['name'] == 'netPassingYards'][0]['displayValue']\n",
        "        except (KeyError, IndexError): \n",
        "          net_pass_yards = np.nan \n",
        "        \n",
        "        # interceptions\n",
        "        try: \n",
        "          inter = [i for i in team['statistics'] if i['name'] == 'interceptions'][0]['displayValue']\n",
        "        except (KeyError, IndexError): \n",
        "          inter = np.nan \n",
        "      \n",
        "        # rushing yards\n",
        "        try: \n",
        "          rush_yards = [i for i in team['statistics'] if i['name'] == 'rushingYards'][0]['displayValue']\n",
        "        except (KeyError, IndexError): \n",
        "          rush_yards = np.nan\n",
        "    except (KeyError, IndexError): \n",
        "      continue\n",
        "\n",
        "  return [total_offense, total_yards, yards_play, total_drives, net_pass_yards, inter, rush_yards]\n",
        "\n",
        "def game_info(game_id: str): \n",
        "  \"\"\"fetch game stats\"\"\"\n",
        "\n",
        "  # wait one second for request to avoid overloading \n",
        "  sleep(1)\n",
        "\n",
        "  # create url\n",
        "  url: str = f'https://site.api.espn.com/apis/site/v2/sports/football/nfl/summary?event={game_id}'\n",
        "  data = get(url).json()\n",
        "  \n",
        "  # find teams playing\n",
        "  try: \n",
        "    team_1 = data['boxscore']['teams'][0]['team']['id']\n",
        "    team_2 = data['boxscore']['teams'][1]['team']['id']\n",
        "  except (KeyError, IndexError): \n",
        "    sleep(10)\n",
        "    url: str = f'https://site.api.espn.com/apis/site/v2/sports/football/nfl/summary?event={game_id}'\n",
        "    data = get(url).json()\n",
        "    try: \n",
        "      team_1 = data['boxscore']['teams'][0]['team']['id']\n",
        "      team_2 = data['boxscore']['teams'][1]['team']['id']\n",
        "    except (KeyError, IndexError): \n",
        "      print(game_id)\n",
        "  \n",
        "  # find home and away teams\n",
        "  try: \n",
        "    competitions = data['header']['competitions']\n",
        "  except (KeyError, IndexError): \n",
        "    pprint(data)\n",
        "    print(game_id)\n",
        "\n",
        "  for competition in competitions: \n",
        "    try: \n",
        "      for competitor in competition['competitors']: \n",
        "        if competitor['id'] == team_1 and competitor['homeAway'] == 'home': \n",
        "          team_h = team_1\n",
        "          team_a = team_2\n",
        "        else: \n",
        "          team_a = team_1\n",
        "          team_h = team_2\n",
        "    except (KeyError, IndexError): \n",
        "      continue \n",
        "  \n",
        "  # get the score and week\n",
        "  team_a_score, week = team_scores(data, team_a, 'away')\n",
        "  team_h_score, week = team_scores(data, team_h, 'home')\n",
        "  \n",
        "  # stadium \n",
        "  try: \n",
        "    stadium = data['gameInfo']['venue']['id']\n",
        "  except (KeyError, IndexError): \n",
        "    stadium = np.nan\n",
        "  \n",
        "  # surface\n",
        "  try: \n",
        "    surface = 1 if data['gameInfo']['venue']['grass'] else 0\n",
        "  except (KeyError, IndexError): \n",
        "    surface = np.nan\n",
        "  \n",
        "  # in-game stats\n",
        "  in_game_stats_a = game_stats(data, team_a)\n",
        "  in_game_stats_h = game_stats(data, team_h)\n",
        "  \n",
        "  total_info: list = []\n",
        "  total_info.extend([team_a, team_h, team_a_score, team_h_score, week, stadium, surface])\n",
        "  total_info.extend(in_game_stats_a)\n",
        "  total_info.extend(in_game_stats_h)\n",
        "  total_info.append(game_id)\n",
        "  return total_info\n",
        "\n",
        "container: list = []\n",
        "for game_id in tqdm(set(game_ids)):\n",
        "  container.append(game_info(game_id))\n",
        "\n",
        "features: list = ['away_team', 'home_team', 'away_score', 'home_score', 'week', 'stadium', 'surface', \n",
        "                  'away_total_offense', 'away_total_yards', 'away_yard_play', 'away_total_drives', 'away_net_passs_yards', \n",
        "                  'away_inter', 'away_rush_yards', 'home_total_offense', 'home_total_yards', 'home_yard_play', 'home_total_drives', \n",
        "                  'home_net_passs_yards', 'home_inter', 'home_rush_yards', 'game_id']\n",
        "df = pd.DataFrame(container, columns=features)\n",
        "df.to_csv('NFL2022.csv')"
      ]
    },
    {
      "cell_type": "markdown",
      "source": [
        "## Import NFL Data"
      ],
      "metadata": {
        "id": "gW4qak9oJw_6"
      }
    },
    {
      "cell_type": "code",
      "execution_count": null,
      "metadata": {
        "colab": {
          "base_uri": "https://localhost:8080/",
          "height": 401
        },
        "id": "O8yqN3XlcfRr",
        "outputId": "95974a26-becd-4ea6-f6f5-2d22a2d37c3c"
      },
      "outputs": [
        {
          "output_type": "stream",
          "name": "stdout",
          "text": [
            "1999 done.\n",
            "Downcasting floats.\n"
          ]
        },
        {
          "output_type": "stream",
          "name": "stderr",
          "text": [
            "100%|██████████| 258/258 [00:01<00:00, 216.73it/s]\n"
          ]
        },
        {
          "output_type": "stream",
          "name": "stdout",
          "text": [
            "Target Shape: (258, 15)\n"
          ]
        },
        {
          "output_type": "error",
          "ename": "NameError",
          "evalue": "ignored",
          "traceback": [
            "\u001b[0;31m---------------------------------------------------------------------------\u001b[0m",
            "\u001b[0;31mNameError\u001b[0m                                 Traceback (most recent call last)",
            "\u001b[0;32m<ipython-input-5-ee630b036167>\u001b[0m in \u001b[0;36m<module>\u001b[0;34m\u001b[0m\n\u001b[1;32m    115\u001b[0m \u001b[0mdf\u001b[0m \u001b[0;34m=\u001b[0m \u001b[0mpd\u001b[0m\u001b[0;34m.\u001b[0m\u001b[0mDataFrame\u001b[0m\u001b[0;34m(\u001b[0m\u001b[0;34m)\u001b[0m\u001b[0;34m\u001b[0m\u001b[0;34m\u001b[0m\u001b[0m\n\u001b[1;32m    116\u001b[0m \u001b[0;32mfor\u001b[0m \u001b[0myear\u001b[0m \u001b[0;32min\u001b[0m \u001b[0mrange\u001b[0m\u001b[0;34m(\u001b[0m\u001b[0;36m1999\u001b[0m\u001b[0;34m,\u001b[0m \u001b[0;36m2023\u001b[0m\u001b[0;34m)\u001b[0m\u001b[0;34m:\u001b[0m\u001b[0;34m\u001b[0m\u001b[0;34m\u001b[0m\u001b[0m\n\u001b[0;32m--> 117\u001b[0;31m   \u001b[0mrun\u001b[0m\u001b[0;34m(\u001b[0m\u001b[0myear\u001b[0m\u001b[0;34m)\u001b[0m\u001b[0;34m.\u001b[0m\u001b[0mto_csv\u001b[0m\u001b[0;34m(\u001b[0m\u001b[0;34mf'NFL{year}.csv'\u001b[0m\u001b[0;34m)\u001b[0m\u001b[0;34m\u001b[0m\u001b[0;34m\u001b[0m\u001b[0m\n\u001b[0m",
            "\u001b[0;32m<ipython-input-5-ee630b036167>\u001b[0m in \u001b[0;36mrun\u001b[0;34m(year)\u001b[0m\n\u001b[1;32m     20\u001b[0m   \u001b[0mseen_games\u001b[0m\u001b[0;34m:\u001b[0m \u001b[0mlist\u001b[0m \u001b[0;34m=\u001b[0m \u001b[0;34m[\u001b[0m\u001b[0;34m]\u001b[0m\u001b[0;34m\u001b[0m\u001b[0;34m\u001b[0m\u001b[0m\n\u001b[1;32m     21\u001b[0m \u001b[0;34m\u001b[0m\u001b[0m\n\u001b[0;32m---> 22\u001b[0;31m   \u001b[0;32mfor\u001b[0m \u001b[0mteam_id\u001b[0m \u001b[0;32min\u001b[0m \u001b[0mtqdm\u001b[0m\u001b[0;34m(\u001b[0m\u001b[0mset\u001b[0m\u001b[0;34m(\u001b[0m\u001b[0mteams\u001b[0m\u001b[0;34m)\u001b[0m\u001b[0;34m)\u001b[0m\u001b[0;34m:\u001b[0m\u001b[0;34m\u001b[0m\u001b[0;34m\u001b[0m\u001b[0m\n\u001b[0m\u001b[1;32m     23\u001b[0m     \u001b[0msub_df\u001b[0m \u001b[0;34m=\u001b[0m \u001b[0mdf\u001b[0m\u001b[0;34m[\u001b[0m\u001b[0;34m(\u001b[0m\u001b[0mdf\u001b[0m\u001b[0;34m[\u001b[0m\u001b[0;34m'away_team'\u001b[0m\u001b[0;34m]\u001b[0m \u001b[0;34m==\u001b[0m \u001b[0mteam_id\u001b[0m\u001b[0;34m)\u001b[0m \u001b[0;34m|\u001b[0m \u001b[0;34m(\u001b[0m\u001b[0mdf\u001b[0m\u001b[0;34m[\u001b[0m\u001b[0;34m'home_team'\u001b[0m\u001b[0;34m]\u001b[0m \u001b[0;34m==\u001b[0m \u001b[0mteam_id\u001b[0m\u001b[0;34m)\u001b[0m\u001b[0;34m]\u001b[0m\u001b[0;34m\u001b[0m\u001b[0;34m\u001b[0m\u001b[0m\n\u001b[1;32m     24\u001b[0m     \u001b[0msub_df\u001b[0m\u001b[0;34m.\u001b[0m\u001b[0msort_values\u001b[0m\u001b[0;34m(\u001b[0m\u001b[0mby\u001b[0m\u001b[0;34m=\u001b[0m\u001b[0;34m[\u001b[0m\u001b[0;34m'week'\u001b[0m\u001b[0;34m]\u001b[0m\u001b[0;34m,\u001b[0m \u001b[0minplace\u001b[0m\u001b[0;34m=\u001b[0m\u001b[0;32mTrue\u001b[0m\u001b[0;34m)\u001b[0m\u001b[0;34m\u001b[0m\u001b[0;34m\u001b[0m\u001b[0m\n",
            "\u001b[0;31mNameError\u001b[0m: name 'teams' is not defined"
          ]
        }
      ],
      "source": [
        "def run(year): \n",
        "  df = nfl.import_pbp_data([year])\n",
        "  df.dropna(subset=['away_score', 'home_score'], inplace=True)\n",
        "\n",
        "  features: list = ['home_team', 'away_team', 'weather', 'surface', 'stadium', \n",
        "                  'week', 'home_wp', 'away_wp', 'location', 'total', 'away_score', 'home_score', \n",
        "                  'home_coach', 'away_coach', 'game_id']\n",
        "  refined_df = pd.DataFrame([], columns=features)\n",
        "  for game_id in tqdm(df['game_id'].unique()): \n",
        "    temp_df = df[df['game_id'] == game_id][features].tail(1)\n",
        "    refined_df = pd.concat([refined_df, temp_df])\n",
        "  df = refined_df\n",
        "  df.reset_index(inplace=True, drop=True)\n",
        "\n",
        "  print(f\"Target Shape: {df.shape}\")\n",
        "\n",
        "  features = list(df.columns)\n",
        "  features.extend(['W', 'L', 'T', 'PA', 'PF'])\n",
        "  new_df = pd.DataFrame([], columns=features)\n",
        "  seen_games: list = []\n",
        "\n",
        "  for team_id in tqdm(set(teams)): \n",
        "    sub_df = df[(df['away_team'] == team_id) | (df['home_team'] == team_id)]\n",
        "    sub_df.sort_values(by=['week'], inplace=True)\n",
        "    sub_df.reset_index(inplace=True, drop=True)\n",
        "\n",
        "    for idx, row in sub_df.iterrows(): \n",
        "      prev_df = sub_df.iloc[0:idx, :]\n",
        "\n",
        "      # count wins \n",
        "      wins_home_a = prev_df[prev_df['home_team'] == team_id][prev_df['home_score'] > prev_df['away_score']].shape[0]\n",
        "      wins_home_b = prev_df[prev_df['away_team'] == team_id][prev_df['away_score'] > prev_df['home_score']].shape[0]\n",
        "      W = wins_home_a + wins_home_b\n",
        "\n",
        "      # PCT\n",
        "      try: \n",
        "        PCT = W/prev_df.shape[0]\n",
        "      except ZeroDivisionError: \n",
        "        PCT = np.nan \n",
        "\n",
        "      # Losses\n",
        "      loss_home_a = prev_df[prev_df['home_team'] == team_id][prev_df['home_score'] < prev_df['away_score']].shape[0]\n",
        "      loss_home_b = prev_df[prev_df['away_team'] == team_id][prev_df['away_score'] > prev_df['home_score']].shape[0]\n",
        "      L = loss_home_a + loss_home_b\n",
        "\n",
        "      # Ties\n",
        "      T = prev_df[prev_df['home_score'] == prev_df['away_score']].shape[0]\n",
        "\n",
        "      # Points for & against\n",
        "      PF = prev_df[prev_df['away_team'] == team_id]['away_score'].sum() + prev_df[prev_df['home_team'] == team_id]['home_score'].sum()\n",
        "      PA = prev_df[prev_df['away_team'] == team_id]['home_score'].sum() + prev_df[prev_df['home_team'] == team_id]['away_score'].sum()\n",
        "\n",
        "      # insert computed variables\n",
        "      sub_df.at[idx, 'W'] = W\n",
        "      sub_df.at[idx, 'L'] = L\n",
        "      sub_df.at[idx, 'T'] = T\n",
        "      sub_df.at[idx, 'PA'] = PA\n",
        "      sub_df.at[idx, 'PF'] = PF\n",
        "      sub_df.at[idx, 'PCT'] = PCT\n",
        "      sub_df.at[idx, '%ref'] = team_id\n",
        "\n",
        "    # stack dataframes\n",
        "    new_df = pd.concat([new_df, sub_df])\n",
        "\n",
        "  new_features: list = list(new_df.iloc[:, :22].columns)\n",
        "  new_features.extend(['W_A', 'L_A', 'T_A', 'PA_A', 'PF_A', 'PCT_A', 'W_H', 'L_H', 'T_H', 'PA_H', 'PF_H', 'PCT_H'])\n",
        "  container: list = []\n",
        "\n",
        "  for game_id in tqdm(list(new_df['game_id'].unique())): \n",
        "    # get the smaller dataframe for each game to remove duplicates\n",
        "    sub_df = new_df[new_df['game_id'] == game_id]\n",
        "    sub_df.reset_index(inplace=True, drop=True)\n",
        "\n",
        "    W_A, W_H, T_A, T_H, L_A, L_H, PA_A, PA_H, PF_A, PF_H, PCT_A, PCT_H = np.nan, np.nan, np.nan, np.nan, np.nan, np.nan, np.nan, np.nan, np.nan, np.nan, np.nan, np.nan\n",
        "\n",
        "    # stack statistics by team\n",
        "    for idx, row in sub_df.iterrows():\n",
        "      team_reference: int = row['%ref']\n",
        "      if row['away_team'] == team_reference: \n",
        "        W_A = row['W']\n",
        "        T_A = row['T']\n",
        "        L_A = row['L']\n",
        "        PA_A = row['PA']\n",
        "        PF_A = row['PF']\n",
        "        PCT_A = row['PCT']\n",
        "      else: \n",
        "        W_H = row['W']\n",
        "        T_H = row['T']\n",
        "        L_H = row['L']\n",
        "        PA_H = row['PA']\n",
        "        PF_H = row['PF']\n",
        "        PCT_H = row['PCT']\n",
        "\n",
        "    sub_df['W_A'] = [W_A for _ in range(sub_df.shape[0])]\n",
        "    sub_df['W_H'] = [W_H for _ in range(sub_df.shape[0])]\n",
        "    sub_df['L_A'] = [L_A for _ in range(sub_df.shape[0])]\n",
        "    sub_df['L_H'] = [L_H for _ in range(sub_df.shape[0])]\n",
        "    sub_df['T_A'] = [T_A for _ in range(sub_df.shape[0])]\n",
        "    sub_df['T_H'] = [T_H for _ in range(sub_df.shape[0])]\n",
        "    sub_df['PA_A'] = [PA_A for _ in range(sub_df.shape[0])]\n",
        "    sub_df['PA_H'] = [PA_H for _ in range(sub_df.shape[0])]\n",
        "    sub_df['PF_A'] = [PF_A for _ in range(sub_df.shape[0])]\n",
        "    sub_df['PF_H'] = [PF_H for _ in range(sub_df.shape[0])]\n",
        "    sub_df['PCT_A'] = [PF_H for _ in range(sub_df.shape[0])]  \n",
        "    sub_df['PCT_H'] = [PF_H for _ in range(sub_df.shape[0])]\n",
        "\n",
        "    # remove team reference id\n",
        "    sub_df.drop('%ref', inplace=True, axis=1)\n",
        "    new_features = sub_df.columns\n",
        "    container.append(sub_df.iloc[0].values)\n",
        "\n",
        "  final_df = pd.DataFrame(container, columns=new_features)\n",
        "  return final_df\n",
        "\n",
        "df = pd.DataFrame()\n",
        "for year in range(1999, 2023): \n",
        "  run(year).to_csv(f'NFL{year}.csv')"
      ]
    },
    {
      "cell_type": "code",
      "execution_count": null,
      "metadata": {
        "id": "wMK4TsyNh0xR"
      },
      "outputs": [],
      "source": [
        "# combine files into one singular dataframe\n",
        "start_path: str = '/content/drive/MyDrive/BetAIData/NFL/NFL1999.csv'\n",
        "start_df = pd.read_csv(start_path).drop('Unnamed: 0', axis=1)\n",
        "final_df = pd.DataFrame([], columns=start_df.columns)\n",
        "\n",
        "for i in range(1999, 2023): \n",
        "  temp_df = pd.read_csv(f'/content/drive/MyDrive/BetAIData/NFL/NFL{i}.csv').drop('Unnamed: 0', axis=1)\n",
        "  final_df = pd.concat([final_df, temp_df])\n",
        "final_df"
      ]
    },
    {
      "cell_type": "markdown",
      "metadata": {
        "id": "c9zFTnxRyVFB"
      },
      "source": [
        "## Updated Game-by-Game Model"
      ]
    },
    {
      "cell_type": "code",
      "execution_count": null,
      "metadata": {
        "id": "2pZ_D-PtvgBK"
      },
      "outputs": [],
      "source": [
        "#df[['home_team', 'away_team', 'total_home_score', 'total_away_score']][:50]\n",
        "from tqdm import tqdm \n",
        "features: list = ['home_team', 'away_team', 'surface', 'stadium', \n",
        "                  'week', 'home_wp', 'away_wp', 'location', 'total', 'away_score', 'home_score', \n",
        "                  'home_coach', 'away_coach', 'W_A', 'L_A', 'T_A', 'PA_A', 'PF_A', 'W_H', 'L_H', 'T_H', 'PA_H', 'PF_H']"
      ]
    },
    {
      "cell_type": "code",
      "execution_count": null,
      "metadata": {
        "id": "9Ec8Fdj9bghK"
      },
      "outputs": [],
      "source": [
        "df = final_df[features]"
      ]
    },
    {
      "cell_type": "code",
      "execution_count": null,
      "metadata": {
        "id": "NBdfx47lipcU"
      },
      "outputs": [],
      "source": [
        "from sklearn.preprocessing import LabelEncoder\n",
        "\n",
        "team_arr: list = []\n",
        "team_arr.extend(list(df['away_team']))\n",
        "team_arr.extend(list(df['home_team']))\n",
        "\n",
        "home_enc = LabelEncoder()\n",
        "home_enc.fit(team_arr)\n",
        "df['away_team'] = home_enc.transform(df['away_team'])\n",
        "df['home_team'] = home_enc.transform(df['home_team'])\n",
        "\n",
        "df['total_score'] = df['home_score'] + df['away_score']"
      ]
    },
    {
      "cell_type": "code",
      "execution_count": null,
      "metadata": {
        "id": "tCq6OyOP8E3i"
      },
      "outputs": [],
      "source": [
        "coach_arr: list = []\n",
        "coach_arr.extend(list(df['away_coach']))\n",
        "coach_arr.extend(list(df['home_coach']))\n",
        "\n",
        "coach_enc = LabelEncoder()\n",
        "coach_enc.fit(coach_arr)\n",
        "df['away_coach'] = coach_enc.transform(df['away_coach'])\n",
        "df['home_coach'] = coach_enc.transform(df['home_coach'])\n",
        "\n",
        "stad_enc = LabelEncoder()\n",
        "df['stadium'] = stad_enc.fit_transform(df['stadium'])"
      ]
    },
    {
      "cell_type": "code",
      "execution_count": null,
      "metadata": {
        "id": "FhP4xGfOjJM6"
      },
      "outputs": [],
      "source": [
        "df['Target'] = df[\"total_score\"] > 36.5\n",
        "df['Target'] = df['Target'].astype(int)"
      ]
    },
    {
      "cell_type": "code",
      "execution_count": null,
      "metadata": {
        "id": "rHkJ7EQ1-5Tx"
      },
      "outputs": [],
      "source": [
        "df.drop('surface', axis=1, inplace=True)"
      ]
    },
    {
      "cell_type": "code",
      "execution_count": null,
      "metadata": {
        "id": "Z3mMHy9N_Ae0"
      },
      "outputs": [],
      "source": [
        "df['total_score'] = df['total_score'].astype(int)\n",
        "df['week'] = df['week'].astype(int)\n",
        "df['total'] = df['total'].astype(int)\n",
        "df['away_score'] = df['away_score'].astype(int)\n",
        "df['home_score'] = df['home_score'].astype(int)"
      ]
    },
    {
      "cell_type": "code",
      "execution_count": null,
      "metadata": {
        "id": "3_yLrODgzY7k"
      },
      "outputs": [],
      "source": [
        "from sklearn.linear_model import LogisticRegression\n",
        "from sklearn.ensemble import RandomForestClassifier, AdaBoostClassifier\n",
        "from sklearn.decomposition import PCA\n",
        "from sklearn.metrics import accuracy_score, roc_auc_score\n",
        "from sklearn.model_selection import StratifiedShuffleSplit\n",
        "from imblearn.over_sampling import SMOTE, SMOTEN\n",
        "from imblearn.under_sampling import RandomUnderSampler\n",
        "from sklearn.model_selection import cross_val_score\n",
        "\n",
        "df.dropna(inplace=True)\n",
        "X = df.drop(['Target', 'away_score', 'home_score', 'total_score', 'total', 'location', 'home_wp', 'away_wp'], axis=1)\n",
        "y = df[['Target']]\n",
        "\n",
        "# oversample with SMOTE \n",
        "oversample = SMOTE()\n",
        "X, y = oversample.fit_resample(X, y)\n",
        "print(y.value_counts())\n",
        "\n",
        "X_train, X_test, y_train, y_test = train_test_split(\n",
        "      X, y, test_size=0.1, stratify=y)\n",
        "\n",
        "model = XGBClassifier()\n",
        "scores = cross_val_score(model, X, y, cv=10, scoring='roc_auc')\n",
        "print(scores)\n",
        "model.fit(X_train.values, y_train.values)\n",
        "preds = model.predict(X_test.values)\n",
        "roc_auc_score(preds, y_test)"
      ]
    },
    {
      "cell_type": "code",
      "execution_count": null,
      "metadata": {
        "id": "3A1wihnpEja7"
      },
      "outputs": [],
      "source": [
        "import matplotlib.pyplot as plt \n",
        "plt.bar(range(len(model.feature_importances_)), model.feature_importances_)"
      ]
    },
    {
      "cell_type": "code",
      "execution_count": null,
      "metadata": {
        "id": "5OCx4BhytrMF"
      },
      "outputs": [],
      "source": [
        "probs_pred = model.predict_proba(X_test.values)\n",
        "confidence = 0.72\n",
        "\n",
        "correct, incorrect, skipped = 0, 0, 0\n",
        "\n",
        "for arr_prob, actual in zip(probs_pred, y_test.values): \n",
        "  prob = arr_prob[np.argmax(arr_prob)]\n",
        "  pred = np.argmax(arr_prob)\n",
        "\n",
        "  if prob > confidence: \n",
        "    if pred == actual[0]: \n",
        "      correct += 1\n",
        "    else: \n",
        "      incorrect += 1\n",
        "  else: \n",
        "    skipped += 1\n",
        "\n",
        "print(correct / (incorrect + correct))\n",
        "print(skipped / len(y_test))"
      ]
    },
    {
      "cell_type": "code",
      "execution_count": null,
      "metadata": {
        "id": "pivr-NgHnaou"
      },
      "outputs": [],
      "source": [
        "X.columns"
      ]
    },
    {
      "cell_type": "markdown",
      "metadata": {
        "id": "epdSG1VYmD9V"
      },
      "source": [
        "## Run"
      ]
    },
    {
      "cell_type": "code",
      "execution_count": null,
      "metadata": {
        "id": "7Td6TgHumFmR"
      },
      "outputs": [],
      "source": [
        "from pprint import pprint\n",
        "from IPython.display import clear_output \n",
        "\n",
        "# create prompt for selecting players\n",
        "coach = list(df['away_coach'].unique())\n",
        "coach2 = list(df['home_coach'].unique())\n",
        "coach.extend(coach2)\n",
        "fullcoaches = {i: coach_enc.inverse_transform([i])[0] for i in set(coach)}\n",
        "fullcoaches = sorted(fullcoaches.items(), key=lambda x:x[1])\n",
        "\n",
        "# stadiums \n",
        "stadiums = {i: stad_enc.inverse_transform([i])[0] for i in X['stadium'].unique()}\n",
        "stadiums[153] = 'None'\n",
        "stadiums = sorted(stadiums.items(), key=lambda x:x[1])\n",
        "\n",
        "teams = list(df['away_team'].unique())\n",
        "teams2 = list(df['home_team'].unique())\n",
        "teams.extend(teams2)\n",
        "fullteams = {i: home_enc.inverse_transform([i])[0] for i in set(teams)}\n",
        "fullteams = sorted(fullteams.items(), key=lambda x:x[1])\n",
        "\n",
        "### ------PROMPT------\n",
        "\n",
        "# coaches\n",
        "pprint(fullcoaches)\n",
        "C1 = int(input(\"Coach 1: \"))\n",
        "C2 = int(input(\"Coach 2: \"))\n",
        "clear_output()\n",
        "\n",
        "# stadium \n",
        "pprint(stadiums)\n",
        "stadium_fet = int(input(\"Stadium: \"))\n",
        "clear_output()\n",
        "\n",
        "# week\n",
        "week_fet = int(input(\"Week: \"))\n",
        "clear_output()\n",
        "\n",
        "# players\n",
        "pprint(fullteams)\n",
        "T1 = int(input(\"Team 1: \"))\n",
        "T2 = int(input(\"Team 2: \"))\n",
        "clear_output()\n",
        "\n",
        "# team stats\n",
        "W_A_fet = int(input(\"Wins Away: \"))\n",
        "L_A_fet = int(input(\"Losses Away: \"))\n",
        "T_A_fet = int(input(\"Ties Away: \"))\n",
        "PF_A_fet = int(input(\"PF Away: \"))\n",
        "PA_A_fet = int(input(\"PA Away: \"))\n",
        "\n",
        "W_H_fet = int(input(\"Wins Home: \"))\n",
        "L_H_fet = int(input(\"Losses Home: \"))\n",
        "T_H_fet = int(input(\"Ties Away: \"))\n",
        "PF_H_fet = int(input(\"PF Home: \"))\n",
        "PA_H_fet = int(input(\"PA Home: \"))\n",
        "\n",
        "# predict and return result\n",
        "X_pred = [T1, T2, stadium_fet, week_fet, C1, C2, W_A_fet, L_A_fet, T_A_fet, PA_A_fet, PF_A_fet, \n",
        "          W_H_fet, L_H_fet, T_H_fet, PA_H_fet, PF_H_fet]\n",
        "y_pred = model.predict_proba([X_pred])\n",
        "if np.argmax(y_pred) == 1: \n",
        "  print('Over: ', str(np.round(100*y_pred[0][np.argmax(y_pred)], 2)) + '%', f'Minimum Confidence: {72}.00%')\n",
        "else: \n",
        "  print('Under: ', str(np.round(100*y_pred[0][np.argmax(y_pred)], 2)) + '%', f'Minimum Confidence: {72}.00%')"
      ]
    }
  ],
  "metadata": {
    "accelerator": "GPU",
    "colab": {
      "collapsed_sections": [
        "3wpzZIsTkuLD",
        "dmd9HIEYLPf9",
        "0J5tgAI1d98D",
        "j0rMPqWV3oSd",
        "yyWYRt8H3qU1",
        "c9zFTnxRyVFB"
      ],
      "machine_shape": "hm",
      "provenance": []
    },
    "gpuClass": "premium",
    "kernelspec": {
      "display_name": "Python 3",
      "name": "python3"
    },
    "language_info": {
      "name": "python"
    }
  },
  "nbformat": 4,
  "nbformat_minor": 0
}