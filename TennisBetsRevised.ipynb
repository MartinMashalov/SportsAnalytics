{
  "cells": [
    {
      "cell_type": "markdown",
      "metadata": {
        "id": "view-in-github",
        "colab_type": "text"
      },
      "source": [
        "<a href=\"https://colab.research.google.com/github/MartinMashalov/TennisBetting/blob/main/TennisBetsRevised.ipynb\" target=\"_parent\"><img src=\"https://colab.research.google.com/assets/colab-badge.svg\" alt=\"Open In Colab\"/></a>"
      ]
    },
    {
      "cell_type": "code",
      "execution_count": 113,
      "metadata": {
        "id": "qieNffuyQrAy"
      },
      "outputs": [],
      "source": [
        "import pandas as pd \n",
        "import numpy as np\n",
        "import random\n",
        "from xgboost import XGBClassifier\n",
        "from sklearn.metrics import balanced_accuracy_score, accuracy_score, f1_score\n",
        "from sklearn.model_selection import RandomizedSearchCV\n",
        "\n",
        "# directories to download data from \n",
        "fileClearedData = \"dataCleared (1).csv\"\n",
        "filePlayers = \"players (2).csv\"\n",
        "\n",
        "# proportion of the dataset dedicated to the training\n",
        "trainSize = 0.95\n",
        "\n",
        "# minimum probability of a player winning over an other to bet\n",
        "minproba = 0.55\n",
        "# ,inimum amount of game of each player to bet\n",
        "minnbgames = 5\n",
        "# the earnings are used to link the probability of a player winning and the odds\n",
        "earnings = 1"
      ]
    },
    {
      "cell_type": "code",
      "execution_count": 142,
      "metadata": {
        "id": "PjBx5IITQrA0",
        "outputId": "7f38dcd1-8a82-4377-b7b9-0659c0bb3078",
        "colab": {
          "base_uri": "https://localhost:8080/",
          "height": 250
        }
      },
      "outputs": [
        {
          "output_type": "execute_result",
          "data": {
            "text/plain": [
              "        Winner           Loser     WRank     LRank  Winrate winner  \\\n",
              "0   Dosedel S.     Ljubicic I.  0.015873  0.012987        0.379310   \n",
              "1   Enqvist T.      Clement A.  0.200000  0.017857        0.543651   \n",
              "2    Escude N.   Baccanello P.  0.025000  0.001527        0.582888   \n",
              "3   Federer R.  Knippschild J.  0.015385  0.011494        0.827393   \n",
              "4  Fromberg R.   Woodbridge T.  0.012346  0.005051        0.387755   \n",
              "\n",
              "   Winrate loser  Nb Game winner  Nb Game loser  Result win  Result loose  \n",
              "0       0.594761            58.0          649.0           1             0  \n",
              "1       0.500000           252.0          508.0           1             0  \n",
              "2       0.222222           187.0            9.0           1             0  \n",
              "3       0.333333          1431.0           42.0           1             0  \n",
              "4       0.400000            49.0           20.0           1             0  "
            ],
            "text/html": [
              "\n",
              "  <div id=\"df-ee086ca8-8eb5-4e17-87ff-677977eb3bfa\">\n",
              "    <div class=\"colab-df-container\">\n",
              "      <div>\n",
              "<style scoped>\n",
              "    .dataframe tbody tr th:only-of-type {\n",
              "        vertical-align: middle;\n",
              "    }\n",
              "\n",
              "    .dataframe tbody tr th {\n",
              "        vertical-align: top;\n",
              "    }\n",
              "\n",
              "    .dataframe thead th {\n",
              "        text-align: right;\n",
              "    }\n",
              "</style>\n",
              "<table border=\"1\" class=\"dataframe\">\n",
              "  <thead>\n",
              "    <tr style=\"text-align: right;\">\n",
              "      <th></th>\n",
              "      <th>Winner</th>\n",
              "      <th>Loser</th>\n",
              "      <th>WRank</th>\n",
              "      <th>LRank</th>\n",
              "      <th>Winrate winner</th>\n",
              "      <th>Winrate loser</th>\n",
              "      <th>Nb Game winner</th>\n",
              "      <th>Nb Game loser</th>\n",
              "      <th>Result win</th>\n",
              "      <th>Result loose</th>\n",
              "    </tr>\n",
              "  </thead>\n",
              "  <tbody>\n",
              "    <tr>\n",
              "      <th>0</th>\n",
              "      <td>Dosedel S.</td>\n",
              "      <td>Ljubicic I.</td>\n",
              "      <td>0.015873</td>\n",
              "      <td>0.012987</td>\n",
              "      <td>0.379310</td>\n",
              "      <td>0.594761</td>\n",
              "      <td>58.0</td>\n",
              "      <td>649.0</td>\n",
              "      <td>1</td>\n",
              "      <td>0</td>\n",
              "    </tr>\n",
              "    <tr>\n",
              "      <th>1</th>\n",
              "      <td>Enqvist T.</td>\n",
              "      <td>Clement A.</td>\n",
              "      <td>0.200000</td>\n",
              "      <td>0.017857</td>\n",
              "      <td>0.543651</td>\n",
              "      <td>0.500000</td>\n",
              "      <td>252.0</td>\n",
              "      <td>508.0</td>\n",
              "      <td>1</td>\n",
              "      <td>0</td>\n",
              "    </tr>\n",
              "    <tr>\n",
              "      <th>2</th>\n",
              "      <td>Escude N.</td>\n",
              "      <td>Baccanello P.</td>\n",
              "      <td>0.025000</td>\n",
              "      <td>0.001527</td>\n",
              "      <td>0.582888</td>\n",
              "      <td>0.222222</td>\n",
              "      <td>187.0</td>\n",
              "      <td>9.0</td>\n",
              "      <td>1</td>\n",
              "      <td>0</td>\n",
              "    </tr>\n",
              "    <tr>\n",
              "      <th>3</th>\n",
              "      <td>Federer R.</td>\n",
              "      <td>Knippschild J.</td>\n",
              "      <td>0.015385</td>\n",
              "      <td>0.011494</td>\n",
              "      <td>0.827393</td>\n",
              "      <td>0.333333</td>\n",
              "      <td>1431.0</td>\n",
              "      <td>42.0</td>\n",
              "      <td>1</td>\n",
              "      <td>0</td>\n",
              "    </tr>\n",
              "    <tr>\n",
              "      <th>4</th>\n",
              "      <td>Fromberg R.</td>\n",
              "      <td>Woodbridge T.</td>\n",
              "      <td>0.012346</td>\n",
              "      <td>0.005051</td>\n",
              "      <td>0.387755</td>\n",
              "      <td>0.400000</td>\n",
              "      <td>49.0</td>\n",
              "      <td>20.0</td>\n",
              "      <td>1</td>\n",
              "      <td>0</td>\n",
              "    </tr>\n",
              "  </tbody>\n",
              "</table>\n",
              "</div>\n",
              "      <button class=\"colab-df-convert\" onclick=\"convertToInteractive('df-ee086ca8-8eb5-4e17-87ff-677977eb3bfa')\"\n",
              "              title=\"Convert this dataframe to an interactive table.\"\n",
              "              style=\"display:none;\">\n",
              "        \n",
              "  <svg xmlns=\"http://www.w3.org/2000/svg\" height=\"24px\"viewBox=\"0 0 24 24\"\n",
              "       width=\"24px\">\n",
              "    <path d=\"M0 0h24v24H0V0z\" fill=\"none\"/>\n",
              "    <path d=\"M18.56 5.44l.94 2.06.94-2.06 2.06-.94-2.06-.94-.94-2.06-.94 2.06-2.06.94zm-11 1L8.5 8.5l.94-2.06 2.06-.94-2.06-.94L8.5 2.5l-.94 2.06-2.06.94zm10 10l.94 2.06.94-2.06 2.06-.94-2.06-.94-.94-2.06-.94 2.06-2.06.94z\"/><path d=\"M17.41 7.96l-1.37-1.37c-.4-.4-.92-.59-1.43-.59-.52 0-1.04.2-1.43.59L10.3 9.45l-7.72 7.72c-.78.78-.78 2.05 0 2.83L4 21.41c.39.39.9.59 1.41.59.51 0 1.02-.2 1.41-.59l7.78-7.78 2.81-2.81c.8-.78.8-2.07 0-2.86zM5.41 20L4 18.59l7.72-7.72 1.47 1.35L5.41 20z\"/>\n",
              "  </svg>\n",
              "      </button>\n",
              "      \n",
              "  <style>\n",
              "    .colab-df-container {\n",
              "      display:flex;\n",
              "      flex-wrap:wrap;\n",
              "      gap: 12px;\n",
              "    }\n",
              "\n",
              "    .colab-df-convert {\n",
              "      background-color: #E8F0FE;\n",
              "      border: none;\n",
              "      border-radius: 50%;\n",
              "      cursor: pointer;\n",
              "      display: none;\n",
              "      fill: #1967D2;\n",
              "      height: 32px;\n",
              "      padding: 0 0 0 0;\n",
              "      width: 32px;\n",
              "    }\n",
              "\n",
              "    .colab-df-convert:hover {\n",
              "      background-color: #E2EBFA;\n",
              "      box-shadow: 0px 1px 2px rgba(60, 64, 67, 0.3), 0px 1px 3px 1px rgba(60, 64, 67, 0.15);\n",
              "      fill: #174EA6;\n",
              "    }\n",
              "\n",
              "    [theme=dark] .colab-df-convert {\n",
              "      background-color: #3B4455;\n",
              "      fill: #D2E3FC;\n",
              "    }\n",
              "\n",
              "    [theme=dark] .colab-df-convert:hover {\n",
              "      background-color: #434B5C;\n",
              "      box-shadow: 0px 1px 3px 1px rgba(0, 0, 0, 0.15);\n",
              "      filter: drop-shadow(0px 1px 2px rgba(0, 0, 0, 0.3));\n",
              "      fill: #FFFFFF;\n",
              "    }\n",
              "  </style>\n",
              "\n",
              "      <script>\n",
              "        const buttonEl =\n",
              "          document.querySelector('#df-ee086ca8-8eb5-4e17-87ff-677977eb3bfa button.colab-df-convert');\n",
              "        buttonEl.style.display =\n",
              "          google.colab.kernel.accessAllowed ? 'block' : 'none';\n",
              "\n",
              "        async function convertToInteractive(key) {\n",
              "          const element = document.querySelector('#df-ee086ca8-8eb5-4e17-87ff-677977eb3bfa');\n",
              "          const dataTable =\n",
              "            await google.colab.kernel.invokeFunction('convertToInteractive',\n",
              "                                                     [key], {});\n",
              "          if (!dataTable) return;\n",
              "\n",
              "          const docLinkHtml = 'Like what you see? Visit the ' +\n",
              "            '<a target=\"_blank\" href=https://colab.research.google.com/notebooks/data_table.ipynb>data table notebook</a>'\n",
              "            + ' to learn more about interactive tables.';\n",
              "          element.innerHTML = '';\n",
              "          dataTable['output_type'] = 'display_data';\n",
              "          await google.colab.output.renderOutput(dataTable, element);\n",
              "          const docLink = document.createElement('div');\n",
              "          docLink.innerHTML = docLinkHtml;\n",
              "          element.appendChild(docLink);\n",
              "        }\n",
              "      </script>\n",
              "    </div>\n",
              "  </div>\n",
              "  "
            ]
          },
          "metadata": {},
          "execution_count": 142
        }
      ],
      "source": [
        "#Read the files\n",
        "clearedData = pd.read_csv(fileClearedData) \n",
        "players = pd.read_csv(filePlayers)\n",
        "clearedData.drop(['Surface'], axis=1, inplace=True)\n",
        "clearedData.head()"
      ]
    },
    {
      "cell_type": "code",
      "execution_count": 115,
      "metadata": {
        "id": "9eAlzAIBQrA0",
        "colab": {
          "base_uri": "https://localhost:8080/"
        },
        "outputId": "57e8c332-1d42-4cda-f6f3-24aafd36adbd"
      },
      "outputs": [
        {
          "output_type": "stream",
          "name": "stdout",
          "text": [
            "(116409, 6) (6127, 6)\n"
          ]
        }
      ],
      "source": [
        "# take the dataset and reverse each game (reverse the winner and the looser) to double the size of the dataset\n",
        "dataM = clearedData.values\n",
        "def doubleGame(M,trainSize):\n",
        "    np.random.shuffle(M)\n",
        "    M2 = []\n",
        "    for match in M:\n",
        "        reversematch = [match[1],match[0],match[3],match[2],match[5],match[4],match[7],match[6],match[9],match[8]]   \n",
        "        M2.append(match)\n",
        "        M2.append(reversematch)\n",
        "    Train = np.array(M2[:int(len(M2)*trainSize)])\n",
        "    Test = np.array(M2[int(len(M2)*trainSize):])\n",
        "    alldata = np.concatenate((Train, Test), axis=0)\n",
        "    np.random.shuffle(Train)\n",
        "    np.random.shuffle(Test)\n",
        "    \n",
        "    #TrainX = inputs, TrainY = outputs\n",
        "    TrainX = np.transpose(np.transpose(Train)[2:8])\n",
        "    TrainY = np.transpose(np.transpose(Train)[8:])\n",
        "\n",
        "    TestX = np.transpose(np.transpose(Test)[2:8])\n",
        "    TestY = np.transpose(np.transpose(Test)[8:])\n",
        "    return TrainX, TrainY, TestX, TestY, alldata\n",
        "\n",
        "X_train, y_train, X_test, y_test, alldata = doubleGame(dataM,trainSize)\n",
        "print(X_train.shape, X_test.shape)"
      ]
    },
    {
      "cell_type": "code",
      "source": [
        "model1 = XGBClassifier(n_estimators=120, max_depth=4, learning_rate=0.11)\n",
        "pred_idx: int = 1\n",
        "model1.fit(X_train, y_train[:, pred_idx])"
      ],
      "metadata": {
        "id": "2vix0c_cV1RD",
        "outputId": "2a91820e-0d7f-45f7-d230-501919c46b3f",
        "colab": {
          "base_uri": "https://localhost:8080/"
        }
      },
      "execution_count": 209,
      "outputs": [
        {
          "output_type": "execute_result",
          "data": {
            "text/plain": [
              "XGBClassifier(learning_rate=0.11, max_depth=4, n_estimators=120)"
            ]
          },
          "metadata": {},
          "execution_count": 209
        }
      ]
    },
    {
      "cell_type": "code",
      "source": [
        "preds1 = model1.predict(X_test)\n",
        "print(balanced_accuracy_score(list(preds1), list(y_test[:, pred_idx])))"
      ],
      "metadata": {
        "id": "cOgE3VW_WO9g",
        "outputId": "2d99034c-0539-40b1-bef6-7d8891e22e1d",
        "colab": {
          "base_uri": "https://localhost:8080/"
        }
      },
      "execution_count": 210,
      "outputs": [
        {
          "output_type": "stream",
          "name": "stdout",
          "text": [
            "0.6902248384649482\n"
          ]
        }
      ]
    },
    {
      "cell_type": "code",
      "source": [
        "# check prob and skip rate\n",
        "correct, incorrect, skipped = 0, 0, 0\n",
        "confidence = 0.55\n",
        "\n",
        "preds_prob = model1.predict_proba(X_test)\n",
        "for pred_arr, actual in zip(preds_prob, list(y_test[:, pred_idx])):\n",
        "  # highest probability prediction\n",
        "  pred = np.argmax(pred_arr)\n",
        "  prob = pred_arr[[pred]]\n",
        "\n",
        "  if prob > confidence:\n",
        "    if pred == actual: \n",
        "      correct += 1\n",
        "    else: \n",
        "      incorrect += 1 \n",
        "  else: \n",
        "    skipped += 1\n",
        "\n",
        "print(correct / (correct + incorrect))\n",
        "print(skipped / (len(X_test)))"
      ],
      "metadata": {
        "colab": {
          "base_uri": "https://localhost:8080/"
        },
        "id": "SdX0R67DnrhB",
        "outputId": "d7b455ab-b875-4361-cb6a-af26c65d2ed0"
      },
      "execution_count": 228,
      "outputs": [
        {
          "output_type": "stream",
          "name": "stdout",
          "text": [
            "0.7218700475435816\n",
            "0.17610576138403786\n"
          ]
        }
      ]
    },
    {
      "cell_type": "code",
      "execution_count": 229,
      "metadata": {
        "id": "7u9QA8OtQrA2"
      },
      "outputs": [],
      "source": [
        "class NotEnoughGame(Exception):\n",
        "    \"\"\"One of the player need to play more for the data to be usefull\"\"\"\n",
        "    pass\n",
        "\n",
        "def prediction(model, p1, p2, minproba, minnbgames, earnings):\n",
        "    rankP1 = float(players.loc[players['Name'] == p1, \"Rank\"])\n",
        "    rankP2 = float(players.loc[players['Name'] == p2, \"Rank\"])\n",
        "    winrateP1 = float(players.loc[players['Name'] == p1, \"Winrate\"])\n",
        "    winrateP2 = float(players.loc[players['Name'] == p2, \"Winrate\"])\n",
        "    nbGameP1 = float(players.loc[players['Name'] == p1, \"NbGames\"])\n",
        "    nbGameP2 = float(players.loc[players['Name'] == p2, \"NbGames\"])\n",
        "    \n",
        "    if (nbGameP1 < minnbgames) or (nbGameP2 < minnbgames):\n",
        "        raise NotEnoughGame\n",
        "    \n",
        "    dataPredict = np.array([1/rankP1, 1/rankP2, winrateP1, winrateP2, nbGameP1, nbGameP2])\n",
        "    res = model.predict_proba(np.array([dataPredict]))[0]\n",
        "    \n",
        "    print(p1, \"- rank\", rankP1, \"- winrate\", winrateP1, \"- nbGames\", nbGameP1)\n",
        "    print(p2, \"- rank\", rankP2, \"- winrate\", winrateP2, \"- nbGames\", nbGameP2)\n",
        "    print(\"Prediction :\", res)\n",
        "    if (res[0] >= minproba):\n",
        "        print(\"Bet on\", p1, \"if odds >\", earnings/res[0])\n",
        "    elif (res[1] >= minproba):\n",
        "        print(\"Bet on\", p2, \"if odds >\", earnings/res[1])\n",
        "    else:\n",
        "        print(\"Do not bet\")\n",
        "    return res"
      ]
    },
    {
      "cell_type": "code",
      "execution_count": null,
      "metadata": {
        "id": "HaKXxrs4QrA3"
      },
      "outputs": [],
      "source": [
        "#I predict between p1 and p2 which player i should bet (or not bet at all)\n",
        "p1 = 'Medvedev D.'\n",
        "p2 = 'Kyrgios N.'\n",
        "\n",
        "prediction(model1, p1, p2, minproba, minnbgames, earnings)"
      ]
    }
  ],
  "metadata": {
    "kernelspec": {
      "display_name": "Python 3",
      "language": "python",
      "name": "python3"
    },
    "language_info": {
      "codemirror_mode": {
        "name": "ipython",
        "version": 3
      },
      "file_extension": ".py",
      "mimetype": "text/x-python",
      "name": "python",
      "nbconvert_exporter": "python",
      "pygments_lexer": "ipython3",
      "version": "3.7.4"
    },
    "colab": {
      "provenance": [],
      "include_colab_link": true
    }
  },
  "nbformat": 4,
  "nbformat_minor": 0
}