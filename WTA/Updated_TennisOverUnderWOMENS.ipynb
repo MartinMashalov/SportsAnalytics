{
  "nbformat": 4,
  "nbformat_minor": 0,
  "metadata": {
    "colab": {
      "provenance": [],
      "collapsed_sections": [
        "1SB_U6SLq86m"
      ]
    },
    "kernelspec": {
      "name": "python3",
      "display_name": "Python 3"
    },
    "language_info": {
      "name": "python"
    }
  },
  "cells": [
    {
      "cell_type": "markdown",
      "source": [
        "## Setup"
      ],
      "metadata": {
        "id": "iftTvDeKq7e0"
      }
    },
    {
      "cell_type": "code",
      "source": [
        "!pip install shap\n",
        "!pip install --upgrade xlrd\n",
        "!pip install imbalanced-learn"
      ],
      "metadata": {
        "id": "xOAGnr1ArS_u"
      },
      "execution_count": 1,
      "outputs": []
    },
    {
      "cell_type": "code",
      "execution_count": 2,
      "metadata": {
        "id": "MbACNnFLqzjo"
      },
      "outputs": [],
      "source": [
        "# utilities\n",
        "import os\n",
        "import pandas as pd \n",
        "import numpy as np\n",
        "import math\n",
        "from pprint import pprint\n",
        "from sklearn.preprocessing import LabelEncoder\n",
        "from tqdm import tqdm \n",
        "from sklearn.feature_selection import RFE\n",
        "import matplotlib.pyplot as plt\n",
        "import seaborn as sns\n",
        "\n",
        "# ML models\n",
        "from xgboost import XGBClassifier\n",
        "from sklearn.ensemble import RandomForestClassifier\n",
        "from sklearn.preprocessing import LabelEncoder, LabelBinarizer\n",
        "from sklearn.impute import SimpleImputer\n",
        "from sklearn.model_selection import train_test_split\n",
        "from sklearn.metrics import f1_score, balanced_accuracy_score, classification_report\n",
        "\n",
        "from sklearn.linear_model import LogisticRegression\n",
        "from sklearn.ensemble import RandomForestClassifier, AdaBoostClassifier\n",
        "from sklearn.decomposition import PCA\n",
        "from sklearn.metrics import accuracy_score, roc_auc_score\n",
        "from sklearn.model_selection import StratifiedShuffleSplit\n",
        "from imblearn.over_sampling import SMOTE, SMOTEN\n",
        "from imblearn.under_sampling import RandomUnderSampler\n",
        "from sklearn.model_selection import cross_val_score\n",
        "\n",
        "import warnings\n",
        "from IPython.display import clear_output \n",
        "warnings.filterwarnings(\"ignore\")"
      ]
    },
    {
      "cell_type": "code",
      "source": [
        "from google.colab import drive\n",
        "drive.mount('/content/drive')"
      ],
      "metadata": {
        "colab": {
          "base_uri": "https://localhost:8080/"
        },
        "id": "m8tVlsHyq3qO",
        "outputId": "33c69996-d5e8-4137-90a5-a906eaee60a4"
      },
      "execution_count": 4,
      "outputs": [
        {
          "output_type": "stream",
          "name": "stdout",
          "text": [
            "Mounted at /content/drive\n"
          ]
        }
      ]
    },
    {
      "cell_type": "markdown",
      "source": [
        "## Data Download"
      ],
      "metadata": {
        "id": "1SB_U6SLq86m"
      }
    },
    {
      "cell_type": "code",
      "source": [
        "mode = 'ATP'\n",
        "data_dir = 'Womens'"
      ],
      "metadata": {
        "id": "GkeoeSgiIDue"
      },
      "execution_count": 78,
      "outputs": []
    },
    {
      "cell_type": "code",
      "source": [
        "%cd .."
      ],
      "metadata": {
        "colab": {
          "base_uri": "https://localhost:8080/"
        },
        "id": "seyXbkgBnI22",
        "outputId": "23a24ac7-ca89-4fd5-a73b-f926940c968f"
      },
      "execution_count": 90,
      "outputs": [
        {
          "output_type": "stream",
          "name": "stdout",
          "text": [
            "/content\n"
          ]
        }
      ]
    },
    {
      "cell_type": "code",
      "source": [
        "!mkdir data\n",
        "%cd data\n",
        "!git clone https://github.com/JeffSackmann/tennis_wta\n",
        "%cd tennis_atp"
      ],
      "metadata": {
        "colab": {
          "base_uri": "https://localhost:8080/"
        },
        "id": "p2Y2dg9UnKqo",
        "outputId": "58d6ab2d-0852-42f5-c6e5-541fd68ecc36"
      },
      "execution_count": 91,
      "outputs": [
        {
          "output_type": "stream",
          "name": "stdout",
          "text": [
            "mkdir: cannot create directory ‘data’: File exists\n",
            "/content/data\n",
            "fatal: destination path 'tennis_wta' already exists and is not an empty directory.\n",
            "[Errno 2] No such file or directory: 'tennis_atp'\n",
            "/content/data\n"
          ]
        }
      ]
    },
    {
      "cell_type": "code",
      "source": [
        "%cd tennis_wta"
      ],
      "metadata": {
        "colab": {
          "base_uri": "https://localhost:8080/"
        },
        "id": "EcvijlVzngrn",
        "outputId": "37820ff2-43bc-468d-f295-46557ab7f801"
      },
      "execution_count": 92,
      "outputs": [
        {
          "output_type": "stream",
          "name": "stdout",
          "text": [
            "/content/data/tennis_wta\n"
          ]
        }
      ]
    },
    {
      "cell_type": "code",
      "source": [
        "# get file names to upload\n",
        "dir_idx: str = f\"wta_matches_1968.csv\"\n",
        "df = pd.read_csv(dir_idx)\n",
        "features: list = ['tourney_date', 'tourney_name', 'surface',\n",
        "                  'winner_name', 'winner_hand', 'winner_ht', \n",
        "                  'loser_name', 'loser_hand', 'loser_ht', 'score', 'best_of', 'round',\n",
        "                  'winner_rank', 'loser_rank']       \n",
        "df = df[features]\n",
        "\n",
        "for i in tqdm(range(1969, 2023)): \n",
        "  dir_idx: str = f\"wta_matches_{i}.csv\"\n",
        "  df_add = pd.read_csv(dir_idx)          \n",
        "  df_add = df_add[features]\n",
        "\n",
        "  # create an average for the odds columns\n",
        "  df_add.reset_index(inplace=True, drop=True)\n",
        "  df = pd.concat([df, df_add])\n",
        "\n",
        "df.dropna(inplace=True)"
      ],
      "metadata": {
        "colab": {
          "base_uri": "https://localhost:8080/"
        },
        "id": "HHLJdfqmnO8v",
        "outputId": "b9b055e5-913b-47b1-e2cf-c8a84c974d79"
      },
      "execution_count": 93,
      "outputs": [
        {
          "output_type": "stream",
          "name": "stderr",
          "text": [
            "100%|██████████| 54/54 [00:01<00:00, 27.66it/s]\n"
          ]
        }
      ]
    },
    {
      "cell_type": "code",
      "source": [
        "df['W'] = df['winner_name'] \n",
        "df['L'] = df['loser_name']\n",
        "df['total_sets'] = df['score'].apply(lambda x: len(str(x).split(' ')))"
      ],
      "metadata": {
        "id": "GEcnnS4_rd5n"
      },
      "execution_count": 94,
      "outputs": []
    },
    {
      "cell_type": "code",
      "source": [
        "# create player id encoding\n",
        "player_id = LabelEncoder()\n",
        "\n",
        "player_arr: list = list(df['W'])\n",
        "player_arr.extend(list(df['L']))\n",
        "player_id.fit(player_arr)\n",
        "df['W'] = player_id.transform(df['W'])\n",
        "df['L'] = player_id.transform(df['L'])\n",
        "\n",
        "# remove winner and loser names\n",
        "df.drop(['winner_name', 'loser_name'], axis=1, inplace=True)"
      ],
      "metadata": {
        "id": "eLgvGH1irgDP"
      },
      "execution_count": 95,
      "outputs": []
    },
    {
      "cell_type": "code",
      "source": [
        "loc = LabelEncoder()\n",
        "df['tourney_name'] = loc.fit_transform(df['tourney_name'])\n",
        "\n",
        "surf = LabelEncoder()\n",
        "df['surface'] = surf.fit_transform(df['surface'])\n",
        "\n",
        "round_enc = LabelEncoder()\n",
        "df['round'] = round_enc.fit_transform(df['round'])\n",
        "\n",
        "hand_enc = LabelEncoder()\n",
        "hand_arr: list = list(df['winner_hand'])\n",
        "hand_arr.extend(list(df['loser_hand']))\n",
        "hand_enc.fit(hand_arr)\n",
        "df['winner_hand'] = hand_enc.transform(df['winner_hand'])\n",
        "df['loser_hand'] = hand_enc.transform(df['loser_hand'])"
      ],
      "metadata": {
        "id": "rH04d2LVrhZs"
      },
      "execution_count": 96,
      "outputs": []
    },
    {
      "cell_type": "code",
      "source": [
        "df.drop(['score', 'tourney_date'], axis=1, inplace=True)"
      ],
      "metadata": {
        "id": "bOb6V2kyrij7"
      },
      "execution_count": 97,
      "outputs": []
    },
    {
      "cell_type": "code",
      "source": [
        "%cd ..\n",
        "%cd drive/MyDrive/BetAIData/ATP/Womens"
      ],
      "metadata": {
        "id": "mcGojJnrroyD",
        "colab": {
          "base_uri": "https://localhost:8080/"
        },
        "outputId": "09e817e1-d3ce-4657-e97a-652ce570fb70"
      },
      "execution_count": 107,
      "outputs": [
        {
          "output_type": "stream",
          "name": "stdout",
          "text": [
            "/content\n",
            "/content/drive/MyDrive/BetAIData/ATP/Womens\n"
          ]
        }
      ]
    },
    {
      "cell_type": "code",
      "source": [
        "!pip install pandas==1.3.0"
      ],
      "metadata": {
        "colab": {
          "base_uri": "https://localhost:8080/"
        },
        "id": "EVbBsOFrtVfZ",
        "outputId": "e5b3aa5c-4e47-41e5-a75d-122b1967ee5f"
      },
      "execution_count": 108,
      "outputs": [
        {
          "output_type": "stream",
          "name": "stdout",
          "text": [
            "Looking in indexes: https://pypi.org/simple, https://us-python.pkg.dev/colab-wheels/public/simple/\n",
            "Requirement already satisfied: pandas==1.3.0 in /usr/local/lib/python3.8/dist-packages (1.3.0)\n",
            "Requirement already satisfied: pytz>=2017.3 in /usr/local/lib/python3.8/dist-packages (from pandas==1.3.0) (2022.6)\n",
            "Requirement already satisfied: numpy>=1.17.3 in /usr/local/lib/python3.8/dist-packages (from pandas==1.3.0) (1.21.6)\n",
            "Requirement already satisfied: python-dateutil>=2.7.3 in /usr/local/lib/python3.8/dist-packages (from pandas==1.3.0) (2.8.2)\n",
            "Requirement already satisfied: six>=1.5 in /usr/local/lib/python3.8/dist-packages (from python-dateutil>=2.7.3->pandas==1.3.0) (1.15.0)\n"
          ]
        }
      ]
    },
    {
      "cell_type": "code",
      "source": [
        "df.to_csv(\"WomensATP.csv\")"
      ],
      "metadata": {
        "id": "e-lJqa4brqDa"
      },
      "execution_count": 109,
      "outputs": []
    },
    {
      "cell_type": "markdown",
      "source": [
        "## Model"
      ],
      "metadata": {
        "id": "gIwdv5TWr2cO"
      }
    },
    {
      "cell_type": "code",
      "source": [
        "df = pd.read_csv('WomensATP.csv')\n",
        "df.drop(['Unnamed: 0'], axis=1, inplace=True)\n",
        "df.dropna(inplace=True)\n",
        "df['RankD'] = abs(df['winner_rank'] - df['loser_rank'])\n",
        "df['SetS'] = df['total_sets']\n",
        "df = df[df['best_of'] == 3.0]"
      ],
      "metadata": {
        "id": "ZsDR_6p5sCfZ"
      },
      "execution_count": 133,
      "outputs": []
    },
    {
      "cell_type": "code",
      "source": [
        "df['Target'] = df[\"SetS\"] > 2.5\n",
        "df['Target'] = df['Target'].astype(int)"
      ],
      "metadata": {
        "id": "Yvts5tC6sHZ5"
      },
      "execution_count": 134,
      "outputs": []
    },
    {
      "cell_type": "code",
      "source": [
        "df.dropna(inplace=True)\n",
        "X = df.drop(['Target', 'SetS', 'best_of', 'total_sets'], axis=1)\n",
        "y = df[['Target']]\n",
        "\n",
        "# oversample with SMOTE \n",
        "oversample = SMOTE()\n",
        "X, y = oversample.fit_resample(X, y)\n",
        "print(y.value_counts())\n",
        "\n",
        "X_train, X_test, y_train, y_test = train_test_split(\n",
        "      X, y, test_size=0.1, stratify=y)\n",
        "\n",
        "model = XGBClassifier()\n",
        "#scores = cross_val_score(model, X.values, y.values, cv=10, scoring='roc_auc')\n",
        "#print(scores)\n",
        "model.fit(X_train.values, y_train.values)\n",
        "preds = model.predict(X_test.values)\n",
        "acc = roc_auc_score(preds, y_test)\n",
        "\n",
        "# track parameters and accuracy \n",
        "current_acc = acc\n",
        "depth = model.max_depth\n",
        "subsample = model.subsample\n",
        "gamma = model.gamma \n",
        "eta = model.learning_rate\n",
        "tune: bool = False\n",
        "best_model = model\n",
        "\n",
        "for depth in tqdm([2, 3, 5, 7, 8]): \n",
        "  for subsample in [0.4, 0.5, 0.7, 0.8]: \n",
        "    for gamma in [0.1, 0.2]: \n",
        "      for eta in [0.3, 0.1, 0.5]: \n",
        "        model = XGBClassifier(\n",
        "            learning_rate=eta, \n",
        "            gamma=gamma, \n",
        "            subsample=subsample, \n",
        "            max_depth=depth\n",
        "        )\n",
        "        model.fit(X_train.values, y_train.values)\n",
        "        preds = model.predict(X_test.values)\n",
        "        acc = roc_auc_score(preds, y_test)\n",
        "        if acc > current_acc: \n",
        "          current_acc = acc\n",
        "          best_model = model"
      ],
      "metadata": {
        "colab": {
          "base_uri": "https://localhost:8080/"
        },
        "id": "RAIxs02ksTPj",
        "outputId": "4a7740fc-d614-46a0-fc74-42a8cd67862a"
      },
      "execution_count": 135,
      "outputs": [
        {
          "output_type": "stream",
          "name": "stdout",
          "text": [
            "Target\n",
            "0         49248\n",
            "1         49248\n",
            "dtype: int64\n"
          ]
        },
        {
          "output_type": "stream",
          "name": "stderr",
          "text": [
            "100%|██████████| 5/5 [21:32<00:00, 258.58s/it]\n"
          ]
        }
      ]
    },
    {
      "cell_type": "code",
      "source": [
        "import matplotlib.pyplot as plt \n",
        "plt.bar(range(len(model.feature_importances_)), model.feature_importances_)"
      ],
      "metadata": {
        "colab": {
          "base_uri": "https://localhost:8080/",
          "height": 283
        },
        "id": "bfPchm43sdg0",
        "outputId": "2a91b81d-1df1-4286-b456-3a1af334cb7f"
      },
      "execution_count": 136,
      "outputs": [
        {
          "output_type": "execute_result",
          "data": {
            "text/plain": [
              "<BarContainer object of 12 artists>"
            ]
          },
          "metadata": {},
          "execution_count": 136
        },
        {
          "output_type": "display_data",
          "data": {
            "text/plain": [
              "<Figure size 432x288 with 1 Axes>"
            ],
            "image/png": "[encoded data removed]"
          },
          "metadata": {
            "needs_background": "light"
          }
        }
      ]
    },
    {
      "cell_type": "code",
      "source": [
        "probs_pred = model.predict_proba(X_test.values)\n",
        "confidence = 0.86\n",
        "\n",
        "correct, incorrect, skipped = 0, 0, 0\n",
        "\n",
        "for arr_prob, actual in zip(probs_pred, y_test.values): \n",
        "  prob = arr_prob[np.argmax(arr_prob)]\n",
        "  pred = np.argmax(arr_prob)\n",
        "\n",
        "  if prob > confidence: \n",
        "    if pred == actual[0]: \n",
        "      correct += 1\n",
        "    else: \n",
        "      incorrect += 1\n",
        "  else: \n",
        "    skipped += 1\n",
        "\n",
        "print(correct / (incorrect + correct))\n",
        "print(skipped / len(y_test))"
      ],
      "metadata": {
        "colab": {
          "base_uri": "https://localhost:8080/"
        },
        "id": "7GX7DGvIsehZ",
        "outputId": "d865b529-d575-4acf-f39b-9de6b1032bfc"
      },
      "execution_count": 141,
      "outputs": [
        {
          "output_type": "stream",
          "name": "stdout",
          "text": [
            "0.9087090450854103\n",
            "0.6374619289340101\n"
          ]
        }
      ]
    },
    {
      "cell_type": "markdown",
      "source": [
        "## Run "
      ],
      "metadata": {
        "id": "86G9kyH9tm9W"
      }
    },
    {
      "cell_type": "code",
      "source": [
        "# create prompt for selecting players\n",
        "tour_names = {i: loc.inverse_transform([i])[0] for i in X['tourney_name'].unique()}\n",
        "tour_names = sorted(tour_names.items(), key=lambda x:x[1])\n",
        "\n",
        "# tournament round \n",
        "rounds = {i: round_enc.inverse_transform([i])[0] for i in X['round'].unique()}\n",
        "rounds = sorted(rounds.items(), key=lambda x:x[1])\n",
        "\n",
        "# surface\n",
        "surfaces = {i: surf.inverse_transform([i])[0] for i in X['surface'].unique()}\n",
        "surfaces = sorted(surfaces.items(), key=lambda x:x[1])\n",
        "\n",
        "# players\n",
        "P1 = list(df['W'].unique())\n",
        "P2 = list(df['W'].unique())\n",
        "P1.extend(P2)\n",
        "players = {i: player_id.inverse_transform([i])[0] for i in set(P1)}\n",
        "players = sorted(players.items(), key=lambda x:x[1])\n",
        "\n",
        "# hands \n",
        "H1 = list(df['winner_hand'].unique())\n",
        "H2 = list(df['loser_hand'].unique())\n",
        "H1.extend(H2)\n",
        "hands = {i: hand_enc.inverse_transform([i])[0] for i in set(H1)}\n",
        "hands = sorted(hands.items(), key=lambda x:x[1])\n",
        "\n",
        "### ------PROMPT------\n",
        "\n",
        "# location\n",
        "pprint(tour_names)\n",
        "location_fet = int(input(\"Tour Name: \"))\n",
        "clear_output()\n",
        "\n",
        "# round \n",
        "pprint(rounds)\n",
        "round_fet = int(input(\"Round: \"))\n",
        "clear_output()\n",
        "\n",
        "# surfaces\n",
        "pprint(surfaces)\n",
        "surface_fet = int(input(\"Surface: \"))\n",
        "clear_output()\n",
        "\n",
        "# players\n",
        "pprint(players)\n",
        "P1 = int(input(\"Player 1: \"))\n",
        "P2 = int(input(\"Player 2: \"))\n",
        "clear_output()\n",
        "\n",
        "# ranks\n",
        "RankA = int(input(\"Player 1 Rank: \"))\n",
        "RankB = int(input(\"Player 2 Rank: \"))\n",
        "RankD = abs(RankA - RankB)\n",
        "clear_output()\n",
        "\n",
        "# hand\n",
        "pprint(hands)\n",
        "HA = float(input(\"Player 1 Hand: \"))\n",
        "HB = float(input(\"Player 2 Hand: \"))\n",
        "clear_output()\n",
        "\n",
        "# height\n",
        "HTA = float(input(\"Player 1 Height: \"))\n",
        "HTB = float(input(\"Player 2 Height: \"))\n",
        "clear_output()\n",
        "\n",
        "# predict and return result\n",
        "X_pred = [location_fet, surface_fet, HA, HTA, HB, HTB, round_fet, RankA, RankB, P1, P2, RankD]\n",
        "y_pred = model.predict_proba([X_pred])\n",
        "if np.argmax(y_pred) == 1: \n",
        "  print('Over: ', str(np.round(100*y_pred[0][np.argmax(y_pred)], 2)) + '%', f'Minimum Confidence: {86}.00%')\n",
        "else:  \n",
        "  print('Under: ', str(np.round(100*y_pred[0][np.argmax(y_pred)], 2)) + '%', f'Minimum Confidence: {86}.00%')"
      ],
      "metadata": {
        "colab": {
          "base_uri": "https://localhost:8080/"
        },
        "id": "mlQPV4BYtoEf",
        "outputId": "95ff240b-611f-4449-c319-180a70c71e93"
      },
      "execution_count": 132,
      "outputs": [
        {
          "output_type": "stream",
          "name": "stdout",
          "text": [
            "Over:  54.54% Minimum Confidence: 67.00%\n"
          ]
        }
      ]
    }
  ]
}