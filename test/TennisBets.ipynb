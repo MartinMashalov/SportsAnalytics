{
  "nbformat": 4,
  "nbformat_minor": 0,
  "metadata": {
    "colab": {
      "provenance": [],
      "collapsed_sections": [
        "dmd9HIEYLPf9"
      ]
    },
    "kernelspec": {
      "name": "python3",
      "display_name": "Python 3"
    },
    "language_info": {
      "name": "python"
    }
  },
  "cells": [
    {
      "cell_type": "code",
      "execution_count": null,
      "metadata": {
        "id": "SJ9PlOiSHiE2"
      },
      "outputs": [],
      "source": [
        "!pip install shap\n",
        "!pip install pandas==1.2.0\n",
        "!pip install --upgrade xlrd\n",
        "!pip install --upgrade pandas"
      ]
    },
    {
      "cell_type": "markdown",
      "source": [
        "## Install and Import Necessary Packages"
      ],
      "metadata": {
        "id": "mkJ4Eg7lHyaH"
      }
    },
    {
      "cell_type": "code",
      "source": [
        "import pandas as pd \n",
        "import numpy as np\n",
        "from sklearn.feature_selection import RFE\n",
        "import matplotlib.pyplot as plt\n",
        "import seaborn as sns\n",
        "from tqdm import tqdm\n",
        "\n",
        "import warnings\n",
        "warnings.filterwarnings(\"ignore\")\n",
        "\n",
        "# ML models\n",
        "from xgboost import XGBClassifier\n",
        "from sklearn.ensemble import RandomForestClassifier\n",
        "from sklearn.preprocessing import LabelEncoder, LabelBinarizer\n",
        "from sklearn.impute import SimpleImputer\n",
        "from sklearn.model_selection import train_test_split\n",
        "from sklearn.metrics import f1_score, balanced_accuracy_score, classification_report"
      ],
      "metadata": {
        "id": "kMZhGfvvH1wL"
      },
      "execution_count": null,
      "outputs": []
    },
    {
      "cell_type": "code",
      "source": [
        "from google.colab import drive\n",
        "drive.mount('/content/drive')"
      ],
      "metadata": {
        "colab": {
          "base_uri": "https://localhost:8080/"
        },
        "id": "qjKbxpOTyxg8",
        "outputId": "be95c584-e327-4b1f-ef65-06c772f9232c"
      },
      "execution_count": null,
      "outputs": [
        {
          "output_type": "stream",
          "name": "stdout",
          "text": [
            "Mounted at /content/drive\n"
          ]
        }
      ]
    },
    {
      "cell_type": "markdown",
      "source": [
        "## Organize Data from Drive"
      ],
      "metadata": {
        "id": "3wpzZIsTkuLD"
      }
    },
    {
      "cell_type": "code",
      "source": [
        "from google.colab import drive\n",
        "drive.mount('/content/drive')"
      ],
      "metadata": {
        "colab": {
          "base_uri": "https://localhost:8080/"
        },
        "id": "cwq0tBdRIDbU",
        "outputId": "87a1756c-151e-4c3f-b69c-995fb338dd76"
      },
      "execution_count": null,
      "outputs": [
        {
          "output_type": "stream",
          "name": "stdout",
          "text": [
            "Drive already mounted at /content/drive; to attempt to forcibly remount, call drive.mount(\"/content/drive\", force_remount=True).\n"
          ]
        }
      ]
    },
    {
      "cell_type": "code",
      "source": [
        "# get file names to upload\n",
        "dir_idx: str = \"/content/drive/MyDrive/BetAIData/2000.xls\"\n",
        "df = pd.read_excel(dir_idx)\n",
        "features: list = ['ATP', 'Location', 'Tournament', 'Date', 'Series', 'Court', 'Round', 'Best of', \n",
        "                  'Winner', \"Loser\", 'Surface', 'WRank', 'LRank', \"Wsets\", 'Lsets', \"Comment\"]              \n",
        "df = df[features]\n",
        "\n",
        "for i in tqdm(range(2001, 2023)): \n",
        "  if i < 2013: \n",
        "    dir_idx: str = f\"/content/drive/MyDrive/BetAIData/{i}.xls\"\n",
        "  else: \n",
        "    dir_idx: str = f\"/content/drive/MyDrive/BetAIData/{i}.xlsx\"\n",
        "  \n",
        "  df_add = pd.read_excel(dir_idx)\n",
        "  df_add = df_add[features]\n",
        "  df = pd.concat([df, df_add])"
      ],
      "metadata": {
        "colab": {
          "base_uri": "https://localhost:8080/"
        },
        "id": "ZyrrNkRpk9Sj",
        "outputId": "037ed3ca-5da3-4f96-9b9b-361bdc02906d"
      },
      "execution_count": null,
      "outputs": [
        {
          "output_type": "stream",
          "name": "stderr",
          "text": [
            " 55%|█████▍    | 12/22 [00:03<00:03,  3.11it/s]/usr/local/lib/python3.8/dist-packages/openpyxl/worksheet/_reader.py:312: UserWarning: Unknown extension is not supported and will be removed\n",
            "  warn(msg)\n",
            " 59%|█████▉    | 13/22 [00:05<00:05,  1.63it/s]/usr/local/lib/python3.8/dist-packages/openpyxl/worksheet/_reader.py:312: UserWarning: Unknown extension is not supported and will be removed\n",
            "  warn(msg)\n",
            " 64%|██████▎   | 14/22 [00:06<00:06,  1.16it/s]/usr/local/lib/python3.8/dist-packages/openpyxl/worksheet/_reader.py:312: UserWarning: Unknown extension is not supported and will be removed\n",
            "  warn(msg)\n",
            " 68%|██████▊   | 15/22 [00:07<00:07,  1.00s/it]/usr/local/lib/python3.8/dist-packages/openpyxl/worksheet/_reader.py:312: UserWarning: Unknown extension is not supported and will be removed\n",
            "  warn(msg)\n",
            "100%|██████████| 22/22 [00:16<00:00,  1.35it/s]\n"
          ]
        }
      ]
    },
    {
      "cell_type": "code",
      "source": [
        "df = df[df['Comment'] == 'Completed']"
      ],
      "metadata": {
        "id": "gnJB2EAqx_2_"
      },
      "execution_count": null,
      "outputs": []
    },
    {
      "cell_type": "markdown",
      "source": [
        "## Exploratory Data Analysis"
      ],
      "metadata": {
        "id": "dmd9HIEYLPf9"
      }
    },
    {
      "cell_type": "code",
      "source": [
        "df.info()"
      ],
      "metadata": {
        "colab": {
          "base_uri": "https://localhost:8080/"
        },
        "id": "o-oJPoTiuWEO",
        "outputId": "9d77629f-c9a7-4ec6-cde0-f8bf711a40a8"
      },
      "execution_count": null,
      "outputs": [
        {
          "output_type": "stream",
          "name": "stdout",
          "text": [
            "<class 'pandas.core.frame.DataFrame'>\n",
            "Int64Index: 61296 entries, 0 to 2631\n",
            "Data columns (total 16 columns):\n",
            " #   Column      Non-Null Count  Dtype         \n",
            "---  ------      --------------  -----         \n",
            " 0   ATP         61296 non-null  int64         \n",
            " 1   Location    61296 non-null  object        \n",
            " 2   Tournament  61296 non-null  object        \n",
            " 3   Date        61296 non-null  datetime64[ns]\n",
            " 4   Series      61296 non-null  object        \n",
            " 5   Court       61296 non-null  object        \n",
            " 6   Round       61296 non-null  object        \n",
            " 7   Best of     61281 non-null  float64       \n",
            " 8   Winner      61296 non-null  object        \n",
            " 9   Loser       61296 non-null  object        \n",
            " 10  Surface     61296 non-null  object        \n",
            " 11  WRank       61276 non-null  object        \n",
            " 12  LRank       61191 non-null  object        \n",
            " 13  Wsets       61008 non-null  float64       \n",
            " 14  Lsets       61006 non-null  float64       \n",
            " 15  Comment     61296 non-null  object        \n",
            "dtypes: datetime64[ns](1), float64(3), int64(1), object(11)\n",
            "memory usage: 8.0+ MB\n"
          ]
        }
      ]
    },
    {
      "cell_type": "code",
      "source": [
        "df['Best of'].value_counts()"
      ],
      "metadata": {
        "colab": {
          "base_uri": "https://localhost:8080/"
        },
        "id": "BPrk36QMcfyQ",
        "outputId": "74397926-fde1-4a85-cd4a-0c9a9bb65684"
      },
      "execution_count": null,
      "outputs": [
        {
          "output_type": "execute_result",
          "data": {
            "text/plain": [
              "3.0    49642\n",
              "5.0    11639\n",
              "Name: Best of, dtype: int64"
            ]
          },
          "metadata": {},
          "execution_count": 55
        }
      ]
    },
    {
      "cell_type": "code",
      "source": [
        "# find feature correlations\n",
        "corr_tbl = df.corr()\n",
        "\n",
        "sns.set(rc={'figure.figsize':(24,15)})\n",
        "sns.heatmap(corr_tbl, annot=True)"
      ],
      "metadata": {
        "colab": {
          "base_uri": "https://localhost:8080/"
        },
        "id": "lxh22xzccmhd",
        "outputId": "2ef69423-5563-493b-8a70-7457b43d77e9"
      },
      "execution_count": null,
      "outputs": [
        {
          "output_type": "stream",
          "name": "stderr",
          "text": [
            "<ipython-input-56-dc239bdebb06>:2: FutureWarning: The default value of numeric_only in DataFrame.corr is deprecated. In a future version, it will default to False. Select only valid columns or specify the value of numeric_only to silence this warning.\n",
            "  corr_tbl = df.corr()\n"
          ]
        },
        {
          "output_type": "execute_result",
          "data": {
            "text/plain": [
              "<matplotlib.axes._subplots.AxesSubplot at 0x7f5a8cf54f40>"
            ]
          },
          "metadata": {},
          "execution_count": 56
        },
        {
          "output_type": "display_data",
          "data": {
            "text/plain": [
              "<Figure size 1728x1080 with 2 Axes>"
            ],
            "image/png": "[encoded data removed]"
          },
          "metadata": {}
        }
      ]
    },
    {
      "cell_type": "markdown",
      "source": [
        "## Data Preprocessing"
      ],
      "metadata": {
        "id": "0J5tgAI1d98D"
      }
    },
    {
      "cell_type": "code",
      "source": [
        "# remove correlated columns automatically\n",
        "corr_df = df.corr()\n",
        "\n",
        "# get all items above 0.5 correlation and drop them from dataframe \n",
        "try: \n",
        "  df.drop(['score','tourney_name','winner_name',\n",
        "                      'loser_name','minutes', 'l_1stIn', 'l_1stWon', 'l_2ndWon','l_ace', 'l_svpt',\n",
        "                      'l_SvGms','l_bpFaced','l_df', 'l_bpSaved',  'w_1stIn', 'w_1stWon','w_2ndWon', 'w_SvGms',\n",
        "                      'w_ace', 'w_svpt','w_bpFaced', 'w_bpSaved','w_df'], axis=1, inplace=True)\n",
        "except KeyError: \n",
        "  pass\n",
        "  \n",
        "df.info()"
      ],
      "metadata": {
        "colab": {
          "base_uri": "https://localhost:8080/"
        },
        "id": "lCJpqRYGd8L6",
        "outputId": "b930c60a-6aa6-4c9a-c38b-35833074e079"
      },
      "execution_count": null,
      "outputs": [
        {
          "output_type": "stream",
          "name": "stderr",
          "text": [
            "<ipython-input-362-3a2fb4903ef4>:2: FutureWarning: The default value of numeric_only in DataFrame.corr is deprecated. In a future version, it will default to False. Select only valid columns or specify the value of numeric_only to silence this warning.\n",
            "  corr_df = df.corr()\n"
          ]
        },
        {
          "output_type": "stream",
          "name": "stdout",
          "text": [
            "<class 'pandas.core.frame.DataFrame'>\n",
            "Int64Index: 59081 entries, 0 to 2631\n",
            "Data columns (total 16 columns):\n",
            " #   Column      Non-Null Count  Dtype         \n",
            "---  ------      --------------  -----         \n",
            " 0   ATP         59081 non-null  int64         \n",
            " 1   Location    59081 non-null  object        \n",
            " 2   Tournament  59081 non-null  object        \n",
            " 3   Date        59081 non-null  datetime64[ns]\n",
            " 4   Series      59081 non-null  object        \n",
            " 5   Court       59081 non-null  object        \n",
            " 6   Round       59081 non-null  object        \n",
            " 7   Best of     59066 non-null  float64       \n",
            " 8   Winner      59081 non-null  object        \n",
            " 9   Loser       59081 non-null  object        \n",
            " 10  Surface     59081 non-null  object        \n",
            " 11  WRank       59061 non-null  object        \n",
            " 12  LRank       58979 non-null  object        \n",
            " 13  Wsets       59080 non-null  float64       \n",
            " 14  Lsets       59080 non-null  float64       \n",
            " 15  Comment     59081 non-null  object        \n",
            "dtypes: datetime64[ns](1), float64(3), int64(1), object(11)\n",
            "memory usage: 7.7+ MB\n"
          ]
        }
      ]
    },
    {
      "cell_type": "code",
      "source": [
        "# check nan values\n",
        "df.isnull().sum()\n",
        "length = df.shape[0]\n",
        "nan_prev_threshold: float = 85\n",
        "\n",
        "null_df = df.isnull().sum()\n",
        "for col in df.columns:\n",
        "  null_df[f'{col}_percent'] = (null_df[col]/length)*100\n",
        "null_df.drop(df.columns, inplace=True)\n",
        "\n",
        "null_df_refined = pd.DataFrame(columns=['feature', 'nan_prevalence'])\n",
        "null_df_refined['feature'] = null_df.index\n",
        "null_df_refined['nan_prevalence'] = null_df.values\n",
        "null_df_refined = null_df_refined[null_df_refined['nan_prevalence'] < nan_prev_threshold]\n",
        "null_df_refined.reset_index(inplace=True, drop=True)\n",
        "features: list = list(null_df_refined['feature'])\n",
        "features = [col.replace('_percent', '') for col in features]"
      ],
      "metadata": {
        "id": "BXzT5r7JferZ"
      },
      "execution_count": null,
      "outputs": []
    },
    {
      "cell_type": "code",
      "source": [
        "df = df[features]\n",
        "df.shape"
      ],
      "metadata": {
        "colab": {
          "base_uri": "https://localhost:8080/"
        },
        "id": "06PBXEDnzWDo",
        "outputId": "12ed2035-b233-4b8a-cef9-483d4e896cbf"
      },
      "execution_count": null,
      "outputs": [
        {
          "output_type": "execute_result",
          "data": {
            "text/plain": [
              "(59081, 16)"
            ]
          },
          "metadata": {},
          "execution_count": 364
        }
      ]
    },
    {
      "cell_type": "markdown",
      "source": [
        "## Feature Engineering"
      ],
      "metadata": {
        "id": "NnlDCjdw0BmF"
      }
    },
    {
      "cell_type": "markdown",
      "source": [
        "## Run Once"
      ],
      "metadata": {
        "id": "j0rMPqWV3oSd"
      }
    },
    {
      "cell_type": "code",
      "source": [
        "try: \n",
        "  df.drop(['Date', 'Comment'], inplace=True, axis=1)\n",
        "except KeyError: \n",
        "  pass"
      ],
      "metadata": {
        "id": "c3MsP2TR0DWt"
      },
      "execution_count": null,
      "outputs": []
    },
    {
      "cell_type": "code",
      "source": [
        "# remove nans from sets\n",
        "df = df[~df['Wsets'].isna()]\n",
        "df = df[~df['Lsets'].isna()]"
      ],
      "metadata": {
        "id": "pR3LhwyVxTCh"
      },
      "execution_count": null,
      "outputs": []
    },
    {
      "cell_type": "code",
      "source": [
        "df = df[df['Wsets'] != 'NR']\n",
        "df = df[df['Lsets'] != 'NR']\n",
        "df = df[df['LRank'] != 'NR']\n",
        "df = df[df['WRank'] != 'NR']"
      ],
      "metadata": {
        "id": "dOtlQmk61r8c"
      },
      "execution_count": null,
      "outputs": []
    },
    {
      "cell_type": "code",
      "source": [
        "df['target_w'] = df['Wsets']\n",
        "df['target_l'] = df['Lsets']"
      ],
      "metadata": {
        "id": "fp2X9x2F6wTb"
      },
      "execution_count": null,
      "outputs": []
    },
    {
      "cell_type": "markdown",
      "source": [
        "## Variable Encoding"
      ],
      "metadata": {
        "id": "yyWYRt8H3qU1"
      }
    },
    {
      "cell_type": "code",
      "source": [
        "# encoding for tournament\n",
        "tourn_encoder = LabelEncoder()\n",
        "df['Tournament'] = tourn_encoder.fit_transform(df['Tournament'].astype(str))\n",
        "\n",
        "# encoder for location\n",
        "loc_encoder = LabelEncoder()\n",
        "df['Location'] = loc_encoder.fit_transform(df['Location'].astype(str))\n",
        "\n",
        "# series encoder\n",
        "ser_encoder = LabelEncoder()\n",
        "df['Series'] = ser_encoder.fit_transform(df['Series'].astype(str))\n",
        "\n",
        "# court encoder\n",
        "court_encoder = LabelEncoder()\n",
        "df['Court'] = court_encoder.fit_transform(df['Court'].astype(str))\n",
        "\n",
        "# round encoder\n",
        "round_encoder = LabelEncoder()\n",
        "df['Round'] = round_encoder.fit_transform(df['Round'].astype(str))\n",
        "\n",
        "# surface encoder\n",
        "surf_encoder = LabelEncoder()\n",
        "df['Surface'] = surf_encoder.fit_transform(df['Surface'].astype(str))\n",
        "\n",
        "# winner and loser encoder\n",
        "winner_encoder = LabelEncoder()\n",
        "df['Winner'] = winner_encoder.fit_transform(df['Winner'].astype(str))\n",
        "loser_encoder = LabelEncoder()\n",
        "df['Loser'] = loser_encoder.fit_transform(df['Loser'].astype(str))\n",
        "\n",
        "df.info()"
      ],
      "metadata": {
        "colab": {
          "base_uri": "https://localhost:8080/"
        },
        "id": "KujROUYQ154G",
        "outputId": "a2e8b874-316d-4b3d-b7b8-4b3f27ae592e"
      },
      "execution_count": null,
      "outputs": [
        {
          "output_type": "stream",
          "name": "stdout",
          "text": [
            "<class 'pandas.core.frame.DataFrame'>\n",
            "Int64Index: 59054 entries, 0 to 2631\n",
            "Data columns (total 16 columns):\n",
            " #   Column      Non-Null Count  Dtype  \n",
            "---  ------      --------------  -----  \n",
            " 0   ATP         59054 non-null  int64  \n",
            " 1   Location    59054 non-null  int64  \n",
            " 2   Tournament  59054 non-null  int64  \n",
            " 3   Series      59054 non-null  int64  \n",
            " 4   Court       59054 non-null  int64  \n",
            " 5   Round       59054 non-null  int64  \n",
            " 6   Best of     59039 non-null  float64\n",
            " 7   Winner      59054 non-null  int64  \n",
            " 8   Loser       59054 non-null  int64  \n",
            " 9   Surface     59054 non-null  int64  \n",
            " 10  WRank       59034 non-null  object \n",
            " 11  LRank       58952 non-null  object \n",
            " 12  Wsets       59054 non-null  float64\n",
            " 13  Lsets       59054 non-null  float64\n",
            " 14  target_w    59054 non-null  float64\n",
            " 15  target_l    59054 non-null  float64\n",
            "dtypes: float64(5), int64(9), object(2)\n",
            "memory usage: 7.7+ MB\n"
          ]
        }
      ]
    },
    {
      "cell_type": "code",
      "source": [
        "# imputer handling nan values\n",
        "df_imputed = pd.DataFrame(SimpleImputer(strategy='most_frequent').fit_transform(df))\n",
        "df_imputed.columns = df.columns\n",
        "df_imputed.index = df.index\n",
        "df = df_imputed.copy()  \n",
        "df['target_w'] = df['target_w'].astype(int)\n",
        "df['target_l'] = df['target_l'].astype(int)"
      ],
      "metadata": {
        "id": "6ubXOGtf4UJC"
      },
      "execution_count": null,
      "outputs": []
    },
    {
      "cell_type": "markdown",
      "source": [
        "## Predictive Model"
      ],
      "metadata": {
        "id": "4doIC3LQ5wzC"
      }
    },
    {
      "cell_type": "code",
      "source": [
        "# define train-test data (70-30 proportion)\n",
        "df = df.sample(frac=1)\n",
        "y = df[['target_w', 'target_l']]\n",
        "X = df.drop(['target_w', 'target_l'], axis=1)\n",
        "for col in X.columns: \n",
        "  X[col] = X[col].astype(float)\n",
        "X.drop(['Wsets', 'Lsets'], inplace=True, axis=1)\n",
        "X_train, X_test, y_train, y_test = train_test_split(X, y, test_size=0.7)"
      ],
      "metadata": {
        "id": "KS1xL6Bp50gg"
      },
      "execution_count": null,
      "outputs": []
    },
    {
      "cell_type": "code",
      "source": [
        "selector = RFE(XGBClassifier(), n_features_to_select=5, step=1)\n",
        "selector.fit(X, y['target_w'])\n",
        "print(selector.ranking_)\n",
        "selector = RFE(XGBClassifier(), n_features_to_select=5, step=1)\n",
        "selector.fit(X, y['target_l'])\n",
        "print(selector.ranking_)"
      ],
      "metadata": {
        "id": "wghXxJFv7iXp"
      },
      "execution_count": null,
      "outputs": []
    },
    {
      "cell_type": "code",
      "source": [
        "# XGBoost model\n",
        "model = XGBClassifier()\n",
        "model.fit(X_train, y_train['target_w'])\n",
        "preds_w = model.predict(X_test)\n",
        "\n",
        "# XGBoost model\n",
        "model = XGBClassifier(n_estimators=25)\n",
        "model.fit(X_train, y_train['target_l'])\n",
        "preds_l = model.predict(X_test)"
      ],
      "metadata": {
        "id": "HLscUhHe6IBW"
      },
      "execution_count": null,
      "outputs": []
    },
    {
      "cell_type": "code",
      "source": [
        "from sklearn.metrics import confusion_matrix, accuracy_score, precision_score, f1_score\n",
        "accuracy_score(y_test['target_w'], preds_w)"
      ],
      "metadata": {
        "colab": {
          "base_uri": "https://localhost:8080/"
        },
        "id": "zDN0Y2kl6kVV",
        "outputId": "cc78e9fe-84f8-4325-f1b0-50ad56bdcfca"
      },
      "execution_count": null,
      "outputs": [
        {
          "output_type": "execute_result",
          "data": {
            "text/plain": [
              "0.9994919928395182"
            ]
          },
          "metadata": {},
          "execution_count": 400
        }
      ]
    },
    {
      "cell_type": "code",
      "source": [
        "accuracy_score(y_test['target_l'], preds_l)"
      ],
      "metadata": {
        "colab": {
          "base_uri": "https://localhost:8080/"
        },
        "id": "F2fHWPCA8AMQ",
        "outputId": "2141393e-ab79-43e0-9490-436e638b9cc3"
      },
      "execution_count": null,
      "outputs": [
        {
          "output_type": "execute_result",
          "data": {
            "text/plain": [
              "0.6198413082393923"
            ]
          },
          "metadata": {},
          "execution_count": 401
        }
      ]
    },
    {
      "cell_type": "code",
      "source": [
        "from collections import Counter\n",
        "\n",
        "arr = []\n",
        "\n",
        "for w, l in zip(preds_w, preds_l): \n",
        "  # get winner \n",
        "  if w > l: \n",
        "    pred_winner = 1\n",
        "  else: \n",
        "    pred_winner = 0\n",
        "  \n",
        "  arr.append(pred_winner)\n",
        "\n",
        "Counter(arr)"
      ],
      "metadata": {
        "colab": {
          "base_uri": "https://localhost:8080/"
        },
        "id": "KwHou3LG83cg",
        "outputId": "6d72b0f4-5853-4e77-e7d1-9828f45b6a78"
      },
      "execution_count": null,
      "outputs": [
        {
          "output_type": "execute_result",
          "data": {
            "text/plain": [
              "Counter({1: 41338})"
            ]
          },
          "metadata": {},
          "execution_count": 402
        }
      ]
    },
    {
      "cell_type": "markdown",
      "source": [
        "## Updated Game-by-Game Model"
      ],
      "metadata": {
        "id": "c9zFTnxRyVFB"
      }
    },
    {
      "cell_type": "code",
      "source": [
        "!pip install imbalanced-learn"
      ],
      "metadata": {
        "id": "KR0tQR8ancqv"
      },
      "execution_count": null,
      "outputs": []
    },
    {
      "cell_type": "code",
      "source": [
        "df = pd.read_csv('drive/MyDrive/BetAIData/ATP/TennisBets6.csv')\n",
        "df.drop(['Unnamed: 0'], axis=1, inplace=True)\n",
        "df.dropna(inplace=True)\n",
        "df['Sets1'] = df['Sets1'].astype(int)\n",
        "df['Sets2'] = df['Sets2'].astype(int)\n",
        "df['RankD'] = abs(df['LRank'] - df['WRank'])\n",
        "df['SetS'] = df['Sets1'] + df['Sets2'] \n",
        "df.drop(['Sets1', 'Sets2'], inplace=True, axis=1)\n",
        "df = df[df['Best of'] == 5.0]"
      ],
      "metadata": {
        "id": "1tWP7AA6yS_A"
      },
      "execution_count": null,
      "outputs": []
    },
    {
      "cell_type": "code",
      "source": [
        "df['Target'] = df[\"SetS\"] > 4.5\n",
        "df['Target'] = df['Target'].astype(int)"
      ],
      "metadata": {
        "id": "FhP4xGfOjJM6"
      },
      "execution_count": null,
      "outputs": []
    },
    {
      "cell_type": "code",
      "source": [
        "from sklearn.linear_model import LogisticRegression\n",
        "from sklearn.ensemble import RandomForestClassifier, AdaBoostClassifier\n",
        "from sklearn.decomposition import PCA\n",
        "from sklearn.metrics import accuracy_score, roc_auc_score\n",
        "from sklearn.model_selection import StratifiedShuffleSplit\n",
        "from imblearn.over_sampling import SMOTE, SMOTEN\n",
        "from imblearn.under_sampling import RandomUnderSampler\n",
        "from sklearn.model_selection import cross_val_score\n",
        "\n",
        "df.dropna(inplace=True)\n",
        "X = df.drop(['Target', 'SetS', 'Best of'], axis=1)\n",
        "y = df[['Target']]\n",
        "\n",
        "# oversample with SMOTE \n",
        "oversample = SMOTE()\n",
        "X, y = oversample.fit_resample(X, y)\n",
        "print(y.value_counts())\n",
        "\n",
        "X_train, X_test, y_train, y_test = train_test_split(\n",
        "      X, y, test_size=0.1, stratify=y)\n",
        "\n",
        "model = XGBClassifier()\n",
        "scores = cross_val_score(model, X, y, cv=10, scoring='roc_auc')\n",
        "print(scores)\n",
        "model.fit(X_train, y_train)\n",
        "preds = model.predict(X_test)\n",
        "roc_auc_score(preds, y_test)"
      ],
      "metadata": {
        "colab": {
          "base_uri": "https://localhost:8080/"
        },
        "id": "3_yLrODgzY7k",
        "outputId": "6d1a1084-c20f-47c0-a04a-39d14eb2256a"
      },
      "execution_count": null,
      "outputs": [
        {
          "output_type": "stream",
          "name": "stdout",
          "text": [
            "Target\n",
            "0         9362\n",
            "1         9362\n",
            "dtype: int64\n",
            "[0.58817523 0.57498985 0.79173907 0.86093666 0.8745634  0.87504166\n",
            " 0.86489494 0.85271991 0.86092677 0.86018941]\n"
          ]
        },
        {
          "output_type": "execute_result",
          "data": {
            "text/plain": [
              "0.7265142763795055"
            ]
          },
          "metadata": {},
          "execution_count": 7
        }
      ]
    },
    {
      "cell_type": "code",
      "source": [
        "import matplotlib.pyplot as plt \n",
        "plt.bar(range(len(model.feature_importances_)), model.feature_importances_)"
      ],
      "metadata": {
        "colab": {
          "base_uri": "https://localhost:8080/",
          "height": 283
        },
        "id": "3A1wihnpEja7",
        "outputId": "c133a0e8-53ea-47c2-e4e4-be61dc2a81bf"
      },
      "execution_count": null,
      "outputs": [
        {
          "output_type": "execute_result",
          "data": {
            "text/plain": [
              "<BarContainer object of 11 artists>"
            ]
          },
          "metadata": {},
          "execution_count": 8
        },
        {
          "output_type": "display_data",
          "data": {
            "text/plain": [
              "<Figure size 432x288 with 1 Axes>"
            ],
            "image/png": "[encoded data removed]"
          },
          "metadata": {
            "needs_background": "light"
          }
        }
      ]
    },
    {
      "cell_type": "code",
      "source": [
        "probs_pred = model.predict_proba(X_test)\n",
        "confidence = 0.7\n",
        "\n",
        "correct, incorrect, skipped = 0, 0, 0\n",
        "\n",
        "for arr_prob, actual in zip(probs_pred, y_test.values): \n",
        "  prob = arr_prob[np.argmax(arr_prob)]\n",
        "  pred = np.argmax(arr_prob)\n",
        "\n",
        "  if prob > confidence: \n",
        "    if pred == actual[0]: \n",
        "      correct += 1\n",
        "    else: \n",
        "      incorrect += 1\n",
        "  else: \n",
        "    skipped += 1\n",
        "\n",
        "print(correct / (incorrect + correct))\n",
        "print(skipped / len(y_test))"
      ],
      "metadata": {
        "colab": {
          "base_uri": "https://localhost:8080/"
        },
        "id": "5OCx4BhytrMF",
        "outputId": "5686ff5f-1a0a-4714-dcdb-090518f7c185"
      },
      "execution_count": null,
      "outputs": [
        {
          "output_type": "stream",
          "name": "stdout",
          "text": [
            "0.9267886855241264\n",
            "0.6791243993593166\n"
          ]
        }
      ]
    },
    {
      "cell_type": "code",
      "source": [
        "X"
      ],
      "metadata": {
        "id": "5JoxywZ2u3_k",
        "outputId": "6b936178-b4c9-469c-b38f-14997ee234ef",
        "colab": {
          "base_uri": "https://localhost:8080/",
          "height": 424
        }
      },
      "execution_count": null,
      "outputs": [
        {
          "output_type": "execute_result",
          "data": {
            "text/plain": [
              "       Location  Tournament  Series  Court  Round   P1    P2  Surface  \\\n",
              "0            66          25       2      1      0    7  1153        3   \n",
              "1            66          25       2      1      0   18   884        3   \n",
              "2            66          25       2      1      0   55    29        3   \n",
              "3            66          25       2      1      0  113   938        3   \n",
              "4            66          25       2      1      0  141  1385        3   \n",
              "...         ...         ...     ...    ...    ...  ...   ...      ...   \n",
              "18719        56         248       2      1      0  517  1525        2   \n",
              "18720        56         248       2      1      0  310  1019        2   \n",
              "18721        64         244       2      1      1  783  1094        2   \n",
              "18722        80         239       2      1      2  443  1005        3   \n",
              "18723        66         244       2      1      1  481  1370        2   \n",
              "\n",
              "            WRank       LRank       RankD  \n",
              "0        1.000000  112.000000  111.000000  \n",
              "1       35.000000  107.000000   72.000000  \n",
              "2       41.000000  111.000000   70.000000  \n",
              "3      106.000000   28.000000   78.000000  \n",
              "4       76.000000   81.000000    5.000000  \n",
              "...           ...         ...         ...  \n",
              "18719  200.973728   30.127144  170.846584  \n",
              "18720   16.554523  105.497981   88.943458  \n",
              "18721   24.380668   31.477328   14.606377  \n",
              "18722   23.429400   12.728607   23.113386  \n",
              "18723   20.995458  112.949533   91.954075  \n",
              "\n",
              "[18724 rows x 11 columns]"
            ],
            "text/html": [
              "\n",
              "  <div id=\"df-408336a2-0896-4f5e-9c5a-4b3c507ab0c0\">\n",
              "    <div class=\"colab-df-container\">\n",
              "      <div>\n",
              "<style scoped>\n",
              "    .dataframe tbody tr th:only-of-type {\n",
              "        vertical-align: middle;\n",
              "    }\n",
              "\n",
              "    .dataframe tbody tr th {\n",
              "        vertical-align: top;\n",
              "    }\n",
              "\n",
              "    .dataframe thead th {\n",
              "        text-align: right;\n",
              "    }\n",
              "</style>\n",
              "<table border=\"1\" class=\"dataframe\">\n",
              "  <thead>\n",
              "    <tr style=\"text-align: right;\">\n",
              "      <th></th>\n",
              "      <th>Location</th>\n",
              "      <th>Tournament</th>\n",
              "      <th>Series</th>\n",
              "      <th>Court</th>\n",
              "      <th>Round</th>\n",
              "      <th>P1</th>\n",
              "      <th>P2</th>\n",
              "      <th>Surface</th>\n",
              "      <th>WRank</th>\n",
              "      <th>LRank</th>\n",
              "      <th>RankD</th>\n",
              "    </tr>\n",
              "  </thead>\n",
              "  <tbody>\n",
              "    <tr>\n",
              "      <th>0</th>\n",
              "      <td>66</td>\n",
              "      <td>25</td>\n",
              "      <td>2</td>\n",
              "      <td>1</td>\n",
              "      <td>0</td>\n",
              "      <td>7</td>\n",
              "      <td>1153</td>\n",
              "      <td>3</td>\n",
              "      <td>1.000000</td>\n",
              "      <td>112.000000</td>\n",
              "      <td>111.000000</td>\n",
              "    </tr>\n",
              "    <tr>\n",
              "      <th>1</th>\n",
              "      <td>66</td>\n",
              "      <td>25</td>\n",
              "      <td>2</td>\n",
              "      <td>1</td>\n",
              "      <td>0</td>\n",
              "      <td>18</td>\n",
              "      <td>884</td>\n",
              "      <td>3</td>\n",
              "      <td>35.000000</td>\n",
              "      <td>107.000000</td>\n",
              "      <td>72.000000</td>\n",
              "    </tr>\n",
              "    <tr>\n",
              "      <th>2</th>\n",
              "      <td>66</td>\n",
              "      <td>25</td>\n",
              "      <td>2</td>\n",
              "      <td>1</td>\n",
              "      <td>0</td>\n",
              "      <td>55</td>\n",
              "      <td>29</td>\n",
              "      <td>3</td>\n",
              "      <td>41.000000</td>\n",
              "      <td>111.000000</td>\n",
              "      <td>70.000000</td>\n",
              "    </tr>\n",
              "    <tr>\n",
              "      <th>3</th>\n",
              "      <td>66</td>\n",
              "      <td>25</td>\n",
              "      <td>2</td>\n",
              "      <td>1</td>\n",
              "      <td>0</td>\n",
              "      <td>113</td>\n",
              "      <td>938</td>\n",
              "      <td>3</td>\n",
              "      <td>106.000000</td>\n",
              "      <td>28.000000</td>\n",
              "      <td>78.000000</td>\n",
              "    </tr>\n",
              "    <tr>\n",
              "      <th>4</th>\n",
              "      <td>66</td>\n",
              "      <td>25</td>\n",
              "      <td>2</td>\n",
              "      <td>1</td>\n",
              "      <td>0</td>\n",
              "      <td>141</td>\n",
              "      <td>1385</td>\n",
              "      <td>3</td>\n",
              "      <td>76.000000</td>\n",
              "      <td>81.000000</td>\n",
              "      <td>5.000000</td>\n",
              "    </tr>\n",
              "    <tr>\n",
              "      <th>...</th>\n",
              "      <td>...</td>\n",
              "      <td>...</td>\n",
              "      <td>...</td>\n",
              "      <td>...</td>\n",
              "      <td>...</td>\n",
              "      <td>...</td>\n",
              "      <td>...</td>\n",
              "      <td>...</td>\n",
              "      <td>...</td>\n",
              "      <td>...</td>\n",
              "      <td>...</td>\n",
              "    </tr>\n",
              "    <tr>\n",
              "      <th>18719</th>\n",
              "      <td>56</td>\n",
              "      <td>248</td>\n",
              "      <td>2</td>\n",
              "      <td>1</td>\n",
              "      <td>0</td>\n",
              "      <td>517</td>\n",
              "      <td>1525</td>\n",
              "      <td>2</td>\n",
              "      <td>200.973728</td>\n",
              "      <td>30.127144</td>\n",
              "      <td>170.846584</td>\n",
              "    </tr>\n",
              "    <tr>\n",
              "      <th>18720</th>\n",
              "      <td>56</td>\n",
              "      <td>248</td>\n",
              "      <td>2</td>\n",
              "      <td>1</td>\n",
              "      <td>0</td>\n",
              "      <td>310</td>\n",
              "      <td>1019</td>\n",
              "      <td>2</td>\n",
              "      <td>16.554523</td>\n",
              "      <td>105.497981</td>\n",
              "      <td>88.943458</td>\n",
              "    </tr>\n",
              "    <tr>\n",
              "      <th>18721</th>\n",
              "      <td>64</td>\n",
              "      <td>244</td>\n",
              "      <td>2</td>\n",
              "      <td>1</td>\n",
              "      <td>1</td>\n",
              "      <td>783</td>\n",
              "      <td>1094</td>\n",
              "      <td>2</td>\n",
              "      <td>24.380668</td>\n",
              "      <td>31.477328</td>\n",
              "      <td>14.606377</td>\n",
              "    </tr>\n",
              "    <tr>\n",
              "      <th>18722</th>\n",
              "      <td>80</td>\n",
              "      <td>239</td>\n",
              "      <td>2</td>\n",
              "      <td>1</td>\n",
              "      <td>2</td>\n",
              "      <td>443</td>\n",
              "      <td>1005</td>\n",
              "      <td>3</td>\n",
              "      <td>23.429400</td>\n",
              "      <td>12.728607</td>\n",
              "      <td>23.113386</td>\n",
              "    </tr>\n",
              "    <tr>\n",
              "      <th>18723</th>\n",
              "      <td>66</td>\n",
              "      <td>244</td>\n",
              "      <td>2</td>\n",
              "      <td>1</td>\n",
              "      <td>1</td>\n",
              "      <td>481</td>\n",
              "      <td>1370</td>\n",
              "      <td>2</td>\n",
              "      <td>20.995458</td>\n",
              "      <td>112.949533</td>\n",
              "      <td>91.954075</td>\n",
              "    </tr>\n",
              "  </tbody>\n",
              "</table>\n",
              "<p>18724 rows × 11 columns</p>\n",
              "</div>\n",
              "      <button class=\"colab-df-convert\" onclick=\"convertToInteractive('df-408336a2-0896-4f5e-9c5a-4b3c507ab0c0')\"\n",
              "              title=\"Convert this dataframe to an interactive table.\"\n",
              "              style=\"display:none;\">\n",
              "        \n",
              "  <svg xmlns=\"http://www.w3.org/2000/svg\" height=\"24px\"viewBox=\"0 0 24 24\"\n",
              "       width=\"24px\">\n",
              "    <path d=\"M0 0h24v24H0V0z\" fill=\"none\"/>\n",
              "    <path d=\"M18.56 5.44l.94 2.06.94-2.06 2.06-.94-2.06-.94-.94-2.06-.94 2.06-2.06.94zm-11 1L8.5 8.5l.94-2.06 2.06-.94-2.06-.94L8.5 2.5l-.94 2.06-2.06.94zm10 10l.94 2.06.94-2.06 2.06-.94-2.06-.94-.94-2.06-.94 2.06-2.06.94z\"/><path d=\"M17.41 7.96l-1.37-1.37c-.4-.4-.92-.59-1.43-.59-.52 0-1.04.2-1.43.59L10.3 9.45l-7.72 7.72c-.78.78-.78 2.05 0 2.83L4 21.41c.39.39.9.59 1.41.59.51 0 1.02-.2 1.41-.59l7.78-7.78 2.81-2.81c.8-.78.8-2.07 0-2.86zM5.41 20L4 18.59l7.72-7.72 1.47 1.35L5.41 20z\"/>\n",
              "  </svg>\n",
              "      </button>\n",
              "      \n",
              "  <style>\n",
              "    .colab-df-container {\n",
              "      display:flex;\n",
              "      flex-wrap:wrap;\n",
              "      gap: 12px;\n",
              "    }\n",
              "\n",
              "    .colab-df-convert {\n",
              "      background-color: #E8F0FE;\n",
              "      border: none;\n",
              "      border-radius: 50%;\n",
              "      cursor: pointer;\n",
              "      display: none;\n",
              "      fill: #1967D2;\n",
              "      height: 32px;\n",
              "      padding: 0 0 0 0;\n",
              "      width: 32px;\n",
              "    }\n",
              "\n",
              "    .colab-df-convert:hover {\n",
              "      background-color: #E2EBFA;\n",
              "      box-shadow: 0px 1px 2px rgba(60, 64, 67, 0.3), 0px 1px 3px 1px rgba(60, 64, 67, 0.15);\n",
              "      fill: #174EA6;\n",
              "    }\n",
              "\n",
              "    [theme=dark] .colab-df-convert {\n",
              "      background-color: #3B4455;\n",
              "      fill: #D2E3FC;\n",
              "    }\n",
              "\n",
              "    [theme=dark] .colab-df-convert:hover {\n",
              "      background-color: #434B5C;\n",
              "      box-shadow: 0px 1px 3px 1px rgba(0, 0, 0, 0.15);\n",
              "      filter: drop-shadow(0px 1px 2px rgba(0, 0, 0, 0.3));\n",
              "      fill: #FFFFFF;\n",
              "    }\n",
              "  </style>\n",
              "\n",
              "      <script>\n",
              "        const buttonEl =\n",
              "          document.querySelector('#df-408336a2-0896-4f5e-9c5a-4b3c507ab0c0 button.colab-df-convert');\n",
              "        buttonEl.style.display =\n",
              "          google.colab.kernel.accessAllowed ? 'block' : 'none';\n",
              "\n",
              "        async function convertToInteractive(key) {\n",
              "          const element = document.querySelector('#df-408336a2-0896-4f5e-9c5a-4b3c507ab0c0');\n",
              "          const dataTable =\n",
              "            await google.colab.kernel.invokeFunction('convertToInteractive',\n",
              "                                                     [key], {});\n",
              "          if (!dataTable) return;\n",
              "\n",
              "          const docLinkHtml = 'Like what you see? Visit the ' +\n",
              "            '<a target=\"_blank\" href=https://colab.research.google.com/notebooks/data_table.ipynb>data table notebook</a>'\n",
              "            + ' to learn more about interactive tables.';\n",
              "          element.innerHTML = '';\n",
              "          dataTable['output_type'] = 'display_data';\n",
              "          await google.colab.output.renderOutput(dataTable, element);\n",
              "          const docLink = document.createElement('div');\n",
              "          docLink.innerHTML = docLinkHtml;\n",
              "          element.appendChild(docLink);\n",
              "        }\n",
              "      </script>\n",
              "    </div>\n",
              "  </div>\n",
              "  "
            ]
          },
          "metadata": {},
          "execution_count": 10
        }
      ]
    }
  ]
}