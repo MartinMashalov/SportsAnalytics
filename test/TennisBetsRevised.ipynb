{
  "cells": [
    {
      "cell_type": "code",
      "execution_count": null,
      "metadata": {
        "id": "qieNffuyQrAy"
      },
      "outputs": [],
      "source": [
        "import pandas as pd \n",
        "import numpy as np\n",
        "import random\n",
        "from xgboost import XGBClassifier\n",
        "from sklearn.metrics import balanced_accuracy_score, accuracy_score, f1_score\n",
        "from sklearn.model_selection import RandomizedSearchCV\n",
        "\n",
        "import warnings\n",
        "warnings.filterwarnings(\"ignore\")\n",
        "\n",
        "# directories to download data from \n",
        "fileClearedData = \"dataCleared (1).csv\"\n",
        "filePlayers = \"players (2).csv\"\n",
        "\n",
        "# proportion of the dataset dedicated to the training\n",
        "trainSize = 0.95\n",
        "\n",
        "# minimum probability of a player winning over an other to bet\n",
        "minproba = 0.55\n",
        "# ,inimum amount of game of each player to bet\n",
        "minnbgames = 5\n",
        "# the earnings are used to link the probability of a player winning and the odds\n",
        "earnings = 1"
      ]
    },
    {
      "cell_type": "code",
      "execution_count": null,
      "metadata": {
        "id": "PjBx5IITQrA0",
        "outputId": "5d2c5ab7-7b5b-4b87-d1f8-6215b86411f5",
        "colab": {
          "base_uri": "https://localhost:8080/",
          "height": 250
        }
      },
      "outputs": [
        {
          "output_type": "execute_result",
          "data": {
            "text/plain": [
              "        Winner           Loser     WRank     LRank  Winrate winner  \\\n",
              "0   Dosedel S.     Ljubicic I.  0.015873  0.012987        0.379310   \n",
              "1   Enqvist T.      Clement A.  0.200000  0.017857        0.543651   \n",
              "2    Escude N.   Baccanello P.  0.025000  0.001527        0.582888   \n",
              "3   Federer R.  Knippschild J.  0.015385  0.011494        0.827393   \n",
              "4  Fromberg R.   Woodbridge T.  0.012346  0.005051        0.387755   \n",
              "\n",
              "   Winrate loser  Nb Game winner  Nb Game loser  Result win  Result loose  \n",
              "0       0.594761            58.0          649.0           1             0  \n",
              "1       0.500000           252.0          508.0           1             0  \n",
              "2       0.222222           187.0            9.0           1             0  \n",
              "3       0.333333          1431.0           42.0           1             0  \n",
              "4       0.400000            49.0           20.0           1             0  "
            ],
            "text/html": [
              "\n",
              "  <div id=\"df-97bd3eac-231f-4519-9d0f-c9a4644f5984\">\n",
              "    <div class=\"colab-df-container\">\n",
              "      <div>\n",
              "<style scoped>\n",
              "    .dataframe tbody tr th:only-of-type {\n",
              "        vertical-align: middle;\n",
              "    }\n",
              "\n",
              "    .dataframe tbody tr th {\n",
              "        vertical-align: top;\n",
              "    }\n",
              "\n",
              "    .dataframe thead th {\n",
              "        text-align: right;\n",
              "    }\n",
              "</style>\n",
              "<table border=\"1\" class=\"dataframe\">\n",
              "  <thead>\n",
              "    <tr style=\"text-align: right;\">\n",
              "      <th></th>\n",
              "      <th>Winner</th>\n",
              "      <th>Loser</th>\n",
              "      <th>WRank</th>\n",
              "      <th>LRank</th>\n",
              "      <th>Winrate winner</th>\n",
              "      <th>Winrate loser</th>\n",
              "      <th>Nb Game winner</th>\n",
              "      <th>Nb Game loser</th>\n",
              "      <th>Result win</th>\n",
              "      <th>Result loose</th>\n",
              "    </tr>\n",
              "  </thead>\n",
              "  <tbody>\n",
              "    <tr>\n",
              "      <th>0</th>\n",
              "      <td>Dosedel S.</td>\n",
              "      <td>Ljubicic I.</td>\n",
              "      <td>0.015873</td>\n",
              "      <td>0.012987</td>\n",
              "      <td>0.379310</td>\n",
              "      <td>0.594761</td>\n",
              "      <td>58.0</td>\n",
              "      <td>649.0</td>\n",
              "      <td>1</td>\n",
              "      <td>0</td>\n",
              "    </tr>\n",
              "    <tr>\n",
              "      <th>1</th>\n",
              "      <td>Enqvist T.</td>\n",
              "      <td>Clement A.</td>\n",
              "      <td>0.200000</td>\n",
              "      <td>0.017857</td>\n",
              "      <td>0.543651</td>\n",
              "      <td>0.500000</td>\n",
              "      <td>252.0</td>\n",
              "      <td>508.0</td>\n",
              "      <td>1</td>\n",
              "      <td>0</td>\n",
              "    </tr>\n",
              "    <tr>\n",
              "      <th>2</th>\n",
              "      <td>Escude N.</td>\n",
              "      <td>Baccanello P.</td>\n",
              "      <td>0.025000</td>\n",
              "      <td>0.001527</td>\n",
              "      <td>0.582888</td>\n",
              "      <td>0.222222</td>\n",
              "      <td>187.0</td>\n",
              "      <td>9.0</td>\n",
              "      <td>1</td>\n",
              "      <td>0</td>\n",
              "    </tr>\n",
              "    <tr>\n",
              "      <th>3</th>\n",
              "      <td>Federer R.</td>\n",
              "      <td>Knippschild J.</td>\n",
              "      <td>0.015385</td>\n",
              "      <td>0.011494</td>\n",
              "      <td>0.827393</td>\n",
              "      <td>0.333333</td>\n",
              "      <td>1431.0</td>\n",
              "      <td>42.0</td>\n",
              "      <td>1</td>\n",
              "      <td>0</td>\n",
              "    </tr>\n",
              "    <tr>\n",
              "      <th>4</th>\n",
              "      <td>Fromberg R.</td>\n",
              "      <td>Woodbridge T.</td>\n",
              "      <td>0.012346</td>\n",
              "      <td>0.005051</td>\n",
              "      <td>0.387755</td>\n",
              "      <td>0.400000</td>\n",
              "      <td>49.0</td>\n",
              "      <td>20.0</td>\n",
              "      <td>1</td>\n",
              "      <td>0</td>\n",
              "    </tr>\n",
              "  </tbody>\n",
              "</table>\n",
              "</div>\n",
              "      <button class=\"colab-df-convert\" onclick=\"convertToInteractive('df-97bd3eac-231f-4519-9d0f-c9a4644f5984')\"\n",
              "              title=\"Convert this dataframe to an interactive table.\"\n",
              "              style=\"display:none;\">\n",
              "        \n",
              "  <svg xmlns=\"http://www.w3.org/2000/svg\" height=\"24px\"viewBox=\"0 0 24 24\"\n",
              "       width=\"24px\">\n",
              "    <path d=\"M0 0h24v24H0V0z\" fill=\"none\"/>\n",
              "    <path d=\"M18.56 5.44l.94 2.06.94-2.06 2.06-.94-2.06-.94-.94-2.06-.94 2.06-2.06.94zm-11 1L8.5 8.5l.94-2.06 2.06-.94-2.06-.94L8.5 2.5l-.94 2.06-2.06.94zm10 10l.94 2.06.94-2.06 2.06-.94-2.06-.94-.94-2.06-.94 2.06-2.06.94z\"/><path d=\"M17.41 7.96l-1.37-1.37c-.4-.4-.92-.59-1.43-.59-.52 0-1.04.2-1.43.59L10.3 9.45l-7.72 7.72c-.78.78-.78 2.05 0 2.83L4 21.41c.39.39.9.59 1.41.59.51 0 1.02-.2 1.41-.59l7.78-7.78 2.81-2.81c.8-.78.8-2.07 0-2.86zM5.41 20L4 18.59l7.72-7.72 1.47 1.35L5.41 20z\"/>\n",
              "  </svg>\n",
              "      </button>\n",
              "      \n",
              "  <style>\n",
              "    .colab-df-container {\n",
              "      display:flex;\n",
              "      flex-wrap:wrap;\n",
              "      gap: 12px;\n",
              "    }\n",
              "\n",
              "    .colab-df-convert {\n",
              "      background-color: #E8F0FE;\n",
              "      border: none;\n",
              "      border-radius: 50%;\n",
              "      cursor: pointer;\n",
              "      display: none;\n",
              "      fill: #1967D2;\n",
              "      height: 32px;\n",
              "      padding: 0 0 0 0;\n",
              "      width: 32px;\n",
              "    }\n",
              "\n",
              "    .colab-df-convert:hover {\n",
              "      background-color: #E2EBFA;\n",
              "      box-shadow: 0px 1px 2px rgba(60, 64, 67, 0.3), 0px 1px 3px 1px rgba(60, 64, 67, 0.15);\n",
              "      fill: #174EA6;\n",
              "    }\n",
              "\n",
              "    [theme=dark] .colab-df-convert {\n",
              "      background-color: #3B4455;\n",
              "      fill: #D2E3FC;\n",
              "    }\n",
              "\n",
              "    [theme=dark] .colab-df-convert:hover {\n",
              "      background-color: #434B5C;\n",
              "      box-shadow: 0px 1px 3px 1px rgba(0, 0, 0, 0.15);\n",
              "      filter: drop-shadow(0px 1px 2px rgba(0, 0, 0, 0.3));\n",
              "      fill: #FFFFFF;\n",
              "    }\n",
              "  </style>\n",
              "\n",
              "      <script>\n",
              "        const buttonEl =\n",
              "          document.querySelector('#df-97bd3eac-231f-4519-9d0f-c9a4644f5984 button.colab-df-convert');\n",
              "        buttonEl.style.display =\n",
              "          google.colab.kernel.accessAllowed ? 'block' : 'none';\n",
              "\n",
              "        async function convertToInteractive(key) {\n",
              "          const element = document.querySelector('#df-97bd3eac-231f-4519-9d0f-c9a4644f5984');\n",
              "          const dataTable =\n",
              "            await google.colab.kernel.invokeFunction('convertToInteractive',\n",
              "                                                     [key], {});\n",
              "          if (!dataTable) return;\n",
              "\n",
              "          const docLinkHtml = 'Like what you see? Visit the ' +\n",
              "            '<a target=\"_blank\" href=https://colab.research.google.com/notebooks/data_table.ipynb>data table notebook</a>'\n",
              "            + ' to learn more about interactive tables.';\n",
              "          element.innerHTML = '';\n",
              "          dataTable['output_type'] = 'display_data';\n",
              "          await google.colab.output.renderOutput(dataTable, element);\n",
              "          const docLink = document.createElement('div');\n",
              "          docLink.innerHTML = docLinkHtml;\n",
              "          element.appendChild(docLink);\n",
              "        }\n",
              "      </script>\n",
              "    </div>\n",
              "  </div>\n",
              "  "
            ]
          },
          "metadata": {},
          "execution_count": 65
        }
      ],
      "source": [
        "#Read the files\n",
        "clearedData = pd.read_csv(fileClearedData) \n",
        "players = pd.read_csv(filePlayers)\n",
        "clearedData.drop(['Surface'], axis=1, inplace=True)\n",
        "clearedData.head()"
      ]
    },
    {
      "cell_type": "code",
      "execution_count": null,
      "metadata": {
        "id": "9eAlzAIBQrA0",
        "colab": {
          "base_uri": "https://localhost:8080/"
        },
        "outputId": "d351b796-065f-4137-8b3a-4d269aa3e7bb"
      },
      "outputs": [
        {
          "output_type": "stream",
          "name": "stdout",
          "text": [
            "(116409, 6) (6127, 6)\n"
          ]
        }
      ],
      "source": [
        "# take the dataset and reverse each game (reverse the winner and the looser) to double the size of the dataset\n",
        "dataM = clearedData.values\n",
        "def doubleGame(M,trainSize):\n",
        "    np.random.shuffle(M)\n",
        "    M2 = []\n",
        "    for match in M:\n",
        "        reversematch = [match[1],match[0],match[3],match[2],match[5],match[4],match[7],match[6],match[9],match[8]]   \n",
        "        M2.append(match)\n",
        "        M2.append(reversematch)\n",
        "    Train = np.array(M2[:int(len(M2)*trainSize)])\n",
        "    Test = np.array(M2[int(len(M2)*trainSize):])\n",
        "    alldata = np.concatenate((Train, Test), axis=0)\n",
        "    np.random.shuffle(Train)\n",
        "    np.random.shuffle(Test)\n",
        "    \n",
        "    #TrainX = inputs, TrainY = outputs\n",
        "    TrainX = np.transpose(np.transpose(Train)[2:8])\n",
        "    TrainY = np.transpose(np.transpose(Train)[8:])\n",
        " \n",
        "\n",
        "    TestX = np.transpose(np.transpose(Test)[2:8])\n",
        "    TestY = np.transpose(np.transpose(Test)[8:])\n",
        "    return TrainX, TrainY, TestX, TestY, alldata\n",
        "\n",
        "X_train, y_train, X_test, y_test, alldata = doubleGame(dataM,trainSize)\n",
        "print(X_train.shape, X_test.shape)"
      ]
    },
    {
      "cell_type": "code",
      "source": [
        "model1 = XGBClassifier(n_estimators=150, max_depth=4, learning_rate=0.11)\n",
        "pred_idx: int = 1\n",
        "model1.fit(X_train, y_train[:, pred_idx])"
      ],
      "metadata": {
        "id": "2vix0c_cV1RD",
        "outputId": "de4f29fe-74cc-4f34-ba27-c03846809432",
        "colab": {
          "base_uri": "https://localhost:8080/"
        }
      },
      "execution_count": null,
      "outputs": [
        {
          "output_type": "execute_result",
          "data": {
            "text/plain": [
              "XGBClassifier(learning_rate=0.11, max_depth=4, n_estimators=150)"
            ]
          },
          "metadata": {},
          "execution_count": 67
        }
      ]
    },
    {
      "cell_type": "code",
      "source": [
        "preds1 = model1.predict(X_test)\n",
        "print(balanced_accuracy_score(list(preds1), list(y_test[:, pred_idx])))"
      ],
      "metadata": {
        "id": "cOgE3VW_WO9g",
        "outputId": "420ca701-9a83-4de5-8175-698e157147d5",
        "colab": {
          "base_uri": "https://localhost:8080/"
        }
      },
      "execution_count": null,
      "outputs": [
        {
          "output_type": "stream",
          "name": "stdout",
          "text": [
            "0.6920205260725106\n"
          ]
        }
      ]
    },
    {
      "cell_type": "code",
      "source": [
        "# check prob and skip rate\n",
        "correct, incorrect, skipped = 0, 0, 0\n",
        "confidence = 0.8\n",
        "\n",
        "preds_prob = model1.predict_proba(X_test)\n",
        "for pred_arr, actual in zip(preds_prob, list(y_test[:, pred_idx])):\n",
        "  # highest probability prediction\n",
        "  pred = np.argmax(pred_arr)\n",
        "  prob = pred_arr[[pred]]\n",
        "\n",
        "  if prob > confidence:\n",
        "    if pred == actual: \n",
        "      correct += 1\n",
        "    else: \n",
        "      incorrect += 1 \n",
        "  else: \n",
        "    skipped += 1\n",
        "\n",
        "print(correct / (correct + incorrect))\n",
        "print(skipped / (len(X_test)))"
      ],
      "metadata": {
        "colab": {
          "base_uri": "https://localhost:8080/"
        },
        "id": "SdX0R67DnrhB",
        "outputId": "c6b66bcf-82a3-4d98-d142-e76ec804e5d2"
      },
      "execution_count": null,
      "outputs": [
        {
          "output_type": "stream",
          "name": "stdout",
          "text": [
            "0.8741554054054054\n",
            "0.8067569773135302\n"
          ]
        }
      ]
    },
    {
      "cell_type": "code",
      "execution_count": null,
      "metadata": {
        "id": "7u9QA8OtQrA2"
      },
      "outputs": [],
      "source": [
        "class NotEnoughGame(Exception):\n",
        "    \"\"\"One of the player need to play more for the data to be usefull\"\"\"\n",
        "    pass\n",
        "\n",
        "def prediction(model, p1, p2, surface, minproba, minnbgames, earnings):\n",
        "    rankP1 = float(players.loc[players['Name'] == p1, \"Rank\"])\n",
        "    rankP2 = float(players.loc[players['Name'] == p2, \"Rank\"])\n",
        "    winrateP1 = float(players.loc[players['Name'] == p1, \"Winrate\"])\n",
        "    winrateP2 = float(players.loc[players['Name'] == p2, \"Winrate\"])\n",
        "    nbGameP1 = float(players.loc[players['Name'] == p1, \"NbGames\"])\n",
        "    nbGameP2 = float(players.loc[players['Name'] == p2, \"NbGames\"])\n",
        "    \n",
        "    if (nbGameP1 < minnbgames) or (nbGameP2 < minnbgames):\n",
        "        raise NotEnoughGame\n",
        "    \n",
        "    dataPredict = np.array([1/rankP1, 1/rankP2, winrateP1, winrateP2, nbGameP1, nbGameP2])\n",
        "    res = model.predict_proba(np.array([dataPredict]))[0]\n",
        "    \n",
        "    print(p1, \"- rank\", rankP1, \"- winrate\", winrateP1, \"- nbGames\", nbGameP1)\n",
        "    print(p2, \"- rank\", rankP2, \"- winrate\", winrateP2, \"- nbGames\", nbGameP2)\n",
        "    print(\"Prediction :\", res)\n",
        "    if (res[0] >= minproba):\n",
        "        print(\"Bet on\", p1, \"if odds >\", earnings/res[0])\n",
        "    elif (res[1] >= minproba):\n",
        "        print(\"Bet on\", p2, \"if odds >\", earnings/res[1])\n",
        "    else:\n",
        "        print(\"Do not bet\")\n",
        "    return res"
      ]
    },
    {
      "cell_type": "code",
      "execution_count": null,
      "metadata": {
        "id": "HaKXxrs4QrA3",
        "colab": {
          "base_uri": "https://localhost:8080/"
        },
        "outputId": "0c05a3ad-4822-4eb7-c3f3-a5a834ae615e"
      },
      "outputs": [
        {
          "output_type": "stream",
          "name": "stdout",
          "text": [
            "Djokovic N. - rank 8.0 - winrate 0.8374679213002566 - nbGames 1169.0\n",
            "Nadal R. - rank 2.0 - winrate 0.826645264847512 - nbGames 1246.0\n",
            "Prediction : [0.45057148 0.5494285 ]\n",
            "Do not bet\n"
          ]
        },
        {
          "output_type": "execute_result",
          "data": {
            "text/plain": [
              "array([0.45057148, 0.5494285 ], dtype=float32)"
            ]
          },
          "metadata": {},
          "execution_count": 81
        }
      ],
      "source": [
        "#I predict between p1 and p2 which player i should bet (or not bet at all)\n",
        "p1 = 'Djokovic N.'\n",
        "p2 = 'Nadal R.'\n",
        "surface: int = 1\n",
        "\n",
        "prediction(model1, p1, p2, surface, minproba, minnbgames, earnings)"
      ]
    }
  ],
  "metadata": {
    "kernelspec": {
      "display_name": "Python 3",
      "language": "python",
      "name": "python3"
    },
    "language_info": {
      "codemirror_mode": {
        "name": "ipython",
        "version": 3
      },
      "file_extension": ".py",
      "mimetype": "text/x-python",
      "name": "python",
      "nbconvert_exporter": "python",
      "pygments_lexer": "ipython3",
      "version": "3.7.4"
    },
    "colab": {
      "provenance": []
    }
  },
  "nbformat": 4,
  "nbformat_minor": 0
}